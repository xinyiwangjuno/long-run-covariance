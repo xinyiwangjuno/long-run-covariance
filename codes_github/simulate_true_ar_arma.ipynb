{
 "cells": [
  {
   "cell_type": "code",
   "execution_count": 8,
   "metadata": {},
   "outputs": [],
   "source": [
    "import numpy as np\n",
    "import scipy.interpolate as si\n",
    "import matplotlib.pyplot as plt\n",
    "import pandas as pd\n",
    "from scipy.integrate import quad\n",
    "from skfda.preprocessing.dim_reduction import FPCA\n",
    "import torch\n",
    "import torch.nn as nndata\n",
    "import torch.optim as optim\n",
    "from models_HLS import *\n",
    "from data_generation_new import *\n",
    "from utils import *\n",
    "from training_HLS import *"
   ]
  },
  {
   "cell_type": "code",
   "execution_count": 9,
   "metadata": {},
   "outputs": [],
   "source": [
    "def estimate_empirical_truth_farma(\n",
    "    N: int,\n",
    "    d_large: int,\n",
    "    J: int,\n",
    "    n_components: int,\n",
    "    Phi1=None,\n",
    "    Phi2=None,\n",
    "    Theta1=None,\n",
    "    Theta2=None,\n",
    "    Sigma=None,\n",
    "    band: int = None,\n",
    "    kern_type: str = \"Bartlett\",\n",
    "    seed_offset: int = 0\n",
    "):\n",
    "    \"\"\"\n",
    "    Estimate empirical long-run covariance from simulated FAR(2) or FARMA(2,2) data.\n",
    "\n",
    "    Parameters:\n",
    "        N: number of simulations\n",
    "        d_large: number of time points per simulation\n",
    "        J: number of basis functions\n",
    "        n_components: number of FPCA components\n",
    "        Phi1, Phi2: AR operators\n",
    "        Theta1, Theta2: MA operators (if None, assumes FAR(2))\n",
    "        Sigma: std devs for white noise\n",
    "        band: bandwidth for kernel estimation (if None, uses rule-of-thumb)\n",
    "        kern_type: kernel type ('Bartlett', 'FlatTop', etc.)\n",
    "        seed_offset: random seed offset\n",
    "\n",
    "    Returns:\n",
    "        np.ndarray: averaged long-run covariance matrix (n_components x n_components)\n",
    "    \"\"\"\n",
    "    if band is None:\n",
    "        band = round(d_large ** (1 / 3))\n",
    "\n",
    "    cov_matrices = []\n",
    "\n",
    "    for i in range(N):\n",
    "        seed = seed_offset + i\n",
    "\n",
    "        if Theta1 is None and Theta2 is None:\n",
    "            # FAR(2)\n",
    "            X_coef, F_basis, fd_basis = generate_far2_coef(\n",
    "                d=d_large, J=J, Psi1=Phi1, Psi2=Phi2, Sigma=Sigma, seed=seed\n",
    "            )\n",
    "        else:\n",
    "            # FARMA(2,2)\n",
    "            X_coef, F_basis, fd_basis = generate_farma22_coef(\n",
    "                d=d_large, J=J,\n",
    "                Phi1=Phi1, Phi2=Phi2,\n",
    "                Theta1=Theta1, Theta2=Theta2,\n",
    "                Sigma=Sigma, seed=seed\n",
    "            )\n",
    "\n",
    "        # FPCA\n",
    "        fpca_fbasis = FPCA(n_components=n_components)\n",
    "        fpca_fbasis.fit(fd_basis)\n",
    "        scores = fpca_fbasis.transform(fd_basis)\n",
    "\n",
    "        # Center the scores\n",
    "        scores_centered = scores - scores.mean(axis=0, keepdims=True)\n",
    "        X = torch.tensor(scores_centered, dtype=torch.float32)\n",
    "\n",
    "        # Long-run covariance\n",
    "        cov_weighted, _, _ = cov_l(X, porder=0, band=band, kern_type=kern_type)\n",
    "        cov_matrices.append(cov_weighted.numpy())\n",
    "\n",
    "    empirical_truth = np.mean(np.stack(cov_matrices, axis=0), axis=0)\n",
    "    return empirical_truth\n"
   ]
  },
  {
   "cell_type": "code",
   "execution_count": 10,
   "metadata": {},
   "outputs": [
    {
     "name": "stdout",
     "output_type": "stream",
     "text": [
      "316\n",
      "norms of the basis are: [1. 1. 1. 1. 1.]\n"
     ]
    },
    {
     "name": "stderr",
     "output_type": "stream",
     "text": [
      "/opt/anaconda3/envs/alex_env/lib/python3.10/site-packages/skfda/preprocessing/dim_reduction/_fpca.py:231: RuntimeWarning: divide by zero encountered in matmul\n",
      "  final_matrix = X.coefficients @ np.transpose(l_inv_j_t)\n",
      "/opt/anaconda3/envs/alex_env/lib/python3.10/site-packages/skfda/preprocessing/dim_reduction/_fpca.py:231: RuntimeWarning: overflow encountered in matmul\n",
      "  final_matrix = X.coefficients @ np.transpose(l_inv_j_t)\n",
      "/opt/anaconda3/envs/alex_env/lib/python3.10/site-packages/skfda/preprocessing/dim_reduction/_fpca.py:231: RuntimeWarning: invalid value encountered in matmul\n",
      "  final_matrix = X.coefficients @ np.transpose(l_inv_j_t)\n",
      "/opt/anaconda3/envs/alex_env/lib/python3.10/site-packages/skfda/preprocessing/dim_reduction/_fpca.py:281: RuntimeWarning: divide by zero encountered in matmul\n",
      "  X.coefficients @ self._j_matrix\n",
      "/opt/anaconda3/envs/alex_env/lib/python3.10/site-packages/skfda/preprocessing/dim_reduction/_fpca.py:281: RuntimeWarning: overflow encountered in matmul\n",
      "  X.coefficients @ self._j_matrix\n",
      "/opt/anaconda3/envs/alex_env/lib/python3.10/site-packages/skfda/preprocessing/dim_reduction/_fpca.py:281: RuntimeWarning: invalid value encountered in matmul\n",
      "  X.coefficients @ self._j_matrix\n"
     ]
    },
    {
     "name": "stdout",
     "output_type": "stream",
     "text": [
      "norms of the basis are: [1. 1. 1. 1. 1.]\n"
     ]
    },
    {
     "name": "stderr",
     "output_type": "stream",
     "text": [
      "/opt/anaconda3/envs/alex_env/lib/python3.10/site-packages/skfda/preprocessing/dim_reduction/_fpca.py:231: RuntimeWarning: divide by zero encountered in matmul\n",
      "  final_matrix = X.coefficients @ np.transpose(l_inv_j_t)\n",
      "/opt/anaconda3/envs/alex_env/lib/python3.10/site-packages/skfda/preprocessing/dim_reduction/_fpca.py:231: RuntimeWarning: overflow encountered in matmul\n",
      "  final_matrix = X.coefficients @ np.transpose(l_inv_j_t)\n",
      "/opt/anaconda3/envs/alex_env/lib/python3.10/site-packages/skfda/preprocessing/dim_reduction/_fpca.py:231: RuntimeWarning: invalid value encountered in matmul\n",
      "  final_matrix = X.coefficients @ np.transpose(l_inv_j_t)\n",
      "/opt/anaconda3/envs/alex_env/lib/python3.10/site-packages/skfda/preprocessing/dim_reduction/_fpca.py:281: RuntimeWarning: divide by zero encountered in matmul\n",
      "  X.coefficients @ self._j_matrix\n",
      "/opt/anaconda3/envs/alex_env/lib/python3.10/site-packages/skfda/preprocessing/dim_reduction/_fpca.py:281: RuntimeWarning: overflow encountered in matmul\n",
      "  X.coefficients @ self._j_matrix\n",
      "/opt/anaconda3/envs/alex_env/lib/python3.10/site-packages/skfda/preprocessing/dim_reduction/_fpca.py:281: RuntimeWarning: invalid value encountered in matmul\n",
      "  X.coefficients @ self._j_matrix\n"
     ]
    },
    {
     "name": "stdout",
     "output_type": "stream",
     "text": [
      "norms of the basis are: [1. 1. 1. 1. 1.]\n"
     ]
    },
    {
     "name": "stderr",
     "output_type": "stream",
     "text": [
      "/opt/anaconda3/envs/alex_env/lib/python3.10/site-packages/skfda/preprocessing/dim_reduction/_fpca.py:231: RuntimeWarning: divide by zero encountered in matmul\n",
      "  final_matrix = X.coefficients @ np.transpose(l_inv_j_t)\n",
      "/opt/anaconda3/envs/alex_env/lib/python3.10/site-packages/skfda/preprocessing/dim_reduction/_fpca.py:231: RuntimeWarning: overflow encountered in matmul\n",
      "  final_matrix = X.coefficients @ np.transpose(l_inv_j_t)\n",
      "/opt/anaconda3/envs/alex_env/lib/python3.10/site-packages/skfda/preprocessing/dim_reduction/_fpca.py:231: RuntimeWarning: invalid value encountered in matmul\n",
      "  final_matrix = X.coefficients @ np.transpose(l_inv_j_t)\n",
      "/opt/anaconda3/envs/alex_env/lib/python3.10/site-packages/skfda/preprocessing/dim_reduction/_fpca.py:281: RuntimeWarning: divide by zero encountered in matmul\n",
      "  X.coefficients @ self._j_matrix\n",
      "/opt/anaconda3/envs/alex_env/lib/python3.10/site-packages/skfda/preprocessing/dim_reduction/_fpca.py:281: RuntimeWarning: overflow encountered in matmul\n",
      "  X.coefficients @ self._j_matrix\n",
      "/opt/anaconda3/envs/alex_env/lib/python3.10/site-packages/skfda/preprocessing/dim_reduction/_fpca.py:281: RuntimeWarning: invalid value encountered in matmul\n",
      "  X.coefficients @ self._j_matrix\n"
     ]
    },
    {
     "name": "stdout",
     "output_type": "stream",
     "text": [
      "norms of the basis are: [1. 1. 1. 1. 1.]\n"
     ]
    },
    {
     "name": "stderr",
     "output_type": "stream",
     "text": [
      "/opt/anaconda3/envs/alex_env/lib/python3.10/site-packages/skfda/preprocessing/dim_reduction/_fpca.py:231: RuntimeWarning: divide by zero encountered in matmul\n",
      "  final_matrix = X.coefficients @ np.transpose(l_inv_j_t)\n",
      "/opt/anaconda3/envs/alex_env/lib/python3.10/site-packages/skfda/preprocessing/dim_reduction/_fpca.py:231: RuntimeWarning: overflow encountered in matmul\n",
      "  final_matrix = X.coefficients @ np.transpose(l_inv_j_t)\n",
      "/opt/anaconda3/envs/alex_env/lib/python3.10/site-packages/skfda/preprocessing/dim_reduction/_fpca.py:231: RuntimeWarning: invalid value encountered in matmul\n",
      "  final_matrix = X.coefficients @ np.transpose(l_inv_j_t)\n",
      "/opt/anaconda3/envs/alex_env/lib/python3.10/site-packages/skfda/preprocessing/dim_reduction/_fpca.py:281: RuntimeWarning: divide by zero encountered in matmul\n",
      "  X.coefficients @ self._j_matrix\n",
      "/opt/anaconda3/envs/alex_env/lib/python3.10/site-packages/skfda/preprocessing/dim_reduction/_fpca.py:281: RuntimeWarning: overflow encountered in matmul\n",
      "  X.coefficients @ self._j_matrix\n",
      "/opt/anaconda3/envs/alex_env/lib/python3.10/site-packages/skfda/preprocessing/dim_reduction/_fpca.py:281: RuntimeWarning: invalid value encountered in matmul\n",
      "  X.coefficients @ self._j_matrix\n"
     ]
    },
    {
     "name": "stdout",
     "output_type": "stream",
     "text": [
      "norms of the basis are: [1. 1. 1. 1. 1.]\n"
     ]
    },
    {
     "name": "stderr",
     "output_type": "stream",
     "text": [
      "/opt/anaconda3/envs/alex_env/lib/python3.10/site-packages/skfda/preprocessing/dim_reduction/_fpca.py:231: RuntimeWarning: divide by zero encountered in matmul\n",
      "  final_matrix = X.coefficients @ np.transpose(l_inv_j_t)\n",
      "/opt/anaconda3/envs/alex_env/lib/python3.10/site-packages/skfda/preprocessing/dim_reduction/_fpca.py:231: RuntimeWarning: overflow encountered in matmul\n",
      "  final_matrix = X.coefficients @ np.transpose(l_inv_j_t)\n",
      "/opt/anaconda3/envs/alex_env/lib/python3.10/site-packages/skfda/preprocessing/dim_reduction/_fpca.py:231: RuntimeWarning: invalid value encountered in matmul\n",
      "  final_matrix = X.coefficients @ np.transpose(l_inv_j_t)\n",
      "/opt/anaconda3/envs/alex_env/lib/python3.10/site-packages/skfda/preprocessing/dim_reduction/_fpca.py:281: RuntimeWarning: divide by zero encountered in matmul\n",
      "  X.coefficients @ self._j_matrix\n",
      "/opt/anaconda3/envs/alex_env/lib/python3.10/site-packages/skfda/preprocessing/dim_reduction/_fpca.py:281: RuntimeWarning: overflow encountered in matmul\n",
      "  X.coefficients @ self._j_matrix\n",
      "/opt/anaconda3/envs/alex_env/lib/python3.10/site-packages/skfda/preprocessing/dim_reduction/_fpca.py:281: RuntimeWarning: invalid value encountered in matmul\n",
      "  X.coefficients @ self._j_matrix\n"
     ]
    },
    {
     "name": "stdout",
     "output_type": "stream",
     "text": [
      "norms of the basis are: [1. 1. 1. 1. 1.]\n"
     ]
    },
    {
     "name": "stderr",
     "output_type": "stream",
     "text": [
      "/opt/anaconda3/envs/alex_env/lib/python3.10/site-packages/skfda/preprocessing/dim_reduction/_fpca.py:231: RuntimeWarning: divide by zero encountered in matmul\n",
      "  final_matrix = X.coefficients @ np.transpose(l_inv_j_t)\n",
      "/opt/anaconda3/envs/alex_env/lib/python3.10/site-packages/skfda/preprocessing/dim_reduction/_fpca.py:231: RuntimeWarning: overflow encountered in matmul\n",
      "  final_matrix = X.coefficients @ np.transpose(l_inv_j_t)\n",
      "/opt/anaconda3/envs/alex_env/lib/python3.10/site-packages/skfda/preprocessing/dim_reduction/_fpca.py:231: RuntimeWarning: invalid value encountered in matmul\n",
      "  final_matrix = X.coefficients @ np.transpose(l_inv_j_t)\n",
      "/opt/anaconda3/envs/alex_env/lib/python3.10/site-packages/skfda/preprocessing/dim_reduction/_fpca.py:281: RuntimeWarning: divide by zero encountered in matmul\n",
      "  X.coefficients @ self._j_matrix\n",
      "/opt/anaconda3/envs/alex_env/lib/python3.10/site-packages/skfda/preprocessing/dim_reduction/_fpca.py:281: RuntimeWarning: overflow encountered in matmul\n",
      "  X.coefficients @ self._j_matrix\n",
      "/opt/anaconda3/envs/alex_env/lib/python3.10/site-packages/skfda/preprocessing/dim_reduction/_fpca.py:281: RuntimeWarning: invalid value encountered in matmul\n",
      "  X.coefficients @ self._j_matrix\n"
     ]
    },
    {
     "name": "stdout",
     "output_type": "stream",
     "text": [
      "norms of the basis are: [1. 1. 1. 1. 1.]\n"
     ]
    },
    {
     "name": "stderr",
     "output_type": "stream",
     "text": [
      "/opt/anaconda3/envs/alex_env/lib/python3.10/site-packages/skfda/preprocessing/dim_reduction/_fpca.py:231: RuntimeWarning: divide by zero encountered in matmul\n",
      "  final_matrix = X.coefficients @ np.transpose(l_inv_j_t)\n",
      "/opt/anaconda3/envs/alex_env/lib/python3.10/site-packages/skfda/preprocessing/dim_reduction/_fpca.py:231: RuntimeWarning: overflow encountered in matmul\n",
      "  final_matrix = X.coefficients @ np.transpose(l_inv_j_t)\n",
      "/opt/anaconda3/envs/alex_env/lib/python3.10/site-packages/skfda/preprocessing/dim_reduction/_fpca.py:231: RuntimeWarning: invalid value encountered in matmul\n",
      "  final_matrix = X.coefficients @ np.transpose(l_inv_j_t)\n",
      "/opt/anaconda3/envs/alex_env/lib/python3.10/site-packages/skfda/preprocessing/dim_reduction/_fpca.py:281: RuntimeWarning: divide by zero encountered in matmul\n",
      "  X.coefficients @ self._j_matrix\n",
      "/opt/anaconda3/envs/alex_env/lib/python3.10/site-packages/skfda/preprocessing/dim_reduction/_fpca.py:281: RuntimeWarning: overflow encountered in matmul\n",
      "  X.coefficients @ self._j_matrix\n",
      "/opt/anaconda3/envs/alex_env/lib/python3.10/site-packages/skfda/preprocessing/dim_reduction/_fpca.py:281: RuntimeWarning: invalid value encountered in matmul\n",
      "  X.coefficients @ self._j_matrix\n"
     ]
    },
    {
     "name": "stdout",
     "output_type": "stream",
     "text": [
      "norms of the basis are: [1. 1. 1. 1. 1.]\n"
     ]
    },
    {
     "name": "stderr",
     "output_type": "stream",
     "text": [
      "/opt/anaconda3/envs/alex_env/lib/python3.10/site-packages/skfda/preprocessing/dim_reduction/_fpca.py:231: RuntimeWarning: divide by zero encountered in matmul\n",
      "  final_matrix = X.coefficients @ np.transpose(l_inv_j_t)\n",
      "/opt/anaconda3/envs/alex_env/lib/python3.10/site-packages/skfda/preprocessing/dim_reduction/_fpca.py:231: RuntimeWarning: overflow encountered in matmul\n",
      "  final_matrix = X.coefficients @ np.transpose(l_inv_j_t)\n",
      "/opt/anaconda3/envs/alex_env/lib/python3.10/site-packages/skfda/preprocessing/dim_reduction/_fpca.py:231: RuntimeWarning: invalid value encountered in matmul\n",
      "  final_matrix = X.coefficients @ np.transpose(l_inv_j_t)\n",
      "/opt/anaconda3/envs/alex_env/lib/python3.10/site-packages/skfda/preprocessing/dim_reduction/_fpca.py:281: RuntimeWarning: divide by zero encountered in matmul\n",
      "  X.coefficients @ self._j_matrix\n",
      "/opt/anaconda3/envs/alex_env/lib/python3.10/site-packages/skfda/preprocessing/dim_reduction/_fpca.py:281: RuntimeWarning: overflow encountered in matmul\n",
      "  X.coefficients @ self._j_matrix\n",
      "/opt/anaconda3/envs/alex_env/lib/python3.10/site-packages/skfda/preprocessing/dim_reduction/_fpca.py:281: RuntimeWarning: invalid value encountered in matmul\n",
      "  X.coefficients @ self._j_matrix\n"
     ]
    },
    {
     "name": "stdout",
     "output_type": "stream",
     "text": [
      "norms of the basis are: [1. 1. 1. 1. 1.]\n"
     ]
    },
    {
     "name": "stderr",
     "output_type": "stream",
     "text": [
      "/opt/anaconda3/envs/alex_env/lib/python3.10/site-packages/skfda/preprocessing/dim_reduction/_fpca.py:231: RuntimeWarning: divide by zero encountered in matmul\n",
      "  final_matrix = X.coefficients @ np.transpose(l_inv_j_t)\n",
      "/opt/anaconda3/envs/alex_env/lib/python3.10/site-packages/skfda/preprocessing/dim_reduction/_fpca.py:231: RuntimeWarning: overflow encountered in matmul\n",
      "  final_matrix = X.coefficients @ np.transpose(l_inv_j_t)\n",
      "/opt/anaconda3/envs/alex_env/lib/python3.10/site-packages/skfda/preprocessing/dim_reduction/_fpca.py:231: RuntimeWarning: invalid value encountered in matmul\n",
      "  final_matrix = X.coefficients @ np.transpose(l_inv_j_t)\n",
      "/opt/anaconda3/envs/alex_env/lib/python3.10/site-packages/skfda/preprocessing/dim_reduction/_fpca.py:281: RuntimeWarning: divide by zero encountered in matmul\n",
      "  X.coefficients @ self._j_matrix\n",
      "/opt/anaconda3/envs/alex_env/lib/python3.10/site-packages/skfda/preprocessing/dim_reduction/_fpca.py:281: RuntimeWarning: overflow encountered in matmul\n",
      "  X.coefficients @ self._j_matrix\n",
      "/opt/anaconda3/envs/alex_env/lib/python3.10/site-packages/skfda/preprocessing/dim_reduction/_fpca.py:281: RuntimeWarning: invalid value encountered in matmul\n",
      "  X.coefficients @ self._j_matrix\n"
     ]
    },
    {
     "name": "stdout",
     "output_type": "stream",
     "text": [
      "norms of the basis are: [1. 1. 1. 1. 1.]\n"
     ]
    },
    {
     "name": "stderr",
     "output_type": "stream",
     "text": [
      "/opt/anaconda3/envs/alex_env/lib/python3.10/site-packages/skfda/preprocessing/dim_reduction/_fpca.py:231: RuntimeWarning: divide by zero encountered in matmul\n",
      "  final_matrix = X.coefficients @ np.transpose(l_inv_j_t)\n",
      "/opt/anaconda3/envs/alex_env/lib/python3.10/site-packages/skfda/preprocessing/dim_reduction/_fpca.py:231: RuntimeWarning: overflow encountered in matmul\n",
      "  final_matrix = X.coefficients @ np.transpose(l_inv_j_t)\n",
      "/opt/anaconda3/envs/alex_env/lib/python3.10/site-packages/skfda/preprocessing/dim_reduction/_fpca.py:231: RuntimeWarning: invalid value encountered in matmul\n",
      "  final_matrix = X.coefficients @ np.transpose(l_inv_j_t)\n",
      "/opt/anaconda3/envs/alex_env/lib/python3.10/site-packages/skfda/preprocessing/dim_reduction/_fpca.py:281: RuntimeWarning: divide by zero encountered in matmul\n",
      "  X.coefficients @ self._j_matrix\n",
      "/opt/anaconda3/envs/alex_env/lib/python3.10/site-packages/skfda/preprocessing/dim_reduction/_fpca.py:281: RuntimeWarning: overflow encountered in matmul\n",
      "  X.coefficients @ self._j_matrix\n",
      "/opt/anaconda3/envs/alex_env/lib/python3.10/site-packages/skfda/preprocessing/dim_reduction/_fpca.py:281: RuntimeWarning: invalid value encountered in matmul\n",
      "  X.coefficients @ self._j_matrix\n"
     ]
    },
    {
     "name": "stdout",
     "output_type": "stream",
     "text": [
      "norms of the basis are: [1. 1. 1. 1. 1.]\n"
     ]
    },
    {
     "name": "stderr",
     "output_type": "stream",
     "text": [
      "/opt/anaconda3/envs/alex_env/lib/python3.10/site-packages/skfda/preprocessing/dim_reduction/_fpca.py:231: RuntimeWarning: divide by zero encountered in matmul\n",
      "  final_matrix = X.coefficients @ np.transpose(l_inv_j_t)\n",
      "/opt/anaconda3/envs/alex_env/lib/python3.10/site-packages/skfda/preprocessing/dim_reduction/_fpca.py:231: RuntimeWarning: overflow encountered in matmul\n",
      "  final_matrix = X.coefficients @ np.transpose(l_inv_j_t)\n",
      "/opt/anaconda3/envs/alex_env/lib/python3.10/site-packages/skfda/preprocessing/dim_reduction/_fpca.py:231: RuntimeWarning: invalid value encountered in matmul\n",
      "  final_matrix = X.coefficients @ np.transpose(l_inv_j_t)\n",
      "/opt/anaconda3/envs/alex_env/lib/python3.10/site-packages/skfda/preprocessing/dim_reduction/_fpca.py:281: RuntimeWarning: divide by zero encountered in matmul\n",
      "  X.coefficients @ self._j_matrix\n",
      "/opt/anaconda3/envs/alex_env/lib/python3.10/site-packages/skfda/preprocessing/dim_reduction/_fpca.py:281: RuntimeWarning: overflow encountered in matmul\n",
      "  X.coefficients @ self._j_matrix\n",
      "/opt/anaconda3/envs/alex_env/lib/python3.10/site-packages/skfda/preprocessing/dim_reduction/_fpca.py:281: RuntimeWarning: invalid value encountered in matmul\n",
      "  X.coefficients @ self._j_matrix\n"
     ]
    },
    {
     "name": "stdout",
     "output_type": "stream",
     "text": [
      "norms of the basis are: [1. 1. 1. 1. 1.]\n"
     ]
    },
    {
     "name": "stderr",
     "output_type": "stream",
     "text": [
      "/opt/anaconda3/envs/alex_env/lib/python3.10/site-packages/skfda/preprocessing/dim_reduction/_fpca.py:231: RuntimeWarning: divide by zero encountered in matmul\n",
      "  final_matrix = X.coefficients @ np.transpose(l_inv_j_t)\n",
      "/opt/anaconda3/envs/alex_env/lib/python3.10/site-packages/skfda/preprocessing/dim_reduction/_fpca.py:231: RuntimeWarning: overflow encountered in matmul\n",
      "  final_matrix = X.coefficients @ np.transpose(l_inv_j_t)\n",
      "/opt/anaconda3/envs/alex_env/lib/python3.10/site-packages/skfda/preprocessing/dim_reduction/_fpca.py:231: RuntimeWarning: invalid value encountered in matmul\n",
      "  final_matrix = X.coefficients @ np.transpose(l_inv_j_t)\n",
      "/opt/anaconda3/envs/alex_env/lib/python3.10/site-packages/skfda/preprocessing/dim_reduction/_fpca.py:281: RuntimeWarning: divide by zero encountered in matmul\n",
      "  X.coefficients @ self._j_matrix\n",
      "/opt/anaconda3/envs/alex_env/lib/python3.10/site-packages/skfda/preprocessing/dim_reduction/_fpca.py:281: RuntimeWarning: overflow encountered in matmul\n",
      "  X.coefficients @ self._j_matrix\n",
      "/opt/anaconda3/envs/alex_env/lib/python3.10/site-packages/skfda/preprocessing/dim_reduction/_fpca.py:281: RuntimeWarning: invalid value encountered in matmul\n",
      "  X.coefficients @ self._j_matrix\n"
     ]
    },
    {
     "name": "stdout",
     "output_type": "stream",
     "text": [
      "norms of the basis are: [1. 1. 1. 1. 1.]\n"
     ]
    },
    {
     "name": "stderr",
     "output_type": "stream",
     "text": [
      "/opt/anaconda3/envs/alex_env/lib/python3.10/site-packages/skfda/preprocessing/dim_reduction/_fpca.py:231: RuntimeWarning: divide by zero encountered in matmul\n",
      "  final_matrix = X.coefficients @ np.transpose(l_inv_j_t)\n",
      "/opt/anaconda3/envs/alex_env/lib/python3.10/site-packages/skfda/preprocessing/dim_reduction/_fpca.py:231: RuntimeWarning: overflow encountered in matmul\n",
      "  final_matrix = X.coefficients @ np.transpose(l_inv_j_t)\n",
      "/opt/anaconda3/envs/alex_env/lib/python3.10/site-packages/skfda/preprocessing/dim_reduction/_fpca.py:231: RuntimeWarning: invalid value encountered in matmul\n",
      "  final_matrix = X.coefficients @ np.transpose(l_inv_j_t)\n",
      "/opt/anaconda3/envs/alex_env/lib/python3.10/site-packages/skfda/preprocessing/dim_reduction/_fpca.py:281: RuntimeWarning: divide by zero encountered in matmul\n",
      "  X.coefficients @ self._j_matrix\n",
      "/opt/anaconda3/envs/alex_env/lib/python3.10/site-packages/skfda/preprocessing/dim_reduction/_fpca.py:281: RuntimeWarning: overflow encountered in matmul\n",
      "  X.coefficients @ self._j_matrix\n",
      "/opt/anaconda3/envs/alex_env/lib/python3.10/site-packages/skfda/preprocessing/dim_reduction/_fpca.py:281: RuntimeWarning: invalid value encountered in matmul\n",
      "  X.coefficients @ self._j_matrix\n"
     ]
    },
    {
     "name": "stdout",
     "output_type": "stream",
     "text": [
      "norms of the basis are: [1. 1. 1. 1. 1.]\n"
     ]
    },
    {
     "name": "stderr",
     "output_type": "stream",
     "text": [
      "/opt/anaconda3/envs/alex_env/lib/python3.10/site-packages/skfda/preprocessing/dim_reduction/_fpca.py:231: RuntimeWarning: divide by zero encountered in matmul\n",
      "  final_matrix = X.coefficients @ np.transpose(l_inv_j_t)\n",
      "/opt/anaconda3/envs/alex_env/lib/python3.10/site-packages/skfda/preprocessing/dim_reduction/_fpca.py:231: RuntimeWarning: overflow encountered in matmul\n",
      "  final_matrix = X.coefficients @ np.transpose(l_inv_j_t)\n",
      "/opt/anaconda3/envs/alex_env/lib/python3.10/site-packages/skfda/preprocessing/dim_reduction/_fpca.py:231: RuntimeWarning: invalid value encountered in matmul\n",
      "  final_matrix = X.coefficients @ np.transpose(l_inv_j_t)\n",
      "/opt/anaconda3/envs/alex_env/lib/python3.10/site-packages/skfda/preprocessing/dim_reduction/_fpca.py:281: RuntimeWarning: divide by zero encountered in matmul\n",
      "  X.coefficients @ self._j_matrix\n",
      "/opt/anaconda3/envs/alex_env/lib/python3.10/site-packages/skfda/preprocessing/dim_reduction/_fpca.py:281: RuntimeWarning: overflow encountered in matmul\n",
      "  X.coefficients @ self._j_matrix\n",
      "/opt/anaconda3/envs/alex_env/lib/python3.10/site-packages/skfda/preprocessing/dim_reduction/_fpca.py:281: RuntimeWarning: invalid value encountered in matmul\n",
      "  X.coefficients @ self._j_matrix\n"
     ]
    },
    {
     "name": "stdout",
     "output_type": "stream",
     "text": [
      "norms of the basis are: [1. 1. 1. 1. 1.]\n"
     ]
    },
    {
     "name": "stderr",
     "output_type": "stream",
     "text": [
      "/opt/anaconda3/envs/alex_env/lib/python3.10/site-packages/skfda/preprocessing/dim_reduction/_fpca.py:231: RuntimeWarning: divide by zero encountered in matmul\n",
      "  final_matrix = X.coefficients @ np.transpose(l_inv_j_t)\n",
      "/opt/anaconda3/envs/alex_env/lib/python3.10/site-packages/skfda/preprocessing/dim_reduction/_fpca.py:231: RuntimeWarning: overflow encountered in matmul\n",
      "  final_matrix = X.coefficients @ np.transpose(l_inv_j_t)\n",
      "/opt/anaconda3/envs/alex_env/lib/python3.10/site-packages/skfda/preprocessing/dim_reduction/_fpca.py:231: RuntimeWarning: invalid value encountered in matmul\n",
      "  final_matrix = X.coefficients @ np.transpose(l_inv_j_t)\n",
      "/opt/anaconda3/envs/alex_env/lib/python3.10/site-packages/skfda/preprocessing/dim_reduction/_fpca.py:281: RuntimeWarning: divide by zero encountered in matmul\n",
      "  X.coefficients @ self._j_matrix\n",
      "/opt/anaconda3/envs/alex_env/lib/python3.10/site-packages/skfda/preprocessing/dim_reduction/_fpca.py:281: RuntimeWarning: overflow encountered in matmul\n",
      "  X.coefficients @ self._j_matrix\n",
      "/opt/anaconda3/envs/alex_env/lib/python3.10/site-packages/skfda/preprocessing/dim_reduction/_fpca.py:281: RuntimeWarning: invalid value encountered in matmul\n",
      "  X.coefficients @ self._j_matrix\n"
     ]
    },
    {
     "name": "stdout",
     "output_type": "stream",
     "text": [
      "norms of the basis are: [1. 1. 1. 1. 1.]\n"
     ]
    },
    {
     "name": "stderr",
     "output_type": "stream",
     "text": [
      "/opt/anaconda3/envs/alex_env/lib/python3.10/site-packages/skfda/preprocessing/dim_reduction/_fpca.py:231: RuntimeWarning: divide by zero encountered in matmul\n",
      "  final_matrix = X.coefficients @ np.transpose(l_inv_j_t)\n",
      "/opt/anaconda3/envs/alex_env/lib/python3.10/site-packages/skfda/preprocessing/dim_reduction/_fpca.py:231: RuntimeWarning: overflow encountered in matmul\n",
      "  final_matrix = X.coefficients @ np.transpose(l_inv_j_t)\n",
      "/opt/anaconda3/envs/alex_env/lib/python3.10/site-packages/skfda/preprocessing/dim_reduction/_fpca.py:231: RuntimeWarning: invalid value encountered in matmul\n",
      "  final_matrix = X.coefficients @ np.transpose(l_inv_j_t)\n",
      "/opt/anaconda3/envs/alex_env/lib/python3.10/site-packages/skfda/preprocessing/dim_reduction/_fpca.py:281: RuntimeWarning: divide by zero encountered in matmul\n",
      "  X.coefficients @ self._j_matrix\n",
      "/opt/anaconda3/envs/alex_env/lib/python3.10/site-packages/skfda/preprocessing/dim_reduction/_fpca.py:281: RuntimeWarning: overflow encountered in matmul\n",
      "  X.coefficients @ self._j_matrix\n",
      "/opt/anaconda3/envs/alex_env/lib/python3.10/site-packages/skfda/preprocessing/dim_reduction/_fpca.py:281: RuntimeWarning: invalid value encountered in matmul\n",
      "  X.coefficients @ self._j_matrix\n"
     ]
    },
    {
     "name": "stdout",
     "output_type": "stream",
     "text": [
      "norms of the basis are: [1. 1. 1. 1. 1.]\n"
     ]
    },
    {
     "name": "stderr",
     "output_type": "stream",
     "text": [
      "/opt/anaconda3/envs/alex_env/lib/python3.10/site-packages/skfda/preprocessing/dim_reduction/_fpca.py:231: RuntimeWarning: divide by zero encountered in matmul\n",
      "  final_matrix = X.coefficients @ np.transpose(l_inv_j_t)\n",
      "/opt/anaconda3/envs/alex_env/lib/python3.10/site-packages/skfda/preprocessing/dim_reduction/_fpca.py:231: RuntimeWarning: overflow encountered in matmul\n",
      "  final_matrix = X.coefficients @ np.transpose(l_inv_j_t)\n",
      "/opt/anaconda3/envs/alex_env/lib/python3.10/site-packages/skfda/preprocessing/dim_reduction/_fpca.py:231: RuntimeWarning: invalid value encountered in matmul\n",
      "  final_matrix = X.coefficients @ np.transpose(l_inv_j_t)\n",
      "/opt/anaconda3/envs/alex_env/lib/python3.10/site-packages/skfda/preprocessing/dim_reduction/_fpca.py:281: RuntimeWarning: divide by zero encountered in matmul\n",
      "  X.coefficients @ self._j_matrix\n",
      "/opt/anaconda3/envs/alex_env/lib/python3.10/site-packages/skfda/preprocessing/dim_reduction/_fpca.py:281: RuntimeWarning: overflow encountered in matmul\n",
      "  X.coefficients @ self._j_matrix\n",
      "/opt/anaconda3/envs/alex_env/lib/python3.10/site-packages/skfda/preprocessing/dim_reduction/_fpca.py:281: RuntimeWarning: invalid value encountered in matmul\n",
      "  X.coefficients @ self._j_matrix\n"
     ]
    },
    {
     "name": "stdout",
     "output_type": "stream",
     "text": [
      "norms of the basis are: [1. 1. 1. 1. 1.]\n"
     ]
    },
    {
     "name": "stderr",
     "output_type": "stream",
     "text": [
      "/opt/anaconda3/envs/alex_env/lib/python3.10/site-packages/skfda/preprocessing/dim_reduction/_fpca.py:231: RuntimeWarning: divide by zero encountered in matmul\n",
      "  final_matrix = X.coefficients @ np.transpose(l_inv_j_t)\n",
      "/opt/anaconda3/envs/alex_env/lib/python3.10/site-packages/skfda/preprocessing/dim_reduction/_fpca.py:231: RuntimeWarning: overflow encountered in matmul\n",
      "  final_matrix = X.coefficients @ np.transpose(l_inv_j_t)\n",
      "/opt/anaconda3/envs/alex_env/lib/python3.10/site-packages/skfda/preprocessing/dim_reduction/_fpca.py:231: RuntimeWarning: invalid value encountered in matmul\n",
      "  final_matrix = X.coefficients @ np.transpose(l_inv_j_t)\n",
      "/opt/anaconda3/envs/alex_env/lib/python3.10/site-packages/skfda/preprocessing/dim_reduction/_fpca.py:281: RuntimeWarning: divide by zero encountered in matmul\n",
      "  X.coefficients @ self._j_matrix\n",
      "/opt/anaconda3/envs/alex_env/lib/python3.10/site-packages/skfda/preprocessing/dim_reduction/_fpca.py:281: RuntimeWarning: overflow encountered in matmul\n",
      "  X.coefficients @ self._j_matrix\n",
      "/opt/anaconda3/envs/alex_env/lib/python3.10/site-packages/skfda/preprocessing/dim_reduction/_fpca.py:281: RuntimeWarning: invalid value encountered in matmul\n",
      "  X.coefficients @ self._j_matrix\n"
     ]
    },
    {
     "name": "stdout",
     "output_type": "stream",
     "text": [
      "norms of the basis are: [1. 1. 1. 1. 1.]\n"
     ]
    },
    {
     "name": "stderr",
     "output_type": "stream",
     "text": [
      "/opt/anaconda3/envs/alex_env/lib/python3.10/site-packages/skfda/preprocessing/dim_reduction/_fpca.py:231: RuntimeWarning: divide by zero encountered in matmul\n",
      "  final_matrix = X.coefficients @ np.transpose(l_inv_j_t)\n",
      "/opt/anaconda3/envs/alex_env/lib/python3.10/site-packages/skfda/preprocessing/dim_reduction/_fpca.py:231: RuntimeWarning: overflow encountered in matmul\n",
      "  final_matrix = X.coefficients @ np.transpose(l_inv_j_t)\n",
      "/opt/anaconda3/envs/alex_env/lib/python3.10/site-packages/skfda/preprocessing/dim_reduction/_fpca.py:231: RuntimeWarning: invalid value encountered in matmul\n",
      "  final_matrix = X.coefficients @ np.transpose(l_inv_j_t)\n",
      "/opt/anaconda3/envs/alex_env/lib/python3.10/site-packages/skfda/preprocessing/dim_reduction/_fpca.py:281: RuntimeWarning: divide by zero encountered in matmul\n",
      "  X.coefficients @ self._j_matrix\n",
      "/opt/anaconda3/envs/alex_env/lib/python3.10/site-packages/skfda/preprocessing/dim_reduction/_fpca.py:281: RuntimeWarning: overflow encountered in matmul\n",
      "  X.coefficients @ self._j_matrix\n",
      "/opt/anaconda3/envs/alex_env/lib/python3.10/site-packages/skfda/preprocessing/dim_reduction/_fpca.py:281: RuntimeWarning: invalid value encountered in matmul\n",
      "  X.coefficients @ self._j_matrix\n"
     ]
    },
    {
     "name": "stdout",
     "output_type": "stream",
     "text": [
      "norms of the basis are: [1. 1. 1. 1. 1.]\n"
     ]
    },
    {
     "name": "stderr",
     "output_type": "stream",
     "text": [
      "/opt/anaconda3/envs/alex_env/lib/python3.10/site-packages/skfda/preprocessing/dim_reduction/_fpca.py:231: RuntimeWarning: divide by zero encountered in matmul\n",
      "  final_matrix = X.coefficients @ np.transpose(l_inv_j_t)\n",
      "/opt/anaconda3/envs/alex_env/lib/python3.10/site-packages/skfda/preprocessing/dim_reduction/_fpca.py:231: RuntimeWarning: overflow encountered in matmul\n",
      "  final_matrix = X.coefficients @ np.transpose(l_inv_j_t)\n",
      "/opt/anaconda3/envs/alex_env/lib/python3.10/site-packages/skfda/preprocessing/dim_reduction/_fpca.py:231: RuntimeWarning: invalid value encountered in matmul\n",
      "  final_matrix = X.coefficients @ np.transpose(l_inv_j_t)\n",
      "/opt/anaconda3/envs/alex_env/lib/python3.10/site-packages/skfda/preprocessing/dim_reduction/_fpca.py:281: RuntimeWarning: divide by zero encountered in matmul\n",
      "  X.coefficients @ self._j_matrix\n",
      "/opt/anaconda3/envs/alex_env/lib/python3.10/site-packages/skfda/preprocessing/dim_reduction/_fpca.py:281: RuntimeWarning: overflow encountered in matmul\n",
      "  X.coefficients @ self._j_matrix\n",
      "/opt/anaconda3/envs/alex_env/lib/python3.10/site-packages/skfda/preprocessing/dim_reduction/_fpca.py:281: RuntimeWarning: invalid value encountered in matmul\n",
      "  X.coefficients @ self._j_matrix\n"
     ]
    },
    {
     "name": "stdout",
     "output_type": "stream",
     "text": [
      "norms of the basis are: [1. 1. 1. 1. 1.]\n"
     ]
    },
    {
     "name": "stderr",
     "output_type": "stream",
     "text": [
      "/opt/anaconda3/envs/alex_env/lib/python3.10/site-packages/skfda/preprocessing/dim_reduction/_fpca.py:231: RuntimeWarning: divide by zero encountered in matmul\n",
      "  final_matrix = X.coefficients @ np.transpose(l_inv_j_t)\n",
      "/opt/anaconda3/envs/alex_env/lib/python3.10/site-packages/skfda/preprocessing/dim_reduction/_fpca.py:231: RuntimeWarning: overflow encountered in matmul\n",
      "  final_matrix = X.coefficients @ np.transpose(l_inv_j_t)\n",
      "/opt/anaconda3/envs/alex_env/lib/python3.10/site-packages/skfda/preprocessing/dim_reduction/_fpca.py:231: RuntimeWarning: invalid value encountered in matmul\n",
      "  final_matrix = X.coefficients @ np.transpose(l_inv_j_t)\n",
      "/opt/anaconda3/envs/alex_env/lib/python3.10/site-packages/skfda/preprocessing/dim_reduction/_fpca.py:281: RuntimeWarning: divide by zero encountered in matmul\n",
      "  X.coefficients @ self._j_matrix\n",
      "/opt/anaconda3/envs/alex_env/lib/python3.10/site-packages/skfda/preprocessing/dim_reduction/_fpca.py:281: RuntimeWarning: overflow encountered in matmul\n",
      "  X.coefficients @ self._j_matrix\n",
      "/opt/anaconda3/envs/alex_env/lib/python3.10/site-packages/skfda/preprocessing/dim_reduction/_fpca.py:281: RuntimeWarning: invalid value encountered in matmul\n",
      "  X.coefficients @ self._j_matrix\n"
     ]
    },
    {
     "name": "stdout",
     "output_type": "stream",
     "text": [
      "norms of the basis are: [1. 1. 1. 1. 1.]\n"
     ]
    },
    {
     "name": "stderr",
     "output_type": "stream",
     "text": [
      "/opt/anaconda3/envs/alex_env/lib/python3.10/site-packages/skfda/preprocessing/dim_reduction/_fpca.py:231: RuntimeWarning: divide by zero encountered in matmul\n",
      "  final_matrix = X.coefficients @ np.transpose(l_inv_j_t)\n",
      "/opt/anaconda3/envs/alex_env/lib/python3.10/site-packages/skfda/preprocessing/dim_reduction/_fpca.py:231: RuntimeWarning: overflow encountered in matmul\n",
      "  final_matrix = X.coefficients @ np.transpose(l_inv_j_t)\n",
      "/opt/anaconda3/envs/alex_env/lib/python3.10/site-packages/skfda/preprocessing/dim_reduction/_fpca.py:231: RuntimeWarning: invalid value encountered in matmul\n",
      "  final_matrix = X.coefficients @ np.transpose(l_inv_j_t)\n",
      "/opt/anaconda3/envs/alex_env/lib/python3.10/site-packages/skfda/preprocessing/dim_reduction/_fpca.py:281: RuntimeWarning: divide by zero encountered in matmul\n",
      "  X.coefficients @ self._j_matrix\n",
      "/opt/anaconda3/envs/alex_env/lib/python3.10/site-packages/skfda/preprocessing/dim_reduction/_fpca.py:281: RuntimeWarning: overflow encountered in matmul\n",
      "  X.coefficients @ self._j_matrix\n",
      "/opt/anaconda3/envs/alex_env/lib/python3.10/site-packages/skfda/preprocessing/dim_reduction/_fpca.py:281: RuntimeWarning: invalid value encountered in matmul\n",
      "  X.coefficients @ self._j_matrix\n"
     ]
    },
    {
     "name": "stdout",
     "output_type": "stream",
     "text": [
      "norms of the basis are: [1. 1. 1. 1. 1.]\n"
     ]
    },
    {
     "name": "stderr",
     "output_type": "stream",
     "text": [
      "/opt/anaconda3/envs/alex_env/lib/python3.10/site-packages/skfda/preprocessing/dim_reduction/_fpca.py:231: RuntimeWarning: divide by zero encountered in matmul\n",
      "  final_matrix = X.coefficients @ np.transpose(l_inv_j_t)\n",
      "/opt/anaconda3/envs/alex_env/lib/python3.10/site-packages/skfda/preprocessing/dim_reduction/_fpca.py:231: RuntimeWarning: overflow encountered in matmul\n",
      "  final_matrix = X.coefficients @ np.transpose(l_inv_j_t)\n",
      "/opt/anaconda3/envs/alex_env/lib/python3.10/site-packages/skfda/preprocessing/dim_reduction/_fpca.py:231: RuntimeWarning: invalid value encountered in matmul\n",
      "  final_matrix = X.coefficients @ np.transpose(l_inv_j_t)\n",
      "/opt/anaconda3/envs/alex_env/lib/python3.10/site-packages/skfda/preprocessing/dim_reduction/_fpca.py:281: RuntimeWarning: divide by zero encountered in matmul\n",
      "  X.coefficients @ self._j_matrix\n",
      "/opt/anaconda3/envs/alex_env/lib/python3.10/site-packages/skfda/preprocessing/dim_reduction/_fpca.py:281: RuntimeWarning: overflow encountered in matmul\n",
      "  X.coefficients @ self._j_matrix\n",
      "/opt/anaconda3/envs/alex_env/lib/python3.10/site-packages/skfda/preprocessing/dim_reduction/_fpca.py:281: RuntimeWarning: invalid value encountered in matmul\n",
      "  X.coefficients @ self._j_matrix\n"
     ]
    },
    {
     "name": "stdout",
     "output_type": "stream",
     "text": [
      "norms of the basis are: [1. 1. 1. 1. 1.]\n"
     ]
    },
    {
     "name": "stderr",
     "output_type": "stream",
     "text": [
      "/opt/anaconda3/envs/alex_env/lib/python3.10/site-packages/skfda/preprocessing/dim_reduction/_fpca.py:231: RuntimeWarning: divide by zero encountered in matmul\n",
      "  final_matrix = X.coefficients @ np.transpose(l_inv_j_t)\n",
      "/opt/anaconda3/envs/alex_env/lib/python3.10/site-packages/skfda/preprocessing/dim_reduction/_fpca.py:231: RuntimeWarning: overflow encountered in matmul\n",
      "  final_matrix = X.coefficients @ np.transpose(l_inv_j_t)\n",
      "/opt/anaconda3/envs/alex_env/lib/python3.10/site-packages/skfda/preprocessing/dim_reduction/_fpca.py:231: RuntimeWarning: invalid value encountered in matmul\n",
      "  final_matrix = X.coefficients @ np.transpose(l_inv_j_t)\n",
      "/opt/anaconda3/envs/alex_env/lib/python3.10/site-packages/skfda/preprocessing/dim_reduction/_fpca.py:281: RuntimeWarning: divide by zero encountered in matmul\n",
      "  X.coefficients @ self._j_matrix\n",
      "/opt/anaconda3/envs/alex_env/lib/python3.10/site-packages/skfda/preprocessing/dim_reduction/_fpca.py:281: RuntimeWarning: overflow encountered in matmul\n",
      "  X.coefficients @ self._j_matrix\n",
      "/opt/anaconda3/envs/alex_env/lib/python3.10/site-packages/skfda/preprocessing/dim_reduction/_fpca.py:281: RuntimeWarning: invalid value encountered in matmul\n",
      "  X.coefficients @ self._j_matrix\n"
     ]
    },
    {
     "name": "stdout",
     "output_type": "stream",
     "text": [
      "norms of the basis are: [1. 1. 1. 1. 1.]\n"
     ]
    },
    {
     "name": "stderr",
     "output_type": "stream",
     "text": [
      "/opt/anaconda3/envs/alex_env/lib/python3.10/site-packages/skfda/preprocessing/dim_reduction/_fpca.py:231: RuntimeWarning: divide by zero encountered in matmul\n",
      "  final_matrix = X.coefficients @ np.transpose(l_inv_j_t)\n",
      "/opt/anaconda3/envs/alex_env/lib/python3.10/site-packages/skfda/preprocessing/dim_reduction/_fpca.py:231: RuntimeWarning: overflow encountered in matmul\n",
      "  final_matrix = X.coefficients @ np.transpose(l_inv_j_t)\n",
      "/opt/anaconda3/envs/alex_env/lib/python3.10/site-packages/skfda/preprocessing/dim_reduction/_fpca.py:231: RuntimeWarning: invalid value encountered in matmul\n",
      "  final_matrix = X.coefficients @ np.transpose(l_inv_j_t)\n",
      "/opt/anaconda3/envs/alex_env/lib/python3.10/site-packages/skfda/preprocessing/dim_reduction/_fpca.py:281: RuntimeWarning: divide by zero encountered in matmul\n",
      "  X.coefficients @ self._j_matrix\n",
      "/opt/anaconda3/envs/alex_env/lib/python3.10/site-packages/skfda/preprocessing/dim_reduction/_fpca.py:281: RuntimeWarning: overflow encountered in matmul\n",
      "  X.coefficients @ self._j_matrix\n",
      "/opt/anaconda3/envs/alex_env/lib/python3.10/site-packages/skfda/preprocessing/dim_reduction/_fpca.py:281: RuntimeWarning: invalid value encountered in matmul\n",
      "  X.coefficients @ self._j_matrix\n"
     ]
    },
    {
     "name": "stdout",
     "output_type": "stream",
     "text": [
      "norms of the basis are: [1. 1. 1. 1. 1.]\n"
     ]
    },
    {
     "name": "stderr",
     "output_type": "stream",
     "text": [
      "/opt/anaconda3/envs/alex_env/lib/python3.10/site-packages/skfda/preprocessing/dim_reduction/_fpca.py:231: RuntimeWarning: divide by zero encountered in matmul\n",
      "  final_matrix = X.coefficients @ np.transpose(l_inv_j_t)\n",
      "/opt/anaconda3/envs/alex_env/lib/python3.10/site-packages/skfda/preprocessing/dim_reduction/_fpca.py:231: RuntimeWarning: overflow encountered in matmul\n",
      "  final_matrix = X.coefficients @ np.transpose(l_inv_j_t)\n",
      "/opt/anaconda3/envs/alex_env/lib/python3.10/site-packages/skfda/preprocessing/dim_reduction/_fpca.py:231: RuntimeWarning: invalid value encountered in matmul\n",
      "  final_matrix = X.coefficients @ np.transpose(l_inv_j_t)\n",
      "/opt/anaconda3/envs/alex_env/lib/python3.10/site-packages/skfda/preprocessing/dim_reduction/_fpca.py:281: RuntimeWarning: divide by zero encountered in matmul\n",
      "  X.coefficients @ self._j_matrix\n",
      "/opt/anaconda3/envs/alex_env/lib/python3.10/site-packages/skfda/preprocessing/dim_reduction/_fpca.py:281: RuntimeWarning: overflow encountered in matmul\n",
      "  X.coefficients @ self._j_matrix\n",
      "/opt/anaconda3/envs/alex_env/lib/python3.10/site-packages/skfda/preprocessing/dim_reduction/_fpca.py:281: RuntimeWarning: invalid value encountered in matmul\n",
      "  X.coefficients @ self._j_matrix\n"
     ]
    },
    {
     "name": "stdout",
     "output_type": "stream",
     "text": [
      "norms of the basis are: [1. 1. 1. 1. 1.]\n"
     ]
    },
    {
     "name": "stderr",
     "output_type": "stream",
     "text": [
      "/opt/anaconda3/envs/alex_env/lib/python3.10/site-packages/skfda/preprocessing/dim_reduction/_fpca.py:231: RuntimeWarning: divide by zero encountered in matmul\n",
      "  final_matrix = X.coefficients @ np.transpose(l_inv_j_t)\n",
      "/opt/anaconda3/envs/alex_env/lib/python3.10/site-packages/skfda/preprocessing/dim_reduction/_fpca.py:231: RuntimeWarning: overflow encountered in matmul\n",
      "  final_matrix = X.coefficients @ np.transpose(l_inv_j_t)\n",
      "/opt/anaconda3/envs/alex_env/lib/python3.10/site-packages/skfda/preprocessing/dim_reduction/_fpca.py:231: RuntimeWarning: invalid value encountered in matmul\n",
      "  final_matrix = X.coefficients @ np.transpose(l_inv_j_t)\n",
      "/opt/anaconda3/envs/alex_env/lib/python3.10/site-packages/skfda/preprocessing/dim_reduction/_fpca.py:281: RuntimeWarning: divide by zero encountered in matmul\n",
      "  X.coefficients @ self._j_matrix\n",
      "/opt/anaconda3/envs/alex_env/lib/python3.10/site-packages/skfda/preprocessing/dim_reduction/_fpca.py:281: RuntimeWarning: overflow encountered in matmul\n",
      "  X.coefficients @ self._j_matrix\n",
      "/opt/anaconda3/envs/alex_env/lib/python3.10/site-packages/skfda/preprocessing/dim_reduction/_fpca.py:281: RuntimeWarning: invalid value encountered in matmul\n",
      "  X.coefficients @ self._j_matrix\n"
     ]
    },
    {
     "name": "stdout",
     "output_type": "stream",
     "text": [
      "norms of the basis are: [1. 1. 1. 1. 1.]\n"
     ]
    },
    {
     "name": "stderr",
     "output_type": "stream",
     "text": [
      "/opt/anaconda3/envs/alex_env/lib/python3.10/site-packages/skfda/preprocessing/dim_reduction/_fpca.py:231: RuntimeWarning: divide by zero encountered in matmul\n",
      "  final_matrix = X.coefficients @ np.transpose(l_inv_j_t)\n",
      "/opt/anaconda3/envs/alex_env/lib/python3.10/site-packages/skfda/preprocessing/dim_reduction/_fpca.py:231: RuntimeWarning: overflow encountered in matmul\n",
      "  final_matrix = X.coefficients @ np.transpose(l_inv_j_t)\n",
      "/opt/anaconda3/envs/alex_env/lib/python3.10/site-packages/skfda/preprocessing/dim_reduction/_fpca.py:231: RuntimeWarning: invalid value encountered in matmul\n",
      "  final_matrix = X.coefficients @ np.transpose(l_inv_j_t)\n",
      "/opt/anaconda3/envs/alex_env/lib/python3.10/site-packages/skfda/preprocessing/dim_reduction/_fpca.py:281: RuntimeWarning: divide by zero encountered in matmul\n",
      "  X.coefficients @ self._j_matrix\n",
      "/opt/anaconda3/envs/alex_env/lib/python3.10/site-packages/skfda/preprocessing/dim_reduction/_fpca.py:281: RuntimeWarning: overflow encountered in matmul\n",
      "  X.coefficients @ self._j_matrix\n",
      "/opt/anaconda3/envs/alex_env/lib/python3.10/site-packages/skfda/preprocessing/dim_reduction/_fpca.py:281: RuntimeWarning: invalid value encountered in matmul\n",
      "  X.coefficients @ self._j_matrix\n"
     ]
    },
    {
     "name": "stdout",
     "output_type": "stream",
     "text": [
      "norms of the basis are: [1. 1. 1. 1. 1.]\n"
     ]
    },
    {
     "name": "stderr",
     "output_type": "stream",
     "text": [
      "/opt/anaconda3/envs/alex_env/lib/python3.10/site-packages/skfda/preprocessing/dim_reduction/_fpca.py:231: RuntimeWarning: divide by zero encountered in matmul\n",
      "  final_matrix = X.coefficients @ np.transpose(l_inv_j_t)\n",
      "/opt/anaconda3/envs/alex_env/lib/python3.10/site-packages/skfda/preprocessing/dim_reduction/_fpca.py:231: RuntimeWarning: overflow encountered in matmul\n",
      "  final_matrix = X.coefficients @ np.transpose(l_inv_j_t)\n",
      "/opt/anaconda3/envs/alex_env/lib/python3.10/site-packages/skfda/preprocessing/dim_reduction/_fpca.py:231: RuntimeWarning: invalid value encountered in matmul\n",
      "  final_matrix = X.coefficients @ np.transpose(l_inv_j_t)\n",
      "/opt/anaconda3/envs/alex_env/lib/python3.10/site-packages/skfda/preprocessing/dim_reduction/_fpca.py:281: RuntimeWarning: divide by zero encountered in matmul\n",
      "  X.coefficients @ self._j_matrix\n",
      "/opt/anaconda3/envs/alex_env/lib/python3.10/site-packages/skfda/preprocessing/dim_reduction/_fpca.py:281: RuntimeWarning: overflow encountered in matmul\n",
      "  X.coefficients @ self._j_matrix\n",
      "/opt/anaconda3/envs/alex_env/lib/python3.10/site-packages/skfda/preprocessing/dim_reduction/_fpca.py:281: RuntimeWarning: invalid value encountered in matmul\n",
      "  X.coefficients @ self._j_matrix\n"
     ]
    },
    {
     "name": "stdout",
     "output_type": "stream",
     "text": [
      "norms of the basis are: [1. 1. 1. 1. 1.]\n"
     ]
    },
    {
     "name": "stderr",
     "output_type": "stream",
     "text": [
      "/opt/anaconda3/envs/alex_env/lib/python3.10/site-packages/skfda/preprocessing/dim_reduction/_fpca.py:231: RuntimeWarning: divide by zero encountered in matmul\n",
      "  final_matrix = X.coefficients @ np.transpose(l_inv_j_t)\n",
      "/opt/anaconda3/envs/alex_env/lib/python3.10/site-packages/skfda/preprocessing/dim_reduction/_fpca.py:231: RuntimeWarning: overflow encountered in matmul\n",
      "  final_matrix = X.coefficients @ np.transpose(l_inv_j_t)\n",
      "/opt/anaconda3/envs/alex_env/lib/python3.10/site-packages/skfda/preprocessing/dim_reduction/_fpca.py:231: RuntimeWarning: invalid value encountered in matmul\n",
      "  final_matrix = X.coefficients @ np.transpose(l_inv_j_t)\n",
      "/opt/anaconda3/envs/alex_env/lib/python3.10/site-packages/skfda/preprocessing/dim_reduction/_fpca.py:281: RuntimeWarning: divide by zero encountered in matmul\n",
      "  X.coefficients @ self._j_matrix\n",
      "/opt/anaconda3/envs/alex_env/lib/python3.10/site-packages/skfda/preprocessing/dim_reduction/_fpca.py:281: RuntimeWarning: overflow encountered in matmul\n",
      "  X.coefficients @ self._j_matrix\n",
      "/opt/anaconda3/envs/alex_env/lib/python3.10/site-packages/skfda/preprocessing/dim_reduction/_fpca.py:281: RuntimeWarning: invalid value encountered in matmul\n",
      "  X.coefficients @ self._j_matrix\n"
     ]
    },
    {
     "name": "stdout",
     "output_type": "stream",
     "text": [
      "norms of the basis are: [1. 1. 1. 1. 1.]\n"
     ]
    },
    {
     "name": "stderr",
     "output_type": "stream",
     "text": [
      "/opt/anaconda3/envs/alex_env/lib/python3.10/site-packages/skfda/preprocessing/dim_reduction/_fpca.py:231: RuntimeWarning: divide by zero encountered in matmul\n",
      "  final_matrix = X.coefficients @ np.transpose(l_inv_j_t)\n",
      "/opt/anaconda3/envs/alex_env/lib/python3.10/site-packages/skfda/preprocessing/dim_reduction/_fpca.py:231: RuntimeWarning: overflow encountered in matmul\n",
      "  final_matrix = X.coefficients @ np.transpose(l_inv_j_t)\n",
      "/opt/anaconda3/envs/alex_env/lib/python3.10/site-packages/skfda/preprocessing/dim_reduction/_fpca.py:231: RuntimeWarning: invalid value encountered in matmul\n",
      "  final_matrix = X.coefficients @ np.transpose(l_inv_j_t)\n",
      "/opt/anaconda3/envs/alex_env/lib/python3.10/site-packages/skfda/preprocessing/dim_reduction/_fpca.py:281: RuntimeWarning: divide by zero encountered in matmul\n",
      "  X.coefficients @ self._j_matrix\n",
      "/opt/anaconda3/envs/alex_env/lib/python3.10/site-packages/skfda/preprocessing/dim_reduction/_fpca.py:281: RuntimeWarning: overflow encountered in matmul\n",
      "  X.coefficients @ self._j_matrix\n",
      "/opt/anaconda3/envs/alex_env/lib/python3.10/site-packages/skfda/preprocessing/dim_reduction/_fpca.py:281: RuntimeWarning: invalid value encountered in matmul\n",
      "  X.coefficients @ self._j_matrix\n"
     ]
    },
    {
     "name": "stdout",
     "output_type": "stream",
     "text": [
      "norms of the basis are: [1. 1. 1. 1. 1.]\n"
     ]
    },
    {
     "name": "stderr",
     "output_type": "stream",
     "text": [
      "/opt/anaconda3/envs/alex_env/lib/python3.10/site-packages/skfda/preprocessing/dim_reduction/_fpca.py:231: RuntimeWarning: divide by zero encountered in matmul\n",
      "  final_matrix = X.coefficients @ np.transpose(l_inv_j_t)\n",
      "/opt/anaconda3/envs/alex_env/lib/python3.10/site-packages/skfda/preprocessing/dim_reduction/_fpca.py:231: RuntimeWarning: overflow encountered in matmul\n",
      "  final_matrix = X.coefficients @ np.transpose(l_inv_j_t)\n",
      "/opt/anaconda3/envs/alex_env/lib/python3.10/site-packages/skfda/preprocessing/dim_reduction/_fpca.py:231: RuntimeWarning: invalid value encountered in matmul\n",
      "  final_matrix = X.coefficients @ np.transpose(l_inv_j_t)\n",
      "/opt/anaconda3/envs/alex_env/lib/python3.10/site-packages/skfda/preprocessing/dim_reduction/_fpca.py:281: RuntimeWarning: divide by zero encountered in matmul\n",
      "  X.coefficients @ self._j_matrix\n",
      "/opt/anaconda3/envs/alex_env/lib/python3.10/site-packages/skfda/preprocessing/dim_reduction/_fpca.py:281: RuntimeWarning: overflow encountered in matmul\n",
      "  X.coefficients @ self._j_matrix\n",
      "/opt/anaconda3/envs/alex_env/lib/python3.10/site-packages/skfda/preprocessing/dim_reduction/_fpca.py:281: RuntimeWarning: invalid value encountered in matmul\n",
      "  X.coefficients @ self._j_matrix\n"
     ]
    },
    {
     "name": "stdout",
     "output_type": "stream",
     "text": [
      "norms of the basis are: [1. 1. 1. 1. 1.]\n"
     ]
    },
    {
     "name": "stderr",
     "output_type": "stream",
     "text": [
      "/opt/anaconda3/envs/alex_env/lib/python3.10/site-packages/skfda/preprocessing/dim_reduction/_fpca.py:231: RuntimeWarning: divide by zero encountered in matmul\n",
      "  final_matrix = X.coefficients @ np.transpose(l_inv_j_t)\n",
      "/opt/anaconda3/envs/alex_env/lib/python3.10/site-packages/skfda/preprocessing/dim_reduction/_fpca.py:231: RuntimeWarning: overflow encountered in matmul\n",
      "  final_matrix = X.coefficients @ np.transpose(l_inv_j_t)\n",
      "/opt/anaconda3/envs/alex_env/lib/python3.10/site-packages/skfda/preprocessing/dim_reduction/_fpca.py:231: RuntimeWarning: invalid value encountered in matmul\n",
      "  final_matrix = X.coefficients @ np.transpose(l_inv_j_t)\n",
      "/opt/anaconda3/envs/alex_env/lib/python3.10/site-packages/skfda/preprocessing/dim_reduction/_fpca.py:281: RuntimeWarning: divide by zero encountered in matmul\n",
      "  X.coefficients @ self._j_matrix\n",
      "/opt/anaconda3/envs/alex_env/lib/python3.10/site-packages/skfda/preprocessing/dim_reduction/_fpca.py:281: RuntimeWarning: overflow encountered in matmul\n",
      "  X.coefficients @ self._j_matrix\n",
      "/opt/anaconda3/envs/alex_env/lib/python3.10/site-packages/skfda/preprocessing/dim_reduction/_fpca.py:281: RuntimeWarning: invalid value encountered in matmul\n",
      "  X.coefficients @ self._j_matrix\n"
     ]
    },
    {
     "name": "stdout",
     "output_type": "stream",
     "text": [
      "norms of the basis are: [1. 1. 1. 1. 1.]\n"
     ]
    },
    {
     "name": "stderr",
     "output_type": "stream",
     "text": [
      "/opt/anaconda3/envs/alex_env/lib/python3.10/site-packages/skfda/preprocessing/dim_reduction/_fpca.py:231: RuntimeWarning: divide by zero encountered in matmul\n",
      "  final_matrix = X.coefficients @ np.transpose(l_inv_j_t)\n",
      "/opt/anaconda3/envs/alex_env/lib/python3.10/site-packages/skfda/preprocessing/dim_reduction/_fpca.py:231: RuntimeWarning: overflow encountered in matmul\n",
      "  final_matrix = X.coefficients @ np.transpose(l_inv_j_t)\n",
      "/opt/anaconda3/envs/alex_env/lib/python3.10/site-packages/skfda/preprocessing/dim_reduction/_fpca.py:231: RuntimeWarning: invalid value encountered in matmul\n",
      "  final_matrix = X.coefficients @ np.transpose(l_inv_j_t)\n",
      "/opt/anaconda3/envs/alex_env/lib/python3.10/site-packages/skfda/preprocessing/dim_reduction/_fpca.py:281: RuntimeWarning: divide by zero encountered in matmul\n",
      "  X.coefficients @ self._j_matrix\n",
      "/opt/anaconda3/envs/alex_env/lib/python3.10/site-packages/skfda/preprocessing/dim_reduction/_fpca.py:281: RuntimeWarning: overflow encountered in matmul\n",
      "  X.coefficients @ self._j_matrix\n",
      "/opt/anaconda3/envs/alex_env/lib/python3.10/site-packages/skfda/preprocessing/dim_reduction/_fpca.py:281: RuntimeWarning: invalid value encountered in matmul\n",
      "  X.coefficients @ self._j_matrix\n"
     ]
    },
    {
     "name": "stdout",
     "output_type": "stream",
     "text": [
      "norms of the basis are: [1. 1. 1. 1. 1.]\n"
     ]
    },
    {
     "name": "stderr",
     "output_type": "stream",
     "text": [
      "/opt/anaconda3/envs/alex_env/lib/python3.10/site-packages/skfda/preprocessing/dim_reduction/_fpca.py:231: RuntimeWarning: divide by zero encountered in matmul\n",
      "  final_matrix = X.coefficients @ np.transpose(l_inv_j_t)\n",
      "/opt/anaconda3/envs/alex_env/lib/python3.10/site-packages/skfda/preprocessing/dim_reduction/_fpca.py:231: RuntimeWarning: overflow encountered in matmul\n",
      "  final_matrix = X.coefficients @ np.transpose(l_inv_j_t)\n",
      "/opt/anaconda3/envs/alex_env/lib/python3.10/site-packages/skfda/preprocessing/dim_reduction/_fpca.py:231: RuntimeWarning: invalid value encountered in matmul\n",
      "  final_matrix = X.coefficients @ np.transpose(l_inv_j_t)\n",
      "/opt/anaconda3/envs/alex_env/lib/python3.10/site-packages/skfda/preprocessing/dim_reduction/_fpca.py:281: RuntimeWarning: divide by zero encountered in matmul\n",
      "  X.coefficients @ self._j_matrix\n",
      "/opt/anaconda3/envs/alex_env/lib/python3.10/site-packages/skfda/preprocessing/dim_reduction/_fpca.py:281: RuntimeWarning: overflow encountered in matmul\n",
      "  X.coefficients @ self._j_matrix\n",
      "/opt/anaconda3/envs/alex_env/lib/python3.10/site-packages/skfda/preprocessing/dim_reduction/_fpca.py:281: RuntimeWarning: invalid value encountered in matmul\n",
      "  X.coefficients @ self._j_matrix\n"
     ]
    },
    {
     "name": "stdout",
     "output_type": "stream",
     "text": [
      "norms of the basis are: [1. 1. 1. 1. 1.]\n"
     ]
    },
    {
     "name": "stderr",
     "output_type": "stream",
     "text": [
      "/opt/anaconda3/envs/alex_env/lib/python3.10/site-packages/skfda/preprocessing/dim_reduction/_fpca.py:231: RuntimeWarning: divide by zero encountered in matmul\n",
      "  final_matrix = X.coefficients @ np.transpose(l_inv_j_t)\n",
      "/opt/anaconda3/envs/alex_env/lib/python3.10/site-packages/skfda/preprocessing/dim_reduction/_fpca.py:231: RuntimeWarning: overflow encountered in matmul\n",
      "  final_matrix = X.coefficients @ np.transpose(l_inv_j_t)\n",
      "/opt/anaconda3/envs/alex_env/lib/python3.10/site-packages/skfda/preprocessing/dim_reduction/_fpca.py:231: RuntimeWarning: invalid value encountered in matmul\n",
      "  final_matrix = X.coefficients @ np.transpose(l_inv_j_t)\n",
      "/opt/anaconda3/envs/alex_env/lib/python3.10/site-packages/skfda/preprocessing/dim_reduction/_fpca.py:281: RuntimeWarning: divide by zero encountered in matmul\n",
      "  X.coefficients @ self._j_matrix\n",
      "/opt/anaconda3/envs/alex_env/lib/python3.10/site-packages/skfda/preprocessing/dim_reduction/_fpca.py:281: RuntimeWarning: overflow encountered in matmul\n",
      "  X.coefficients @ self._j_matrix\n",
      "/opt/anaconda3/envs/alex_env/lib/python3.10/site-packages/skfda/preprocessing/dim_reduction/_fpca.py:281: RuntimeWarning: invalid value encountered in matmul\n",
      "  X.coefficients @ self._j_matrix\n"
     ]
    },
    {
     "name": "stdout",
     "output_type": "stream",
     "text": [
      "norms of the basis are: [1. 1. 1. 1. 1.]\n"
     ]
    },
    {
     "name": "stderr",
     "output_type": "stream",
     "text": [
      "/opt/anaconda3/envs/alex_env/lib/python3.10/site-packages/skfda/preprocessing/dim_reduction/_fpca.py:231: RuntimeWarning: divide by zero encountered in matmul\n",
      "  final_matrix = X.coefficients @ np.transpose(l_inv_j_t)\n",
      "/opt/anaconda3/envs/alex_env/lib/python3.10/site-packages/skfda/preprocessing/dim_reduction/_fpca.py:231: RuntimeWarning: overflow encountered in matmul\n",
      "  final_matrix = X.coefficients @ np.transpose(l_inv_j_t)\n",
      "/opt/anaconda3/envs/alex_env/lib/python3.10/site-packages/skfda/preprocessing/dim_reduction/_fpca.py:231: RuntimeWarning: invalid value encountered in matmul\n",
      "  final_matrix = X.coefficients @ np.transpose(l_inv_j_t)\n",
      "/opt/anaconda3/envs/alex_env/lib/python3.10/site-packages/skfda/preprocessing/dim_reduction/_fpca.py:281: RuntimeWarning: divide by zero encountered in matmul\n",
      "  X.coefficients @ self._j_matrix\n",
      "/opt/anaconda3/envs/alex_env/lib/python3.10/site-packages/skfda/preprocessing/dim_reduction/_fpca.py:281: RuntimeWarning: overflow encountered in matmul\n",
      "  X.coefficients @ self._j_matrix\n",
      "/opt/anaconda3/envs/alex_env/lib/python3.10/site-packages/skfda/preprocessing/dim_reduction/_fpca.py:281: RuntimeWarning: invalid value encountered in matmul\n",
      "  X.coefficients @ self._j_matrix\n"
     ]
    },
    {
     "name": "stdout",
     "output_type": "stream",
     "text": [
      "norms of the basis are: [1. 1. 1. 1. 1.]\n"
     ]
    },
    {
     "name": "stderr",
     "output_type": "stream",
     "text": [
      "/opt/anaconda3/envs/alex_env/lib/python3.10/site-packages/skfda/preprocessing/dim_reduction/_fpca.py:231: RuntimeWarning: divide by zero encountered in matmul\n",
      "  final_matrix = X.coefficients @ np.transpose(l_inv_j_t)\n",
      "/opt/anaconda3/envs/alex_env/lib/python3.10/site-packages/skfda/preprocessing/dim_reduction/_fpca.py:231: RuntimeWarning: overflow encountered in matmul\n",
      "  final_matrix = X.coefficients @ np.transpose(l_inv_j_t)\n",
      "/opt/anaconda3/envs/alex_env/lib/python3.10/site-packages/skfda/preprocessing/dim_reduction/_fpca.py:231: RuntimeWarning: invalid value encountered in matmul\n",
      "  final_matrix = X.coefficients @ np.transpose(l_inv_j_t)\n",
      "/opt/anaconda3/envs/alex_env/lib/python3.10/site-packages/skfda/preprocessing/dim_reduction/_fpca.py:281: RuntimeWarning: divide by zero encountered in matmul\n",
      "  X.coefficients @ self._j_matrix\n",
      "/opt/anaconda3/envs/alex_env/lib/python3.10/site-packages/skfda/preprocessing/dim_reduction/_fpca.py:281: RuntimeWarning: overflow encountered in matmul\n",
      "  X.coefficients @ self._j_matrix\n",
      "/opt/anaconda3/envs/alex_env/lib/python3.10/site-packages/skfda/preprocessing/dim_reduction/_fpca.py:281: RuntimeWarning: invalid value encountered in matmul\n",
      "  X.coefficients @ self._j_matrix\n"
     ]
    },
    {
     "name": "stdout",
     "output_type": "stream",
     "text": [
      "norms of the basis are: [1. 1. 1. 1. 1.]\n"
     ]
    },
    {
     "name": "stderr",
     "output_type": "stream",
     "text": [
      "/opt/anaconda3/envs/alex_env/lib/python3.10/site-packages/skfda/preprocessing/dim_reduction/_fpca.py:231: RuntimeWarning: divide by zero encountered in matmul\n",
      "  final_matrix = X.coefficients @ np.transpose(l_inv_j_t)\n",
      "/opt/anaconda3/envs/alex_env/lib/python3.10/site-packages/skfda/preprocessing/dim_reduction/_fpca.py:231: RuntimeWarning: overflow encountered in matmul\n",
      "  final_matrix = X.coefficients @ np.transpose(l_inv_j_t)\n",
      "/opt/anaconda3/envs/alex_env/lib/python3.10/site-packages/skfda/preprocessing/dim_reduction/_fpca.py:231: RuntimeWarning: invalid value encountered in matmul\n",
      "  final_matrix = X.coefficients @ np.transpose(l_inv_j_t)\n",
      "/opt/anaconda3/envs/alex_env/lib/python3.10/site-packages/skfda/preprocessing/dim_reduction/_fpca.py:281: RuntimeWarning: divide by zero encountered in matmul\n",
      "  X.coefficients @ self._j_matrix\n",
      "/opt/anaconda3/envs/alex_env/lib/python3.10/site-packages/skfda/preprocessing/dim_reduction/_fpca.py:281: RuntimeWarning: overflow encountered in matmul\n",
      "  X.coefficients @ self._j_matrix\n",
      "/opt/anaconda3/envs/alex_env/lib/python3.10/site-packages/skfda/preprocessing/dim_reduction/_fpca.py:281: RuntimeWarning: invalid value encountered in matmul\n",
      "  X.coefficients @ self._j_matrix\n"
     ]
    },
    {
     "name": "stdout",
     "output_type": "stream",
     "text": [
      "norms of the basis are: [1. 1. 1. 1. 1.]\n"
     ]
    },
    {
     "name": "stderr",
     "output_type": "stream",
     "text": [
      "/opt/anaconda3/envs/alex_env/lib/python3.10/site-packages/skfda/preprocessing/dim_reduction/_fpca.py:231: RuntimeWarning: divide by zero encountered in matmul\n",
      "  final_matrix = X.coefficients @ np.transpose(l_inv_j_t)\n",
      "/opt/anaconda3/envs/alex_env/lib/python3.10/site-packages/skfda/preprocessing/dim_reduction/_fpca.py:231: RuntimeWarning: overflow encountered in matmul\n",
      "  final_matrix = X.coefficients @ np.transpose(l_inv_j_t)\n",
      "/opt/anaconda3/envs/alex_env/lib/python3.10/site-packages/skfda/preprocessing/dim_reduction/_fpca.py:231: RuntimeWarning: invalid value encountered in matmul\n",
      "  final_matrix = X.coefficients @ np.transpose(l_inv_j_t)\n",
      "/opt/anaconda3/envs/alex_env/lib/python3.10/site-packages/skfda/preprocessing/dim_reduction/_fpca.py:281: RuntimeWarning: divide by zero encountered in matmul\n",
      "  X.coefficients @ self._j_matrix\n",
      "/opt/anaconda3/envs/alex_env/lib/python3.10/site-packages/skfda/preprocessing/dim_reduction/_fpca.py:281: RuntimeWarning: overflow encountered in matmul\n",
      "  X.coefficients @ self._j_matrix\n",
      "/opt/anaconda3/envs/alex_env/lib/python3.10/site-packages/skfda/preprocessing/dim_reduction/_fpca.py:281: RuntimeWarning: invalid value encountered in matmul\n",
      "  X.coefficients @ self._j_matrix\n"
     ]
    },
    {
     "name": "stdout",
     "output_type": "stream",
     "text": [
      "norms of the basis are: [1. 1. 1. 1. 1.]\n"
     ]
    },
    {
     "name": "stderr",
     "output_type": "stream",
     "text": [
      "/opt/anaconda3/envs/alex_env/lib/python3.10/site-packages/skfda/preprocessing/dim_reduction/_fpca.py:231: RuntimeWarning: divide by zero encountered in matmul\n",
      "  final_matrix = X.coefficients @ np.transpose(l_inv_j_t)\n",
      "/opt/anaconda3/envs/alex_env/lib/python3.10/site-packages/skfda/preprocessing/dim_reduction/_fpca.py:231: RuntimeWarning: overflow encountered in matmul\n",
      "  final_matrix = X.coefficients @ np.transpose(l_inv_j_t)\n",
      "/opt/anaconda3/envs/alex_env/lib/python3.10/site-packages/skfda/preprocessing/dim_reduction/_fpca.py:231: RuntimeWarning: invalid value encountered in matmul\n",
      "  final_matrix = X.coefficients @ np.transpose(l_inv_j_t)\n",
      "/opt/anaconda3/envs/alex_env/lib/python3.10/site-packages/skfda/preprocessing/dim_reduction/_fpca.py:281: RuntimeWarning: divide by zero encountered in matmul\n",
      "  X.coefficients @ self._j_matrix\n",
      "/opt/anaconda3/envs/alex_env/lib/python3.10/site-packages/skfda/preprocessing/dim_reduction/_fpca.py:281: RuntimeWarning: overflow encountered in matmul\n",
      "  X.coefficients @ self._j_matrix\n",
      "/opt/anaconda3/envs/alex_env/lib/python3.10/site-packages/skfda/preprocessing/dim_reduction/_fpca.py:281: RuntimeWarning: invalid value encountered in matmul\n",
      "  X.coefficients @ self._j_matrix\n"
     ]
    },
    {
     "name": "stdout",
     "output_type": "stream",
     "text": [
      "norms of the basis are: [1. 1. 1. 1. 1.]\n"
     ]
    },
    {
     "name": "stderr",
     "output_type": "stream",
     "text": [
      "/opt/anaconda3/envs/alex_env/lib/python3.10/site-packages/skfda/preprocessing/dim_reduction/_fpca.py:231: RuntimeWarning: divide by zero encountered in matmul\n",
      "  final_matrix = X.coefficients @ np.transpose(l_inv_j_t)\n",
      "/opt/anaconda3/envs/alex_env/lib/python3.10/site-packages/skfda/preprocessing/dim_reduction/_fpca.py:231: RuntimeWarning: overflow encountered in matmul\n",
      "  final_matrix = X.coefficients @ np.transpose(l_inv_j_t)\n",
      "/opt/anaconda3/envs/alex_env/lib/python3.10/site-packages/skfda/preprocessing/dim_reduction/_fpca.py:231: RuntimeWarning: invalid value encountered in matmul\n",
      "  final_matrix = X.coefficients @ np.transpose(l_inv_j_t)\n",
      "/opt/anaconda3/envs/alex_env/lib/python3.10/site-packages/skfda/preprocessing/dim_reduction/_fpca.py:281: RuntimeWarning: divide by zero encountered in matmul\n",
      "  X.coefficients @ self._j_matrix\n",
      "/opt/anaconda3/envs/alex_env/lib/python3.10/site-packages/skfda/preprocessing/dim_reduction/_fpca.py:281: RuntimeWarning: overflow encountered in matmul\n",
      "  X.coefficients @ self._j_matrix\n",
      "/opt/anaconda3/envs/alex_env/lib/python3.10/site-packages/skfda/preprocessing/dim_reduction/_fpca.py:281: RuntimeWarning: invalid value encountered in matmul\n",
      "  X.coefficients @ self._j_matrix\n"
     ]
    },
    {
     "name": "stdout",
     "output_type": "stream",
     "text": [
      "norms of the basis are: [1. 1. 1. 1. 1.]\n"
     ]
    },
    {
     "name": "stderr",
     "output_type": "stream",
     "text": [
      "/opt/anaconda3/envs/alex_env/lib/python3.10/site-packages/skfda/preprocessing/dim_reduction/_fpca.py:231: RuntimeWarning: divide by zero encountered in matmul\n",
      "  final_matrix = X.coefficients @ np.transpose(l_inv_j_t)\n",
      "/opt/anaconda3/envs/alex_env/lib/python3.10/site-packages/skfda/preprocessing/dim_reduction/_fpca.py:231: RuntimeWarning: overflow encountered in matmul\n",
      "  final_matrix = X.coefficients @ np.transpose(l_inv_j_t)\n",
      "/opt/anaconda3/envs/alex_env/lib/python3.10/site-packages/skfda/preprocessing/dim_reduction/_fpca.py:231: RuntimeWarning: invalid value encountered in matmul\n",
      "  final_matrix = X.coefficients @ np.transpose(l_inv_j_t)\n",
      "/opt/anaconda3/envs/alex_env/lib/python3.10/site-packages/skfda/preprocessing/dim_reduction/_fpca.py:281: RuntimeWarning: divide by zero encountered in matmul\n",
      "  X.coefficients @ self._j_matrix\n",
      "/opt/anaconda3/envs/alex_env/lib/python3.10/site-packages/skfda/preprocessing/dim_reduction/_fpca.py:281: RuntimeWarning: overflow encountered in matmul\n",
      "  X.coefficients @ self._j_matrix\n",
      "/opt/anaconda3/envs/alex_env/lib/python3.10/site-packages/skfda/preprocessing/dim_reduction/_fpca.py:281: RuntimeWarning: invalid value encountered in matmul\n",
      "  X.coefficients @ self._j_matrix\n"
     ]
    },
    {
     "name": "stdout",
     "output_type": "stream",
     "text": [
      "norms of the basis are: [1. 1. 1. 1. 1.]\n"
     ]
    },
    {
     "name": "stderr",
     "output_type": "stream",
     "text": [
      "/opt/anaconda3/envs/alex_env/lib/python3.10/site-packages/skfda/preprocessing/dim_reduction/_fpca.py:231: RuntimeWarning: divide by zero encountered in matmul\n",
      "  final_matrix = X.coefficients @ np.transpose(l_inv_j_t)\n",
      "/opt/anaconda3/envs/alex_env/lib/python3.10/site-packages/skfda/preprocessing/dim_reduction/_fpca.py:231: RuntimeWarning: overflow encountered in matmul\n",
      "  final_matrix = X.coefficients @ np.transpose(l_inv_j_t)\n",
      "/opt/anaconda3/envs/alex_env/lib/python3.10/site-packages/skfda/preprocessing/dim_reduction/_fpca.py:231: RuntimeWarning: invalid value encountered in matmul\n",
      "  final_matrix = X.coefficients @ np.transpose(l_inv_j_t)\n",
      "/opt/anaconda3/envs/alex_env/lib/python3.10/site-packages/skfda/preprocessing/dim_reduction/_fpca.py:281: RuntimeWarning: divide by zero encountered in matmul\n",
      "  X.coefficients @ self._j_matrix\n",
      "/opt/anaconda3/envs/alex_env/lib/python3.10/site-packages/skfda/preprocessing/dim_reduction/_fpca.py:281: RuntimeWarning: overflow encountered in matmul\n",
      "  X.coefficients @ self._j_matrix\n",
      "/opt/anaconda3/envs/alex_env/lib/python3.10/site-packages/skfda/preprocessing/dim_reduction/_fpca.py:281: RuntimeWarning: invalid value encountered in matmul\n",
      "  X.coefficients @ self._j_matrix\n"
     ]
    },
    {
     "name": "stdout",
     "output_type": "stream",
     "text": [
      "norms of the basis are: [1. 1. 1. 1. 1.]\n"
     ]
    },
    {
     "name": "stderr",
     "output_type": "stream",
     "text": [
      "/opt/anaconda3/envs/alex_env/lib/python3.10/site-packages/skfda/preprocessing/dim_reduction/_fpca.py:231: RuntimeWarning: divide by zero encountered in matmul\n",
      "  final_matrix = X.coefficients @ np.transpose(l_inv_j_t)\n",
      "/opt/anaconda3/envs/alex_env/lib/python3.10/site-packages/skfda/preprocessing/dim_reduction/_fpca.py:231: RuntimeWarning: overflow encountered in matmul\n",
      "  final_matrix = X.coefficients @ np.transpose(l_inv_j_t)\n",
      "/opt/anaconda3/envs/alex_env/lib/python3.10/site-packages/skfda/preprocessing/dim_reduction/_fpca.py:231: RuntimeWarning: invalid value encountered in matmul\n",
      "  final_matrix = X.coefficients @ np.transpose(l_inv_j_t)\n",
      "/opt/anaconda3/envs/alex_env/lib/python3.10/site-packages/skfda/preprocessing/dim_reduction/_fpca.py:281: RuntimeWarning: divide by zero encountered in matmul\n",
      "  X.coefficients @ self._j_matrix\n",
      "/opt/anaconda3/envs/alex_env/lib/python3.10/site-packages/skfda/preprocessing/dim_reduction/_fpca.py:281: RuntimeWarning: overflow encountered in matmul\n",
      "  X.coefficients @ self._j_matrix\n",
      "/opt/anaconda3/envs/alex_env/lib/python3.10/site-packages/skfda/preprocessing/dim_reduction/_fpca.py:281: RuntimeWarning: invalid value encountered in matmul\n",
      "  X.coefficients @ self._j_matrix\n"
     ]
    },
    {
     "name": "stdout",
     "output_type": "stream",
     "text": [
      "norms of the basis are: [1. 1. 1. 1. 1.]\n"
     ]
    },
    {
     "name": "stderr",
     "output_type": "stream",
     "text": [
      "/opt/anaconda3/envs/alex_env/lib/python3.10/site-packages/skfda/preprocessing/dim_reduction/_fpca.py:231: RuntimeWarning: divide by zero encountered in matmul\n",
      "  final_matrix = X.coefficients @ np.transpose(l_inv_j_t)\n",
      "/opt/anaconda3/envs/alex_env/lib/python3.10/site-packages/skfda/preprocessing/dim_reduction/_fpca.py:231: RuntimeWarning: overflow encountered in matmul\n",
      "  final_matrix = X.coefficients @ np.transpose(l_inv_j_t)\n",
      "/opt/anaconda3/envs/alex_env/lib/python3.10/site-packages/skfda/preprocessing/dim_reduction/_fpca.py:231: RuntimeWarning: invalid value encountered in matmul\n",
      "  final_matrix = X.coefficients @ np.transpose(l_inv_j_t)\n",
      "/opt/anaconda3/envs/alex_env/lib/python3.10/site-packages/skfda/preprocessing/dim_reduction/_fpca.py:281: RuntimeWarning: divide by zero encountered in matmul\n",
      "  X.coefficients @ self._j_matrix\n",
      "/opt/anaconda3/envs/alex_env/lib/python3.10/site-packages/skfda/preprocessing/dim_reduction/_fpca.py:281: RuntimeWarning: overflow encountered in matmul\n",
      "  X.coefficients @ self._j_matrix\n",
      "/opt/anaconda3/envs/alex_env/lib/python3.10/site-packages/skfda/preprocessing/dim_reduction/_fpca.py:281: RuntimeWarning: invalid value encountered in matmul\n",
      "  X.coefficients @ self._j_matrix\n"
     ]
    },
    {
     "name": "stdout",
     "output_type": "stream",
     "text": [
      "norms of the basis are: [1. 1. 1. 1. 1.]\n"
     ]
    },
    {
     "name": "stderr",
     "output_type": "stream",
     "text": [
      "/opt/anaconda3/envs/alex_env/lib/python3.10/site-packages/skfda/preprocessing/dim_reduction/_fpca.py:231: RuntimeWarning: divide by zero encountered in matmul\n",
      "  final_matrix = X.coefficients @ np.transpose(l_inv_j_t)\n",
      "/opt/anaconda3/envs/alex_env/lib/python3.10/site-packages/skfda/preprocessing/dim_reduction/_fpca.py:231: RuntimeWarning: overflow encountered in matmul\n",
      "  final_matrix = X.coefficients @ np.transpose(l_inv_j_t)\n",
      "/opt/anaconda3/envs/alex_env/lib/python3.10/site-packages/skfda/preprocessing/dim_reduction/_fpca.py:231: RuntimeWarning: invalid value encountered in matmul\n",
      "  final_matrix = X.coefficients @ np.transpose(l_inv_j_t)\n",
      "/opt/anaconda3/envs/alex_env/lib/python3.10/site-packages/skfda/preprocessing/dim_reduction/_fpca.py:281: RuntimeWarning: divide by zero encountered in matmul\n",
      "  X.coefficients @ self._j_matrix\n",
      "/opt/anaconda3/envs/alex_env/lib/python3.10/site-packages/skfda/preprocessing/dim_reduction/_fpca.py:281: RuntimeWarning: overflow encountered in matmul\n",
      "  X.coefficients @ self._j_matrix\n",
      "/opt/anaconda3/envs/alex_env/lib/python3.10/site-packages/skfda/preprocessing/dim_reduction/_fpca.py:281: RuntimeWarning: invalid value encountered in matmul\n",
      "  X.coefficients @ self._j_matrix\n"
     ]
    },
    {
     "name": "stdout",
     "output_type": "stream",
     "text": [
      "norms of the basis are: [1. 1. 1. 1. 1.]\n"
     ]
    },
    {
     "name": "stderr",
     "output_type": "stream",
     "text": [
      "/opt/anaconda3/envs/alex_env/lib/python3.10/site-packages/skfda/preprocessing/dim_reduction/_fpca.py:231: RuntimeWarning: divide by zero encountered in matmul\n",
      "  final_matrix = X.coefficients @ np.transpose(l_inv_j_t)\n",
      "/opt/anaconda3/envs/alex_env/lib/python3.10/site-packages/skfda/preprocessing/dim_reduction/_fpca.py:231: RuntimeWarning: overflow encountered in matmul\n",
      "  final_matrix = X.coefficients @ np.transpose(l_inv_j_t)\n",
      "/opt/anaconda3/envs/alex_env/lib/python3.10/site-packages/skfda/preprocessing/dim_reduction/_fpca.py:231: RuntimeWarning: invalid value encountered in matmul\n",
      "  final_matrix = X.coefficients @ np.transpose(l_inv_j_t)\n",
      "/opt/anaconda3/envs/alex_env/lib/python3.10/site-packages/skfda/preprocessing/dim_reduction/_fpca.py:281: RuntimeWarning: divide by zero encountered in matmul\n",
      "  X.coefficients @ self._j_matrix\n",
      "/opt/anaconda3/envs/alex_env/lib/python3.10/site-packages/skfda/preprocessing/dim_reduction/_fpca.py:281: RuntimeWarning: overflow encountered in matmul\n",
      "  X.coefficients @ self._j_matrix\n",
      "/opt/anaconda3/envs/alex_env/lib/python3.10/site-packages/skfda/preprocessing/dim_reduction/_fpca.py:281: RuntimeWarning: invalid value encountered in matmul\n",
      "  X.coefficients @ self._j_matrix\n"
     ]
    },
    {
     "name": "stdout",
     "output_type": "stream",
     "text": [
      "norms of the basis are: [1. 1. 1. 1. 1.]\n"
     ]
    },
    {
     "name": "stderr",
     "output_type": "stream",
     "text": [
      "/opt/anaconda3/envs/alex_env/lib/python3.10/site-packages/skfda/preprocessing/dim_reduction/_fpca.py:231: RuntimeWarning: divide by zero encountered in matmul\n",
      "  final_matrix = X.coefficients @ np.transpose(l_inv_j_t)\n",
      "/opt/anaconda3/envs/alex_env/lib/python3.10/site-packages/skfda/preprocessing/dim_reduction/_fpca.py:231: RuntimeWarning: overflow encountered in matmul\n",
      "  final_matrix = X.coefficients @ np.transpose(l_inv_j_t)\n",
      "/opt/anaconda3/envs/alex_env/lib/python3.10/site-packages/skfda/preprocessing/dim_reduction/_fpca.py:231: RuntimeWarning: invalid value encountered in matmul\n",
      "  final_matrix = X.coefficients @ np.transpose(l_inv_j_t)\n",
      "/opt/anaconda3/envs/alex_env/lib/python3.10/site-packages/skfda/preprocessing/dim_reduction/_fpca.py:281: RuntimeWarning: divide by zero encountered in matmul\n",
      "  X.coefficients @ self._j_matrix\n",
      "/opt/anaconda3/envs/alex_env/lib/python3.10/site-packages/skfda/preprocessing/dim_reduction/_fpca.py:281: RuntimeWarning: overflow encountered in matmul\n",
      "  X.coefficients @ self._j_matrix\n",
      "/opt/anaconda3/envs/alex_env/lib/python3.10/site-packages/skfda/preprocessing/dim_reduction/_fpca.py:281: RuntimeWarning: invalid value encountered in matmul\n",
      "  X.coefficients @ self._j_matrix\n"
     ]
    },
    {
     "name": "stdout",
     "output_type": "stream",
     "text": [
      "norms of the basis are: [1. 1. 1. 1. 1.]\n"
     ]
    },
    {
     "name": "stderr",
     "output_type": "stream",
     "text": [
      "/opt/anaconda3/envs/alex_env/lib/python3.10/site-packages/skfda/preprocessing/dim_reduction/_fpca.py:231: RuntimeWarning: divide by zero encountered in matmul\n",
      "  final_matrix = X.coefficients @ np.transpose(l_inv_j_t)\n",
      "/opt/anaconda3/envs/alex_env/lib/python3.10/site-packages/skfda/preprocessing/dim_reduction/_fpca.py:231: RuntimeWarning: overflow encountered in matmul\n",
      "  final_matrix = X.coefficients @ np.transpose(l_inv_j_t)\n",
      "/opt/anaconda3/envs/alex_env/lib/python3.10/site-packages/skfda/preprocessing/dim_reduction/_fpca.py:231: RuntimeWarning: invalid value encountered in matmul\n",
      "  final_matrix = X.coefficients @ np.transpose(l_inv_j_t)\n",
      "/opt/anaconda3/envs/alex_env/lib/python3.10/site-packages/skfda/preprocessing/dim_reduction/_fpca.py:281: RuntimeWarning: divide by zero encountered in matmul\n",
      "  X.coefficients @ self._j_matrix\n",
      "/opt/anaconda3/envs/alex_env/lib/python3.10/site-packages/skfda/preprocessing/dim_reduction/_fpca.py:281: RuntimeWarning: overflow encountered in matmul\n",
      "  X.coefficients @ self._j_matrix\n",
      "/opt/anaconda3/envs/alex_env/lib/python3.10/site-packages/skfda/preprocessing/dim_reduction/_fpca.py:281: RuntimeWarning: invalid value encountered in matmul\n",
      "  X.coefficients @ self._j_matrix\n"
     ]
    },
    {
     "name": "stdout",
     "output_type": "stream",
     "text": [
      "norms of the basis are: [1. 1. 1. 1. 1.]\n"
     ]
    },
    {
     "name": "stderr",
     "output_type": "stream",
     "text": [
      "/opt/anaconda3/envs/alex_env/lib/python3.10/site-packages/skfda/preprocessing/dim_reduction/_fpca.py:231: RuntimeWarning: divide by zero encountered in matmul\n",
      "  final_matrix = X.coefficients @ np.transpose(l_inv_j_t)\n",
      "/opt/anaconda3/envs/alex_env/lib/python3.10/site-packages/skfda/preprocessing/dim_reduction/_fpca.py:231: RuntimeWarning: overflow encountered in matmul\n",
      "  final_matrix = X.coefficients @ np.transpose(l_inv_j_t)\n",
      "/opt/anaconda3/envs/alex_env/lib/python3.10/site-packages/skfda/preprocessing/dim_reduction/_fpca.py:231: RuntimeWarning: invalid value encountered in matmul\n",
      "  final_matrix = X.coefficients @ np.transpose(l_inv_j_t)\n",
      "/opt/anaconda3/envs/alex_env/lib/python3.10/site-packages/skfda/preprocessing/dim_reduction/_fpca.py:281: RuntimeWarning: divide by zero encountered in matmul\n",
      "  X.coefficients @ self._j_matrix\n",
      "/opt/anaconda3/envs/alex_env/lib/python3.10/site-packages/skfda/preprocessing/dim_reduction/_fpca.py:281: RuntimeWarning: overflow encountered in matmul\n",
      "  X.coefficients @ self._j_matrix\n",
      "/opt/anaconda3/envs/alex_env/lib/python3.10/site-packages/skfda/preprocessing/dim_reduction/_fpca.py:281: RuntimeWarning: invalid value encountered in matmul\n",
      "  X.coefficients @ self._j_matrix\n"
     ]
    },
    {
     "name": "stdout",
     "output_type": "stream",
     "text": [
      "norms of the basis are: [1. 1. 1. 1. 1.]\n"
     ]
    },
    {
     "name": "stderr",
     "output_type": "stream",
     "text": [
      "/opt/anaconda3/envs/alex_env/lib/python3.10/site-packages/skfda/preprocessing/dim_reduction/_fpca.py:231: RuntimeWarning: divide by zero encountered in matmul\n",
      "  final_matrix = X.coefficients @ np.transpose(l_inv_j_t)\n",
      "/opt/anaconda3/envs/alex_env/lib/python3.10/site-packages/skfda/preprocessing/dim_reduction/_fpca.py:231: RuntimeWarning: overflow encountered in matmul\n",
      "  final_matrix = X.coefficients @ np.transpose(l_inv_j_t)\n",
      "/opt/anaconda3/envs/alex_env/lib/python3.10/site-packages/skfda/preprocessing/dim_reduction/_fpca.py:231: RuntimeWarning: invalid value encountered in matmul\n",
      "  final_matrix = X.coefficients @ np.transpose(l_inv_j_t)\n",
      "/opt/anaconda3/envs/alex_env/lib/python3.10/site-packages/skfda/preprocessing/dim_reduction/_fpca.py:281: RuntimeWarning: divide by zero encountered in matmul\n",
      "  X.coefficients @ self._j_matrix\n",
      "/opt/anaconda3/envs/alex_env/lib/python3.10/site-packages/skfda/preprocessing/dim_reduction/_fpca.py:281: RuntimeWarning: overflow encountered in matmul\n",
      "  X.coefficients @ self._j_matrix\n",
      "/opt/anaconda3/envs/alex_env/lib/python3.10/site-packages/skfda/preprocessing/dim_reduction/_fpca.py:281: RuntimeWarning: invalid value encountered in matmul\n",
      "  X.coefficients @ self._j_matrix\n"
     ]
    },
    {
     "name": "stdout",
     "output_type": "stream",
     "text": [
      "norms of the basis are: [1. 1. 1. 1. 1.]\n"
     ]
    },
    {
     "name": "stderr",
     "output_type": "stream",
     "text": [
      "/opt/anaconda3/envs/alex_env/lib/python3.10/site-packages/skfda/preprocessing/dim_reduction/_fpca.py:231: RuntimeWarning: divide by zero encountered in matmul\n",
      "  final_matrix = X.coefficients @ np.transpose(l_inv_j_t)\n",
      "/opt/anaconda3/envs/alex_env/lib/python3.10/site-packages/skfda/preprocessing/dim_reduction/_fpca.py:231: RuntimeWarning: overflow encountered in matmul\n",
      "  final_matrix = X.coefficients @ np.transpose(l_inv_j_t)\n",
      "/opt/anaconda3/envs/alex_env/lib/python3.10/site-packages/skfda/preprocessing/dim_reduction/_fpca.py:231: RuntimeWarning: invalid value encountered in matmul\n",
      "  final_matrix = X.coefficients @ np.transpose(l_inv_j_t)\n",
      "/opt/anaconda3/envs/alex_env/lib/python3.10/site-packages/skfda/preprocessing/dim_reduction/_fpca.py:281: RuntimeWarning: divide by zero encountered in matmul\n",
      "  X.coefficients @ self._j_matrix\n",
      "/opt/anaconda3/envs/alex_env/lib/python3.10/site-packages/skfda/preprocessing/dim_reduction/_fpca.py:281: RuntimeWarning: overflow encountered in matmul\n",
      "  X.coefficients @ self._j_matrix\n",
      "/opt/anaconda3/envs/alex_env/lib/python3.10/site-packages/skfda/preprocessing/dim_reduction/_fpca.py:281: RuntimeWarning: invalid value encountered in matmul\n",
      "  X.coefficients @ self._j_matrix\n"
     ]
    },
    {
     "name": "stdout",
     "output_type": "stream",
     "text": [
      "norms of the basis are: [1. 1. 1. 1. 1.]\n"
     ]
    },
    {
     "name": "stderr",
     "output_type": "stream",
     "text": [
      "/opt/anaconda3/envs/alex_env/lib/python3.10/site-packages/skfda/preprocessing/dim_reduction/_fpca.py:231: RuntimeWarning: divide by zero encountered in matmul\n",
      "  final_matrix = X.coefficients @ np.transpose(l_inv_j_t)\n",
      "/opt/anaconda3/envs/alex_env/lib/python3.10/site-packages/skfda/preprocessing/dim_reduction/_fpca.py:231: RuntimeWarning: overflow encountered in matmul\n",
      "  final_matrix = X.coefficients @ np.transpose(l_inv_j_t)\n",
      "/opt/anaconda3/envs/alex_env/lib/python3.10/site-packages/skfda/preprocessing/dim_reduction/_fpca.py:231: RuntimeWarning: invalid value encountered in matmul\n",
      "  final_matrix = X.coefficients @ np.transpose(l_inv_j_t)\n",
      "/opt/anaconda3/envs/alex_env/lib/python3.10/site-packages/skfda/preprocessing/dim_reduction/_fpca.py:281: RuntimeWarning: divide by zero encountered in matmul\n",
      "  X.coefficients @ self._j_matrix\n",
      "/opt/anaconda3/envs/alex_env/lib/python3.10/site-packages/skfda/preprocessing/dim_reduction/_fpca.py:281: RuntimeWarning: overflow encountered in matmul\n",
      "  X.coefficients @ self._j_matrix\n",
      "/opt/anaconda3/envs/alex_env/lib/python3.10/site-packages/skfda/preprocessing/dim_reduction/_fpca.py:281: RuntimeWarning: invalid value encountered in matmul\n",
      "  X.coefficients @ self._j_matrix\n"
     ]
    },
    {
     "name": "stdout",
     "output_type": "stream",
     "text": [
      "norms of the basis are: [1. 1. 1. 1. 1.]\n"
     ]
    },
    {
     "name": "stderr",
     "output_type": "stream",
     "text": [
      "/opt/anaconda3/envs/alex_env/lib/python3.10/site-packages/skfda/preprocessing/dim_reduction/_fpca.py:231: RuntimeWarning: divide by zero encountered in matmul\n",
      "  final_matrix = X.coefficients @ np.transpose(l_inv_j_t)\n",
      "/opt/anaconda3/envs/alex_env/lib/python3.10/site-packages/skfda/preprocessing/dim_reduction/_fpca.py:231: RuntimeWarning: overflow encountered in matmul\n",
      "  final_matrix = X.coefficients @ np.transpose(l_inv_j_t)\n",
      "/opt/anaconda3/envs/alex_env/lib/python3.10/site-packages/skfda/preprocessing/dim_reduction/_fpca.py:231: RuntimeWarning: invalid value encountered in matmul\n",
      "  final_matrix = X.coefficients @ np.transpose(l_inv_j_t)\n",
      "/opt/anaconda3/envs/alex_env/lib/python3.10/site-packages/skfda/preprocessing/dim_reduction/_fpca.py:281: RuntimeWarning: divide by zero encountered in matmul\n",
      "  X.coefficients @ self._j_matrix\n",
      "/opt/anaconda3/envs/alex_env/lib/python3.10/site-packages/skfda/preprocessing/dim_reduction/_fpca.py:281: RuntimeWarning: overflow encountered in matmul\n",
      "  X.coefficients @ self._j_matrix\n",
      "/opt/anaconda3/envs/alex_env/lib/python3.10/site-packages/skfda/preprocessing/dim_reduction/_fpca.py:281: RuntimeWarning: invalid value encountered in matmul\n",
      "  X.coefficients @ self._j_matrix\n"
     ]
    },
    {
     "name": "stdout",
     "output_type": "stream",
     "text": [
      "norms of the basis are: [1. 1. 1. 1. 1.]\n"
     ]
    },
    {
     "name": "stderr",
     "output_type": "stream",
     "text": [
      "/opt/anaconda3/envs/alex_env/lib/python3.10/site-packages/skfda/preprocessing/dim_reduction/_fpca.py:231: RuntimeWarning: divide by zero encountered in matmul\n",
      "  final_matrix = X.coefficients @ np.transpose(l_inv_j_t)\n",
      "/opt/anaconda3/envs/alex_env/lib/python3.10/site-packages/skfda/preprocessing/dim_reduction/_fpca.py:231: RuntimeWarning: overflow encountered in matmul\n",
      "  final_matrix = X.coefficients @ np.transpose(l_inv_j_t)\n",
      "/opt/anaconda3/envs/alex_env/lib/python3.10/site-packages/skfda/preprocessing/dim_reduction/_fpca.py:231: RuntimeWarning: invalid value encountered in matmul\n",
      "  final_matrix = X.coefficients @ np.transpose(l_inv_j_t)\n",
      "/opt/anaconda3/envs/alex_env/lib/python3.10/site-packages/skfda/preprocessing/dim_reduction/_fpca.py:281: RuntimeWarning: divide by zero encountered in matmul\n",
      "  X.coefficients @ self._j_matrix\n",
      "/opt/anaconda3/envs/alex_env/lib/python3.10/site-packages/skfda/preprocessing/dim_reduction/_fpca.py:281: RuntimeWarning: overflow encountered in matmul\n",
      "  X.coefficients @ self._j_matrix\n",
      "/opt/anaconda3/envs/alex_env/lib/python3.10/site-packages/skfda/preprocessing/dim_reduction/_fpca.py:281: RuntimeWarning: invalid value encountered in matmul\n",
      "  X.coefficients @ self._j_matrix\n"
     ]
    },
    {
     "name": "stdout",
     "output_type": "stream",
     "text": [
      "norms of the basis are: [1. 1. 1. 1. 1.]\n"
     ]
    },
    {
     "name": "stderr",
     "output_type": "stream",
     "text": [
      "/opt/anaconda3/envs/alex_env/lib/python3.10/site-packages/skfda/preprocessing/dim_reduction/_fpca.py:231: RuntimeWarning: divide by zero encountered in matmul\n",
      "  final_matrix = X.coefficients @ np.transpose(l_inv_j_t)\n",
      "/opt/anaconda3/envs/alex_env/lib/python3.10/site-packages/skfda/preprocessing/dim_reduction/_fpca.py:231: RuntimeWarning: overflow encountered in matmul\n",
      "  final_matrix = X.coefficients @ np.transpose(l_inv_j_t)\n",
      "/opt/anaconda3/envs/alex_env/lib/python3.10/site-packages/skfda/preprocessing/dim_reduction/_fpca.py:231: RuntimeWarning: invalid value encountered in matmul\n",
      "  final_matrix = X.coefficients @ np.transpose(l_inv_j_t)\n",
      "/opt/anaconda3/envs/alex_env/lib/python3.10/site-packages/skfda/preprocessing/dim_reduction/_fpca.py:281: RuntimeWarning: divide by zero encountered in matmul\n",
      "  X.coefficients @ self._j_matrix\n",
      "/opt/anaconda3/envs/alex_env/lib/python3.10/site-packages/skfda/preprocessing/dim_reduction/_fpca.py:281: RuntimeWarning: overflow encountered in matmul\n",
      "  X.coefficients @ self._j_matrix\n",
      "/opt/anaconda3/envs/alex_env/lib/python3.10/site-packages/skfda/preprocessing/dim_reduction/_fpca.py:281: RuntimeWarning: invalid value encountered in matmul\n",
      "  X.coefficients @ self._j_matrix\n"
     ]
    },
    {
     "name": "stdout",
     "output_type": "stream",
     "text": [
      "norms of the basis are: [1. 1. 1. 1. 1.]\n"
     ]
    },
    {
     "name": "stderr",
     "output_type": "stream",
     "text": [
      "/opt/anaconda3/envs/alex_env/lib/python3.10/site-packages/skfda/preprocessing/dim_reduction/_fpca.py:231: RuntimeWarning: divide by zero encountered in matmul\n",
      "  final_matrix = X.coefficients @ np.transpose(l_inv_j_t)\n",
      "/opt/anaconda3/envs/alex_env/lib/python3.10/site-packages/skfda/preprocessing/dim_reduction/_fpca.py:231: RuntimeWarning: overflow encountered in matmul\n",
      "  final_matrix = X.coefficients @ np.transpose(l_inv_j_t)\n",
      "/opt/anaconda3/envs/alex_env/lib/python3.10/site-packages/skfda/preprocessing/dim_reduction/_fpca.py:231: RuntimeWarning: invalid value encountered in matmul\n",
      "  final_matrix = X.coefficients @ np.transpose(l_inv_j_t)\n",
      "/opt/anaconda3/envs/alex_env/lib/python3.10/site-packages/skfda/preprocessing/dim_reduction/_fpca.py:281: RuntimeWarning: divide by zero encountered in matmul\n",
      "  X.coefficients @ self._j_matrix\n",
      "/opt/anaconda3/envs/alex_env/lib/python3.10/site-packages/skfda/preprocessing/dim_reduction/_fpca.py:281: RuntimeWarning: overflow encountered in matmul\n",
      "  X.coefficients @ self._j_matrix\n",
      "/opt/anaconda3/envs/alex_env/lib/python3.10/site-packages/skfda/preprocessing/dim_reduction/_fpca.py:281: RuntimeWarning: invalid value encountered in matmul\n",
      "  X.coefficients @ self._j_matrix\n"
     ]
    },
    {
     "name": "stdout",
     "output_type": "stream",
     "text": [
      "norms of the basis are: [1. 1. 1. 1. 1.]\n"
     ]
    },
    {
     "name": "stderr",
     "output_type": "stream",
     "text": [
      "/opt/anaconda3/envs/alex_env/lib/python3.10/site-packages/skfda/preprocessing/dim_reduction/_fpca.py:231: RuntimeWarning: divide by zero encountered in matmul\n",
      "  final_matrix = X.coefficients @ np.transpose(l_inv_j_t)\n",
      "/opt/anaconda3/envs/alex_env/lib/python3.10/site-packages/skfda/preprocessing/dim_reduction/_fpca.py:231: RuntimeWarning: overflow encountered in matmul\n",
      "  final_matrix = X.coefficients @ np.transpose(l_inv_j_t)\n",
      "/opt/anaconda3/envs/alex_env/lib/python3.10/site-packages/skfda/preprocessing/dim_reduction/_fpca.py:231: RuntimeWarning: invalid value encountered in matmul\n",
      "  final_matrix = X.coefficients @ np.transpose(l_inv_j_t)\n",
      "/opt/anaconda3/envs/alex_env/lib/python3.10/site-packages/skfda/preprocessing/dim_reduction/_fpca.py:281: RuntimeWarning: divide by zero encountered in matmul\n",
      "  X.coefficients @ self._j_matrix\n",
      "/opt/anaconda3/envs/alex_env/lib/python3.10/site-packages/skfda/preprocessing/dim_reduction/_fpca.py:281: RuntimeWarning: overflow encountered in matmul\n",
      "  X.coefficients @ self._j_matrix\n",
      "/opt/anaconda3/envs/alex_env/lib/python3.10/site-packages/skfda/preprocessing/dim_reduction/_fpca.py:281: RuntimeWarning: invalid value encountered in matmul\n",
      "  X.coefficients @ self._j_matrix\n"
     ]
    },
    {
     "name": "stdout",
     "output_type": "stream",
     "text": [
      "norms of the basis are: [1. 1. 1. 1. 1.]\n"
     ]
    },
    {
     "name": "stderr",
     "output_type": "stream",
     "text": [
      "/opt/anaconda3/envs/alex_env/lib/python3.10/site-packages/skfda/preprocessing/dim_reduction/_fpca.py:231: RuntimeWarning: divide by zero encountered in matmul\n",
      "  final_matrix = X.coefficients @ np.transpose(l_inv_j_t)\n",
      "/opt/anaconda3/envs/alex_env/lib/python3.10/site-packages/skfda/preprocessing/dim_reduction/_fpca.py:231: RuntimeWarning: overflow encountered in matmul\n",
      "  final_matrix = X.coefficients @ np.transpose(l_inv_j_t)\n",
      "/opt/anaconda3/envs/alex_env/lib/python3.10/site-packages/skfda/preprocessing/dim_reduction/_fpca.py:231: RuntimeWarning: invalid value encountered in matmul\n",
      "  final_matrix = X.coefficients @ np.transpose(l_inv_j_t)\n",
      "/opt/anaconda3/envs/alex_env/lib/python3.10/site-packages/skfda/preprocessing/dim_reduction/_fpca.py:281: RuntimeWarning: divide by zero encountered in matmul\n",
      "  X.coefficients @ self._j_matrix\n",
      "/opt/anaconda3/envs/alex_env/lib/python3.10/site-packages/skfda/preprocessing/dim_reduction/_fpca.py:281: RuntimeWarning: overflow encountered in matmul\n",
      "  X.coefficients @ self._j_matrix\n",
      "/opt/anaconda3/envs/alex_env/lib/python3.10/site-packages/skfda/preprocessing/dim_reduction/_fpca.py:281: RuntimeWarning: invalid value encountered in matmul\n",
      "  X.coefficients @ self._j_matrix\n"
     ]
    },
    {
     "name": "stdout",
     "output_type": "stream",
     "text": [
      "norms of the basis are: [1. 1. 1. 1. 1.]\n"
     ]
    },
    {
     "name": "stderr",
     "output_type": "stream",
     "text": [
      "/opt/anaconda3/envs/alex_env/lib/python3.10/site-packages/skfda/preprocessing/dim_reduction/_fpca.py:231: RuntimeWarning: divide by zero encountered in matmul\n",
      "  final_matrix = X.coefficients @ np.transpose(l_inv_j_t)\n",
      "/opt/anaconda3/envs/alex_env/lib/python3.10/site-packages/skfda/preprocessing/dim_reduction/_fpca.py:231: RuntimeWarning: overflow encountered in matmul\n",
      "  final_matrix = X.coefficients @ np.transpose(l_inv_j_t)\n",
      "/opt/anaconda3/envs/alex_env/lib/python3.10/site-packages/skfda/preprocessing/dim_reduction/_fpca.py:231: RuntimeWarning: invalid value encountered in matmul\n",
      "  final_matrix = X.coefficients @ np.transpose(l_inv_j_t)\n",
      "/opt/anaconda3/envs/alex_env/lib/python3.10/site-packages/skfda/preprocessing/dim_reduction/_fpca.py:281: RuntimeWarning: divide by zero encountered in matmul\n",
      "  X.coefficients @ self._j_matrix\n",
      "/opt/anaconda3/envs/alex_env/lib/python3.10/site-packages/skfda/preprocessing/dim_reduction/_fpca.py:281: RuntimeWarning: overflow encountered in matmul\n",
      "  X.coefficients @ self._j_matrix\n",
      "/opt/anaconda3/envs/alex_env/lib/python3.10/site-packages/skfda/preprocessing/dim_reduction/_fpca.py:281: RuntimeWarning: invalid value encountered in matmul\n",
      "  X.coefficients @ self._j_matrix\n"
     ]
    },
    {
     "name": "stdout",
     "output_type": "stream",
     "text": [
      "norms of the basis are: [1. 1. 1. 1. 1.]\n"
     ]
    },
    {
     "name": "stderr",
     "output_type": "stream",
     "text": [
      "/opt/anaconda3/envs/alex_env/lib/python3.10/site-packages/skfda/preprocessing/dim_reduction/_fpca.py:231: RuntimeWarning: divide by zero encountered in matmul\n",
      "  final_matrix = X.coefficients @ np.transpose(l_inv_j_t)\n",
      "/opt/anaconda3/envs/alex_env/lib/python3.10/site-packages/skfda/preprocessing/dim_reduction/_fpca.py:231: RuntimeWarning: overflow encountered in matmul\n",
      "  final_matrix = X.coefficients @ np.transpose(l_inv_j_t)\n",
      "/opt/anaconda3/envs/alex_env/lib/python3.10/site-packages/skfda/preprocessing/dim_reduction/_fpca.py:231: RuntimeWarning: invalid value encountered in matmul\n",
      "  final_matrix = X.coefficients @ np.transpose(l_inv_j_t)\n",
      "/opt/anaconda3/envs/alex_env/lib/python3.10/site-packages/skfda/preprocessing/dim_reduction/_fpca.py:281: RuntimeWarning: divide by zero encountered in matmul\n",
      "  X.coefficients @ self._j_matrix\n",
      "/opt/anaconda3/envs/alex_env/lib/python3.10/site-packages/skfda/preprocessing/dim_reduction/_fpca.py:281: RuntimeWarning: overflow encountered in matmul\n",
      "  X.coefficients @ self._j_matrix\n",
      "/opt/anaconda3/envs/alex_env/lib/python3.10/site-packages/skfda/preprocessing/dim_reduction/_fpca.py:281: RuntimeWarning: invalid value encountered in matmul\n",
      "  X.coefficients @ self._j_matrix\n"
     ]
    },
    {
     "name": "stdout",
     "output_type": "stream",
     "text": [
      "norms of the basis are: [1. 1. 1. 1. 1.]\n"
     ]
    },
    {
     "name": "stderr",
     "output_type": "stream",
     "text": [
      "/opt/anaconda3/envs/alex_env/lib/python3.10/site-packages/skfda/preprocessing/dim_reduction/_fpca.py:231: RuntimeWarning: divide by zero encountered in matmul\n",
      "  final_matrix = X.coefficients @ np.transpose(l_inv_j_t)\n",
      "/opt/anaconda3/envs/alex_env/lib/python3.10/site-packages/skfda/preprocessing/dim_reduction/_fpca.py:231: RuntimeWarning: overflow encountered in matmul\n",
      "  final_matrix = X.coefficients @ np.transpose(l_inv_j_t)\n",
      "/opt/anaconda3/envs/alex_env/lib/python3.10/site-packages/skfda/preprocessing/dim_reduction/_fpca.py:231: RuntimeWarning: invalid value encountered in matmul\n",
      "  final_matrix = X.coefficients @ np.transpose(l_inv_j_t)\n",
      "/opt/anaconda3/envs/alex_env/lib/python3.10/site-packages/skfda/preprocessing/dim_reduction/_fpca.py:281: RuntimeWarning: divide by zero encountered in matmul\n",
      "  X.coefficients @ self._j_matrix\n",
      "/opt/anaconda3/envs/alex_env/lib/python3.10/site-packages/skfda/preprocessing/dim_reduction/_fpca.py:281: RuntimeWarning: overflow encountered in matmul\n",
      "  X.coefficients @ self._j_matrix\n",
      "/opt/anaconda3/envs/alex_env/lib/python3.10/site-packages/skfda/preprocessing/dim_reduction/_fpca.py:281: RuntimeWarning: invalid value encountered in matmul\n",
      "  X.coefficients @ self._j_matrix\n"
     ]
    },
    {
     "name": "stdout",
     "output_type": "stream",
     "text": [
      "norms of the basis are: [1. 1. 1. 1. 1.]\n"
     ]
    },
    {
     "name": "stderr",
     "output_type": "stream",
     "text": [
      "/opt/anaconda3/envs/alex_env/lib/python3.10/site-packages/skfda/preprocessing/dim_reduction/_fpca.py:231: RuntimeWarning: divide by zero encountered in matmul\n",
      "  final_matrix = X.coefficients @ np.transpose(l_inv_j_t)\n",
      "/opt/anaconda3/envs/alex_env/lib/python3.10/site-packages/skfda/preprocessing/dim_reduction/_fpca.py:231: RuntimeWarning: overflow encountered in matmul\n",
      "  final_matrix = X.coefficients @ np.transpose(l_inv_j_t)\n",
      "/opt/anaconda3/envs/alex_env/lib/python3.10/site-packages/skfda/preprocessing/dim_reduction/_fpca.py:231: RuntimeWarning: invalid value encountered in matmul\n",
      "  final_matrix = X.coefficients @ np.transpose(l_inv_j_t)\n",
      "/opt/anaconda3/envs/alex_env/lib/python3.10/site-packages/skfda/preprocessing/dim_reduction/_fpca.py:281: RuntimeWarning: divide by zero encountered in matmul\n",
      "  X.coefficients @ self._j_matrix\n",
      "/opt/anaconda3/envs/alex_env/lib/python3.10/site-packages/skfda/preprocessing/dim_reduction/_fpca.py:281: RuntimeWarning: overflow encountered in matmul\n",
      "  X.coefficients @ self._j_matrix\n",
      "/opt/anaconda3/envs/alex_env/lib/python3.10/site-packages/skfda/preprocessing/dim_reduction/_fpca.py:281: RuntimeWarning: invalid value encountered in matmul\n",
      "  X.coefficients @ self._j_matrix\n"
     ]
    },
    {
     "name": "stdout",
     "output_type": "stream",
     "text": [
      "norms of the basis are: [1. 1. 1. 1. 1.]\n"
     ]
    },
    {
     "name": "stderr",
     "output_type": "stream",
     "text": [
      "/opt/anaconda3/envs/alex_env/lib/python3.10/site-packages/skfda/preprocessing/dim_reduction/_fpca.py:231: RuntimeWarning: divide by zero encountered in matmul\n",
      "  final_matrix = X.coefficients @ np.transpose(l_inv_j_t)\n",
      "/opt/anaconda3/envs/alex_env/lib/python3.10/site-packages/skfda/preprocessing/dim_reduction/_fpca.py:231: RuntimeWarning: overflow encountered in matmul\n",
      "  final_matrix = X.coefficients @ np.transpose(l_inv_j_t)\n",
      "/opt/anaconda3/envs/alex_env/lib/python3.10/site-packages/skfda/preprocessing/dim_reduction/_fpca.py:231: RuntimeWarning: invalid value encountered in matmul\n",
      "  final_matrix = X.coefficients @ np.transpose(l_inv_j_t)\n",
      "/opt/anaconda3/envs/alex_env/lib/python3.10/site-packages/skfda/preprocessing/dim_reduction/_fpca.py:281: RuntimeWarning: divide by zero encountered in matmul\n",
      "  X.coefficients @ self._j_matrix\n",
      "/opt/anaconda3/envs/alex_env/lib/python3.10/site-packages/skfda/preprocessing/dim_reduction/_fpca.py:281: RuntimeWarning: overflow encountered in matmul\n",
      "  X.coefficients @ self._j_matrix\n",
      "/opt/anaconda3/envs/alex_env/lib/python3.10/site-packages/skfda/preprocessing/dim_reduction/_fpca.py:281: RuntimeWarning: invalid value encountered in matmul\n",
      "  X.coefficients @ self._j_matrix\n"
     ]
    },
    {
     "name": "stdout",
     "output_type": "stream",
     "text": [
      "norms of the basis are: [1. 1. 1. 1. 1.]\n"
     ]
    },
    {
     "name": "stderr",
     "output_type": "stream",
     "text": [
      "/opt/anaconda3/envs/alex_env/lib/python3.10/site-packages/skfda/preprocessing/dim_reduction/_fpca.py:231: RuntimeWarning: divide by zero encountered in matmul\n",
      "  final_matrix = X.coefficients @ np.transpose(l_inv_j_t)\n",
      "/opt/anaconda3/envs/alex_env/lib/python3.10/site-packages/skfda/preprocessing/dim_reduction/_fpca.py:231: RuntimeWarning: overflow encountered in matmul\n",
      "  final_matrix = X.coefficients @ np.transpose(l_inv_j_t)\n",
      "/opt/anaconda3/envs/alex_env/lib/python3.10/site-packages/skfda/preprocessing/dim_reduction/_fpca.py:231: RuntimeWarning: invalid value encountered in matmul\n",
      "  final_matrix = X.coefficients @ np.transpose(l_inv_j_t)\n",
      "/opt/anaconda3/envs/alex_env/lib/python3.10/site-packages/skfda/preprocessing/dim_reduction/_fpca.py:281: RuntimeWarning: divide by zero encountered in matmul\n",
      "  X.coefficients @ self._j_matrix\n",
      "/opt/anaconda3/envs/alex_env/lib/python3.10/site-packages/skfda/preprocessing/dim_reduction/_fpca.py:281: RuntimeWarning: overflow encountered in matmul\n",
      "  X.coefficients @ self._j_matrix\n",
      "/opt/anaconda3/envs/alex_env/lib/python3.10/site-packages/skfda/preprocessing/dim_reduction/_fpca.py:281: RuntimeWarning: invalid value encountered in matmul\n",
      "  X.coefficients @ self._j_matrix\n"
     ]
    },
    {
     "name": "stdout",
     "output_type": "stream",
     "text": [
      "norms of the basis are: [1. 1. 1. 1. 1.]\n"
     ]
    },
    {
     "name": "stderr",
     "output_type": "stream",
     "text": [
      "/opt/anaconda3/envs/alex_env/lib/python3.10/site-packages/skfda/preprocessing/dim_reduction/_fpca.py:231: RuntimeWarning: divide by zero encountered in matmul\n",
      "  final_matrix = X.coefficients @ np.transpose(l_inv_j_t)\n",
      "/opt/anaconda3/envs/alex_env/lib/python3.10/site-packages/skfda/preprocessing/dim_reduction/_fpca.py:231: RuntimeWarning: overflow encountered in matmul\n",
      "  final_matrix = X.coefficients @ np.transpose(l_inv_j_t)\n",
      "/opt/anaconda3/envs/alex_env/lib/python3.10/site-packages/skfda/preprocessing/dim_reduction/_fpca.py:231: RuntimeWarning: invalid value encountered in matmul\n",
      "  final_matrix = X.coefficients @ np.transpose(l_inv_j_t)\n",
      "/opt/anaconda3/envs/alex_env/lib/python3.10/site-packages/skfda/preprocessing/dim_reduction/_fpca.py:281: RuntimeWarning: divide by zero encountered in matmul\n",
      "  X.coefficients @ self._j_matrix\n",
      "/opt/anaconda3/envs/alex_env/lib/python3.10/site-packages/skfda/preprocessing/dim_reduction/_fpca.py:281: RuntimeWarning: overflow encountered in matmul\n",
      "  X.coefficients @ self._j_matrix\n",
      "/opt/anaconda3/envs/alex_env/lib/python3.10/site-packages/skfda/preprocessing/dim_reduction/_fpca.py:281: RuntimeWarning: invalid value encountered in matmul\n",
      "  X.coefficients @ self._j_matrix\n"
     ]
    },
    {
     "name": "stdout",
     "output_type": "stream",
     "text": [
      "norms of the basis are: [1. 1. 1. 1. 1.]\n"
     ]
    },
    {
     "name": "stderr",
     "output_type": "stream",
     "text": [
      "/opt/anaconda3/envs/alex_env/lib/python3.10/site-packages/skfda/preprocessing/dim_reduction/_fpca.py:231: RuntimeWarning: divide by zero encountered in matmul\n",
      "  final_matrix = X.coefficients @ np.transpose(l_inv_j_t)\n",
      "/opt/anaconda3/envs/alex_env/lib/python3.10/site-packages/skfda/preprocessing/dim_reduction/_fpca.py:231: RuntimeWarning: overflow encountered in matmul\n",
      "  final_matrix = X.coefficients @ np.transpose(l_inv_j_t)\n",
      "/opt/anaconda3/envs/alex_env/lib/python3.10/site-packages/skfda/preprocessing/dim_reduction/_fpca.py:231: RuntimeWarning: invalid value encountered in matmul\n",
      "  final_matrix = X.coefficients @ np.transpose(l_inv_j_t)\n",
      "/opt/anaconda3/envs/alex_env/lib/python3.10/site-packages/skfda/preprocessing/dim_reduction/_fpca.py:281: RuntimeWarning: divide by zero encountered in matmul\n",
      "  X.coefficients @ self._j_matrix\n",
      "/opt/anaconda3/envs/alex_env/lib/python3.10/site-packages/skfda/preprocessing/dim_reduction/_fpca.py:281: RuntimeWarning: overflow encountered in matmul\n",
      "  X.coefficients @ self._j_matrix\n",
      "/opt/anaconda3/envs/alex_env/lib/python3.10/site-packages/skfda/preprocessing/dim_reduction/_fpca.py:281: RuntimeWarning: invalid value encountered in matmul\n",
      "  X.coefficients @ self._j_matrix\n"
     ]
    },
    {
     "name": "stdout",
     "output_type": "stream",
     "text": [
      "norms of the basis are: [1. 1. 1. 1. 1.]\n"
     ]
    },
    {
     "name": "stderr",
     "output_type": "stream",
     "text": [
      "/opt/anaconda3/envs/alex_env/lib/python3.10/site-packages/skfda/preprocessing/dim_reduction/_fpca.py:231: RuntimeWarning: divide by zero encountered in matmul\n",
      "  final_matrix = X.coefficients @ np.transpose(l_inv_j_t)\n",
      "/opt/anaconda3/envs/alex_env/lib/python3.10/site-packages/skfda/preprocessing/dim_reduction/_fpca.py:231: RuntimeWarning: overflow encountered in matmul\n",
      "  final_matrix = X.coefficients @ np.transpose(l_inv_j_t)\n",
      "/opt/anaconda3/envs/alex_env/lib/python3.10/site-packages/skfda/preprocessing/dim_reduction/_fpca.py:231: RuntimeWarning: invalid value encountered in matmul\n",
      "  final_matrix = X.coefficients @ np.transpose(l_inv_j_t)\n",
      "/opt/anaconda3/envs/alex_env/lib/python3.10/site-packages/skfda/preprocessing/dim_reduction/_fpca.py:281: RuntimeWarning: divide by zero encountered in matmul\n",
      "  X.coefficients @ self._j_matrix\n",
      "/opt/anaconda3/envs/alex_env/lib/python3.10/site-packages/skfda/preprocessing/dim_reduction/_fpca.py:281: RuntimeWarning: overflow encountered in matmul\n",
      "  X.coefficients @ self._j_matrix\n",
      "/opt/anaconda3/envs/alex_env/lib/python3.10/site-packages/skfda/preprocessing/dim_reduction/_fpca.py:281: RuntimeWarning: invalid value encountered in matmul\n",
      "  X.coefficients @ self._j_matrix\n"
     ]
    },
    {
     "name": "stdout",
     "output_type": "stream",
     "text": [
      "norms of the basis are: [1. 1. 1. 1. 1.]\n"
     ]
    },
    {
     "name": "stderr",
     "output_type": "stream",
     "text": [
      "/opt/anaconda3/envs/alex_env/lib/python3.10/site-packages/skfda/preprocessing/dim_reduction/_fpca.py:231: RuntimeWarning: divide by zero encountered in matmul\n",
      "  final_matrix = X.coefficients @ np.transpose(l_inv_j_t)\n",
      "/opt/anaconda3/envs/alex_env/lib/python3.10/site-packages/skfda/preprocessing/dim_reduction/_fpca.py:231: RuntimeWarning: overflow encountered in matmul\n",
      "  final_matrix = X.coefficients @ np.transpose(l_inv_j_t)\n",
      "/opt/anaconda3/envs/alex_env/lib/python3.10/site-packages/skfda/preprocessing/dim_reduction/_fpca.py:231: RuntimeWarning: invalid value encountered in matmul\n",
      "  final_matrix = X.coefficients @ np.transpose(l_inv_j_t)\n",
      "/opt/anaconda3/envs/alex_env/lib/python3.10/site-packages/skfda/preprocessing/dim_reduction/_fpca.py:281: RuntimeWarning: divide by zero encountered in matmul\n",
      "  X.coefficients @ self._j_matrix\n",
      "/opt/anaconda3/envs/alex_env/lib/python3.10/site-packages/skfda/preprocessing/dim_reduction/_fpca.py:281: RuntimeWarning: overflow encountered in matmul\n",
      "  X.coefficients @ self._j_matrix\n",
      "/opt/anaconda3/envs/alex_env/lib/python3.10/site-packages/skfda/preprocessing/dim_reduction/_fpca.py:281: RuntimeWarning: invalid value encountered in matmul\n",
      "  X.coefficients @ self._j_matrix\n"
     ]
    },
    {
     "name": "stdout",
     "output_type": "stream",
     "text": [
      "norms of the basis are: [1. 1. 1. 1. 1.]\n"
     ]
    },
    {
     "name": "stderr",
     "output_type": "stream",
     "text": [
      "/opt/anaconda3/envs/alex_env/lib/python3.10/site-packages/skfda/preprocessing/dim_reduction/_fpca.py:231: RuntimeWarning: divide by zero encountered in matmul\n",
      "  final_matrix = X.coefficients @ np.transpose(l_inv_j_t)\n",
      "/opt/anaconda3/envs/alex_env/lib/python3.10/site-packages/skfda/preprocessing/dim_reduction/_fpca.py:231: RuntimeWarning: overflow encountered in matmul\n",
      "  final_matrix = X.coefficients @ np.transpose(l_inv_j_t)\n",
      "/opt/anaconda3/envs/alex_env/lib/python3.10/site-packages/skfda/preprocessing/dim_reduction/_fpca.py:231: RuntimeWarning: invalid value encountered in matmul\n",
      "  final_matrix = X.coefficients @ np.transpose(l_inv_j_t)\n",
      "/opt/anaconda3/envs/alex_env/lib/python3.10/site-packages/skfda/preprocessing/dim_reduction/_fpca.py:281: RuntimeWarning: divide by zero encountered in matmul\n",
      "  X.coefficients @ self._j_matrix\n",
      "/opt/anaconda3/envs/alex_env/lib/python3.10/site-packages/skfda/preprocessing/dim_reduction/_fpca.py:281: RuntimeWarning: overflow encountered in matmul\n",
      "  X.coefficients @ self._j_matrix\n",
      "/opt/anaconda3/envs/alex_env/lib/python3.10/site-packages/skfda/preprocessing/dim_reduction/_fpca.py:281: RuntimeWarning: invalid value encountered in matmul\n",
      "  X.coefficients @ self._j_matrix\n"
     ]
    },
    {
     "name": "stdout",
     "output_type": "stream",
     "text": [
      "norms of the basis are: [1. 1. 1. 1. 1.]\n"
     ]
    },
    {
     "name": "stderr",
     "output_type": "stream",
     "text": [
      "/opt/anaconda3/envs/alex_env/lib/python3.10/site-packages/skfda/preprocessing/dim_reduction/_fpca.py:231: RuntimeWarning: divide by zero encountered in matmul\n",
      "  final_matrix = X.coefficients @ np.transpose(l_inv_j_t)\n",
      "/opt/anaconda3/envs/alex_env/lib/python3.10/site-packages/skfda/preprocessing/dim_reduction/_fpca.py:231: RuntimeWarning: overflow encountered in matmul\n",
      "  final_matrix = X.coefficients @ np.transpose(l_inv_j_t)\n",
      "/opt/anaconda3/envs/alex_env/lib/python3.10/site-packages/skfda/preprocessing/dim_reduction/_fpca.py:231: RuntimeWarning: invalid value encountered in matmul\n",
      "  final_matrix = X.coefficients @ np.transpose(l_inv_j_t)\n",
      "/opt/anaconda3/envs/alex_env/lib/python3.10/site-packages/skfda/preprocessing/dim_reduction/_fpca.py:281: RuntimeWarning: divide by zero encountered in matmul\n",
      "  X.coefficients @ self._j_matrix\n",
      "/opt/anaconda3/envs/alex_env/lib/python3.10/site-packages/skfda/preprocessing/dim_reduction/_fpca.py:281: RuntimeWarning: overflow encountered in matmul\n",
      "  X.coefficients @ self._j_matrix\n",
      "/opt/anaconda3/envs/alex_env/lib/python3.10/site-packages/skfda/preprocessing/dim_reduction/_fpca.py:281: RuntimeWarning: invalid value encountered in matmul\n",
      "  X.coefficients @ self._j_matrix\n"
     ]
    },
    {
     "name": "stdout",
     "output_type": "stream",
     "text": [
      "norms of the basis are: [1. 1. 1. 1. 1.]\n"
     ]
    },
    {
     "name": "stderr",
     "output_type": "stream",
     "text": [
      "/opt/anaconda3/envs/alex_env/lib/python3.10/site-packages/skfda/preprocessing/dim_reduction/_fpca.py:231: RuntimeWarning: divide by zero encountered in matmul\n",
      "  final_matrix = X.coefficients @ np.transpose(l_inv_j_t)\n",
      "/opt/anaconda3/envs/alex_env/lib/python3.10/site-packages/skfda/preprocessing/dim_reduction/_fpca.py:231: RuntimeWarning: overflow encountered in matmul\n",
      "  final_matrix = X.coefficients @ np.transpose(l_inv_j_t)\n",
      "/opt/anaconda3/envs/alex_env/lib/python3.10/site-packages/skfda/preprocessing/dim_reduction/_fpca.py:231: RuntimeWarning: invalid value encountered in matmul\n",
      "  final_matrix = X.coefficients @ np.transpose(l_inv_j_t)\n",
      "/opt/anaconda3/envs/alex_env/lib/python3.10/site-packages/skfda/preprocessing/dim_reduction/_fpca.py:281: RuntimeWarning: divide by zero encountered in matmul\n",
      "  X.coefficients @ self._j_matrix\n",
      "/opt/anaconda3/envs/alex_env/lib/python3.10/site-packages/skfda/preprocessing/dim_reduction/_fpca.py:281: RuntimeWarning: overflow encountered in matmul\n",
      "  X.coefficients @ self._j_matrix\n",
      "/opt/anaconda3/envs/alex_env/lib/python3.10/site-packages/skfda/preprocessing/dim_reduction/_fpca.py:281: RuntimeWarning: invalid value encountered in matmul\n",
      "  X.coefficients @ self._j_matrix\n"
     ]
    },
    {
     "name": "stdout",
     "output_type": "stream",
     "text": [
      "norms of the basis are: [1. 1. 1. 1. 1.]\n"
     ]
    },
    {
     "name": "stderr",
     "output_type": "stream",
     "text": [
      "/opt/anaconda3/envs/alex_env/lib/python3.10/site-packages/skfda/preprocessing/dim_reduction/_fpca.py:231: RuntimeWarning: divide by zero encountered in matmul\n",
      "  final_matrix = X.coefficients @ np.transpose(l_inv_j_t)\n",
      "/opt/anaconda3/envs/alex_env/lib/python3.10/site-packages/skfda/preprocessing/dim_reduction/_fpca.py:231: RuntimeWarning: overflow encountered in matmul\n",
      "  final_matrix = X.coefficients @ np.transpose(l_inv_j_t)\n",
      "/opt/anaconda3/envs/alex_env/lib/python3.10/site-packages/skfda/preprocessing/dim_reduction/_fpca.py:231: RuntimeWarning: invalid value encountered in matmul\n",
      "  final_matrix = X.coefficients @ np.transpose(l_inv_j_t)\n",
      "/opt/anaconda3/envs/alex_env/lib/python3.10/site-packages/skfda/preprocessing/dim_reduction/_fpca.py:281: RuntimeWarning: divide by zero encountered in matmul\n",
      "  X.coefficients @ self._j_matrix\n",
      "/opt/anaconda3/envs/alex_env/lib/python3.10/site-packages/skfda/preprocessing/dim_reduction/_fpca.py:281: RuntimeWarning: overflow encountered in matmul\n",
      "  X.coefficients @ self._j_matrix\n",
      "/opt/anaconda3/envs/alex_env/lib/python3.10/site-packages/skfda/preprocessing/dim_reduction/_fpca.py:281: RuntimeWarning: invalid value encountered in matmul\n",
      "  X.coefficients @ self._j_matrix\n"
     ]
    },
    {
     "name": "stdout",
     "output_type": "stream",
     "text": [
      "norms of the basis are: [1. 1. 1. 1. 1.]\n"
     ]
    },
    {
     "name": "stderr",
     "output_type": "stream",
     "text": [
      "/opt/anaconda3/envs/alex_env/lib/python3.10/site-packages/skfda/preprocessing/dim_reduction/_fpca.py:231: RuntimeWarning: divide by zero encountered in matmul\n",
      "  final_matrix = X.coefficients @ np.transpose(l_inv_j_t)\n",
      "/opt/anaconda3/envs/alex_env/lib/python3.10/site-packages/skfda/preprocessing/dim_reduction/_fpca.py:231: RuntimeWarning: overflow encountered in matmul\n",
      "  final_matrix = X.coefficients @ np.transpose(l_inv_j_t)\n",
      "/opt/anaconda3/envs/alex_env/lib/python3.10/site-packages/skfda/preprocessing/dim_reduction/_fpca.py:231: RuntimeWarning: invalid value encountered in matmul\n",
      "  final_matrix = X.coefficients @ np.transpose(l_inv_j_t)\n",
      "/opt/anaconda3/envs/alex_env/lib/python3.10/site-packages/skfda/preprocessing/dim_reduction/_fpca.py:281: RuntimeWarning: divide by zero encountered in matmul\n",
      "  X.coefficients @ self._j_matrix\n",
      "/opt/anaconda3/envs/alex_env/lib/python3.10/site-packages/skfda/preprocessing/dim_reduction/_fpca.py:281: RuntimeWarning: overflow encountered in matmul\n",
      "  X.coefficients @ self._j_matrix\n",
      "/opt/anaconda3/envs/alex_env/lib/python3.10/site-packages/skfda/preprocessing/dim_reduction/_fpca.py:281: RuntimeWarning: invalid value encountered in matmul\n",
      "  X.coefficients @ self._j_matrix\n"
     ]
    },
    {
     "name": "stdout",
     "output_type": "stream",
     "text": [
      "norms of the basis are: [1. 1. 1. 1. 1.]\n"
     ]
    },
    {
     "name": "stderr",
     "output_type": "stream",
     "text": [
      "/opt/anaconda3/envs/alex_env/lib/python3.10/site-packages/skfda/preprocessing/dim_reduction/_fpca.py:231: RuntimeWarning: divide by zero encountered in matmul\n",
      "  final_matrix = X.coefficients @ np.transpose(l_inv_j_t)\n",
      "/opt/anaconda3/envs/alex_env/lib/python3.10/site-packages/skfda/preprocessing/dim_reduction/_fpca.py:231: RuntimeWarning: overflow encountered in matmul\n",
      "  final_matrix = X.coefficients @ np.transpose(l_inv_j_t)\n",
      "/opt/anaconda3/envs/alex_env/lib/python3.10/site-packages/skfda/preprocessing/dim_reduction/_fpca.py:231: RuntimeWarning: invalid value encountered in matmul\n",
      "  final_matrix = X.coefficients @ np.transpose(l_inv_j_t)\n",
      "/opt/anaconda3/envs/alex_env/lib/python3.10/site-packages/skfda/preprocessing/dim_reduction/_fpca.py:281: RuntimeWarning: divide by zero encountered in matmul\n",
      "  X.coefficients @ self._j_matrix\n",
      "/opt/anaconda3/envs/alex_env/lib/python3.10/site-packages/skfda/preprocessing/dim_reduction/_fpca.py:281: RuntimeWarning: overflow encountered in matmul\n",
      "  X.coefficients @ self._j_matrix\n",
      "/opt/anaconda3/envs/alex_env/lib/python3.10/site-packages/skfda/preprocessing/dim_reduction/_fpca.py:281: RuntimeWarning: invalid value encountered in matmul\n",
      "  X.coefficients @ self._j_matrix\n"
     ]
    },
    {
     "name": "stdout",
     "output_type": "stream",
     "text": [
      "norms of the basis are: [1. 1. 1. 1. 1.]\n"
     ]
    },
    {
     "name": "stderr",
     "output_type": "stream",
     "text": [
      "/opt/anaconda3/envs/alex_env/lib/python3.10/site-packages/skfda/preprocessing/dim_reduction/_fpca.py:231: RuntimeWarning: divide by zero encountered in matmul\n",
      "  final_matrix = X.coefficients @ np.transpose(l_inv_j_t)\n",
      "/opt/anaconda3/envs/alex_env/lib/python3.10/site-packages/skfda/preprocessing/dim_reduction/_fpca.py:231: RuntimeWarning: overflow encountered in matmul\n",
      "  final_matrix = X.coefficients @ np.transpose(l_inv_j_t)\n",
      "/opt/anaconda3/envs/alex_env/lib/python3.10/site-packages/skfda/preprocessing/dim_reduction/_fpca.py:231: RuntimeWarning: invalid value encountered in matmul\n",
      "  final_matrix = X.coefficients @ np.transpose(l_inv_j_t)\n",
      "/opt/anaconda3/envs/alex_env/lib/python3.10/site-packages/skfda/preprocessing/dim_reduction/_fpca.py:281: RuntimeWarning: divide by zero encountered in matmul\n",
      "  X.coefficients @ self._j_matrix\n",
      "/opt/anaconda3/envs/alex_env/lib/python3.10/site-packages/skfda/preprocessing/dim_reduction/_fpca.py:281: RuntimeWarning: overflow encountered in matmul\n",
      "  X.coefficients @ self._j_matrix\n",
      "/opt/anaconda3/envs/alex_env/lib/python3.10/site-packages/skfda/preprocessing/dim_reduction/_fpca.py:281: RuntimeWarning: invalid value encountered in matmul\n",
      "  X.coefficients @ self._j_matrix\n"
     ]
    },
    {
     "name": "stdout",
     "output_type": "stream",
     "text": [
      "norms of the basis are: [1. 1. 1. 1. 1.]\n"
     ]
    },
    {
     "name": "stderr",
     "output_type": "stream",
     "text": [
      "/opt/anaconda3/envs/alex_env/lib/python3.10/site-packages/skfda/preprocessing/dim_reduction/_fpca.py:231: RuntimeWarning: divide by zero encountered in matmul\n",
      "  final_matrix = X.coefficients @ np.transpose(l_inv_j_t)\n",
      "/opt/anaconda3/envs/alex_env/lib/python3.10/site-packages/skfda/preprocessing/dim_reduction/_fpca.py:231: RuntimeWarning: overflow encountered in matmul\n",
      "  final_matrix = X.coefficients @ np.transpose(l_inv_j_t)\n",
      "/opt/anaconda3/envs/alex_env/lib/python3.10/site-packages/skfda/preprocessing/dim_reduction/_fpca.py:231: RuntimeWarning: invalid value encountered in matmul\n",
      "  final_matrix = X.coefficients @ np.transpose(l_inv_j_t)\n",
      "/opt/anaconda3/envs/alex_env/lib/python3.10/site-packages/skfda/preprocessing/dim_reduction/_fpca.py:281: RuntimeWarning: divide by zero encountered in matmul\n",
      "  X.coefficients @ self._j_matrix\n",
      "/opt/anaconda3/envs/alex_env/lib/python3.10/site-packages/skfda/preprocessing/dim_reduction/_fpca.py:281: RuntimeWarning: overflow encountered in matmul\n",
      "  X.coefficients @ self._j_matrix\n",
      "/opt/anaconda3/envs/alex_env/lib/python3.10/site-packages/skfda/preprocessing/dim_reduction/_fpca.py:281: RuntimeWarning: invalid value encountered in matmul\n",
      "  X.coefficients @ self._j_matrix\n"
     ]
    },
    {
     "name": "stdout",
     "output_type": "stream",
     "text": [
      "norms of the basis are: [1. 1. 1. 1. 1.]\n"
     ]
    },
    {
     "name": "stderr",
     "output_type": "stream",
     "text": [
      "/opt/anaconda3/envs/alex_env/lib/python3.10/site-packages/skfda/preprocessing/dim_reduction/_fpca.py:231: RuntimeWarning: divide by zero encountered in matmul\n",
      "  final_matrix = X.coefficients @ np.transpose(l_inv_j_t)\n",
      "/opt/anaconda3/envs/alex_env/lib/python3.10/site-packages/skfda/preprocessing/dim_reduction/_fpca.py:231: RuntimeWarning: overflow encountered in matmul\n",
      "  final_matrix = X.coefficients @ np.transpose(l_inv_j_t)\n",
      "/opt/anaconda3/envs/alex_env/lib/python3.10/site-packages/skfda/preprocessing/dim_reduction/_fpca.py:231: RuntimeWarning: invalid value encountered in matmul\n",
      "  final_matrix = X.coefficients @ np.transpose(l_inv_j_t)\n",
      "/opt/anaconda3/envs/alex_env/lib/python3.10/site-packages/skfda/preprocessing/dim_reduction/_fpca.py:281: RuntimeWarning: divide by zero encountered in matmul\n",
      "  X.coefficients @ self._j_matrix\n",
      "/opt/anaconda3/envs/alex_env/lib/python3.10/site-packages/skfda/preprocessing/dim_reduction/_fpca.py:281: RuntimeWarning: overflow encountered in matmul\n",
      "  X.coefficients @ self._j_matrix\n",
      "/opt/anaconda3/envs/alex_env/lib/python3.10/site-packages/skfda/preprocessing/dim_reduction/_fpca.py:281: RuntimeWarning: invalid value encountered in matmul\n",
      "  X.coefficients @ self._j_matrix\n"
     ]
    },
    {
     "name": "stdout",
     "output_type": "stream",
     "text": [
      "norms of the basis are: [1. 1. 1. 1. 1.]\n"
     ]
    },
    {
     "name": "stderr",
     "output_type": "stream",
     "text": [
      "/opt/anaconda3/envs/alex_env/lib/python3.10/site-packages/skfda/preprocessing/dim_reduction/_fpca.py:231: RuntimeWarning: divide by zero encountered in matmul\n",
      "  final_matrix = X.coefficients @ np.transpose(l_inv_j_t)\n",
      "/opt/anaconda3/envs/alex_env/lib/python3.10/site-packages/skfda/preprocessing/dim_reduction/_fpca.py:231: RuntimeWarning: overflow encountered in matmul\n",
      "  final_matrix = X.coefficients @ np.transpose(l_inv_j_t)\n",
      "/opt/anaconda3/envs/alex_env/lib/python3.10/site-packages/skfda/preprocessing/dim_reduction/_fpca.py:231: RuntimeWarning: invalid value encountered in matmul\n",
      "  final_matrix = X.coefficients @ np.transpose(l_inv_j_t)\n",
      "/opt/anaconda3/envs/alex_env/lib/python3.10/site-packages/skfda/preprocessing/dim_reduction/_fpca.py:281: RuntimeWarning: divide by zero encountered in matmul\n",
      "  X.coefficients @ self._j_matrix\n",
      "/opt/anaconda3/envs/alex_env/lib/python3.10/site-packages/skfda/preprocessing/dim_reduction/_fpca.py:281: RuntimeWarning: overflow encountered in matmul\n",
      "  X.coefficients @ self._j_matrix\n",
      "/opt/anaconda3/envs/alex_env/lib/python3.10/site-packages/skfda/preprocessing/dim_reduction/_fpca.py:281: RuntimeWarning: invalid value encountered in matmul\n",
      "  X.coefficients @ self._j_matrix\n"
     ]
    },
    {
     "name": "stdout",
     "output_type": "stream",
     "text": [
      "norms of the basis are: [1. 1. 1. 1. 1.]\n"
     ]
    },
    {
     "name": "stderr",
     "output_type": "stream",
     "text": [
      "/opt/anaconda3/envs/alex_env/lib/python3.10/site-packages/skfda/preprocessing/dim_reduction/_fpca.py:231: RuntimeWarning: divide by zero encountered in matmul\n",
      "  final_matrix = X.coefficients @ np.transpose(l_inv_j_t)\n",
      "/opt/anaconda3/envs/alex_env/lib/python3.10/site-packages/skfda/preprocessing/dim_reduction/_fpca.py:231: RuntimeWarning: overflow encountered in matmul\n",
      "  final_matrix = X.coefficients @ np.transpose(l_inv_j_t)\n",
      "/opt/anaconda3/envs/alex_env/lib/python3.10/site-packages/skfda/preprocessing/dim_reduction/_fpca.py:231: RuntimeWarning: invalid value encountered in matmul\n",
      "  final_matrix = X.coefficients @ np.transpose(l_inv_j_t)\n",
      "/opt/anaconda3/envs/alex_env/lib/python3.10/site-packages/skfda/preprocessing/dim_reduction/_fpca.py:281: RuntimeWarning: divide by zero encountered in matmul\n",
      "  X.coefficients @ self._j_matrix\n",
      "/opt/anaconda3/envs/alex_env/lib/python3.10/site-packages/skfda/preprocessing/dim_reduction/_fpca.py:281: RuntimeWarning: overflow encountered in matmul\n",
      "  X.coefficients @ self._j_matrix\n",
      "/opt/anaconda3/envs/alex_env/lib/python3.10/site-packages/skfda/preprocessing/dim_reduction/_fpca.py:281: RuntimeWarning: invalid value encountered in matmul\n",
      "  X.coefficients @ self._j_matrix\n"
     ]
    },
    {
     "name": "stdout",
     "output_type": "stream",
     "text": [
      "norms of the basis are: [1. 1. 1. 1. 1.]\n"
     ]
    },
    {
     "name": "stderr",
     "output_type": "stream",
     "text": [
      "/opt/anaconda3/envs/alex_env/lib/python3.10/site-packages/skfda/preprocessing/dim_reduction/_fpca.py:231: RuntimeWarning: divide by zero encountered in matmul\n",
      "  final_matrix = X.coefficients @ np.transpose(l_inv_j_t)\n",
      "/opt/anaconda3/envs/alex_env/lib/python3.10/site-packages/skfda/preprocessing/dim_reduction/_fpca.py:231: RuntimeWarning: overflow encountered in matmul\n",
      "  final_matrix = X.coefficients @ np.transpose(l_inv_j_t)\n",
      "/opt/anaconda3/envs/alex_env/lib/python3.10/site-packages/skfda/preprocessing/dim_reduction/_fpca.py:231: RuntimeWarning: invalid value encountered in matmul\n",
      "  final_matrix = X.coefficients @ np.transpose(l_inv_j_t)\n",
      "/opt/anaconda3/envs/alex_env/lib/python3.10/site-packages/skfda/preprocessing/dim_reduction/_fpca.py:281: RuntimeWarning: divide by zero encountered in matmul\n",
      "  X.coefficients @ self._j_matrix\n",
      "/opt/anaconda3/envs/alex_env/lib/python3.10/site-packages/skfda/preprocessing/dim_reduction/_fpca.py:281: RuntimeWarning: overflow encountered in matmul\n",
      "  X.coefficients @ self._j_matrix\n",
      "/opt/anaconda3/envs/alex_env/lib/python3.10/site-packages/skfda/preprocessing/dim_reduction/_fpca.py:281: RuntimeWarning: invalid value encountered in matmul\n",
      "  X.coefficients @ self._j_matrix\n"
     ]
    },
    {
     "name": "stdout",
     "output_type": "stream",
     "text": [
      "norms of the basis are: [1. 1. 1. 1. 1.]\n"
     ]
    },
    {
     "name": "stderr",
     "output_type": "stream",
     "text": [
      "/opt/anaconda3/envs/alex_env/lib/python3.10/site-packages/skfda/preprocessing/dim_reduction/_fpca.py:231: RuntimeWarning: divide by zero encountered in matmul\n",
      "  final_matrix = X.coefficients @ np.transpose(l_inv_j_t)\n",
      "/opt/anaconda3/envs/alex_env/lib/python3.10/site-packages/skfda/preprocessing/dim_reduction/_fpca.py:231: RuntimeWarning: overflow encountered in matmul\n",
      "  final_matrix = X.coefficients @ np.transpose(l_inv_j_t)\n",
      "/opt/anaconda3/envs/alex_env/lib/python3.10/site-packages/skfda/preprocessing/dim_reduction/_fpca.py:231: RuntimeWarning: invalid value encountered in matmul\n",
      "  final_matrix = X.coefficients @ np.transpose(l_inv_j_t)\n",
      "/opt/anaconda3/envs/alex_env/lib/python3.10/site-packages/skfda/preprocessing/dim_reduction/_fpca.py:281: RuntimeWarning: divide by zero encountered in matmul\n",
      "  X.coefficients @ self._j_matrix\n",
      "/opt/anaconda3/envs/alex_env/lib/python3.10/site-packages/skfda/preprocessing/dim_reduction/_fpca.py:281: RuntimeWarning: overflow encountered in matmul\n",
      "  X.coefficients @ self._j_matrix\n",
      "/opt/anaconda3/envs/alex_env/lib/python3.10/site-packages/skfda/preprocessing/dim_reduction/_fpca.py:281: RuntimeWarning: invalid value encountered in matmul\n",
      "  X.coefficients @ self._j_matrix\n"
     ]
    },
    {
     "name": "stdout",
     "output_type": "stream",
     "text": [
      "norms of the basis are: [1. 1. 1. 1. 1.]\n"
     ]
    },
    {
     "name": "stderr",
     "output_type": "stream",
     "text": [
      "/opt/anaconda3/envs/alex_env/lib/python3.10/site-packages/skfda/preprocessing/dim_reduction/_fpca.py:231: RuntimeWarning: divide by zero encountered in matmul\n",
      "  final_matrix = X.coefficients @ np.transpose(l_inv_j_t)\n",
      "/opt/anaconda3/envs/alex_env/lib/python3.10/site-packages/skfda/preprocessing/dim_reduction/_fpca.py:231: RuntimeWarning: overflow encountered in matmul\n",
      "  final_matrix = X.coefficients @ np.transpose(l_inv_j_t)\n",
      "/opt/anaconda3/envs/alex_env/lib/python3.10/site-packages/skfda/preprocessing/dim_reduction/_fpca.py:231: RuntimeWarning: invalid value encountered in matmul\n",
      "  final_matrix = X.coefficients @ np.transpose(l_inv_j_t)\n",
      "/opt/anaconda3/envs/alex_env/lib/python3.10/site-packages/skfda/preprocessing/dim_reduction/_fpca.py:281: RuntimeWarning: divide by zero encountered in matmul\n",
      "  X.coefficients @ self._j_matrix\n",
      "/opt/anaconda3/envs/alex_env/lib/python3.10/site-packages/skfda/preprocessing/dim_reduction/_fpca.py:281: RuntimeWarning: overflow encountered in matmul\n",
      "  X.coefficients @ self._j_matrix\n",
      "/opt/anaconda3/envs/alex_env/lib/python3.10/site-packages/skfda/preprocessing/dim_reduction/_fpca.py:281: RuntimeWarning: invalid value encountered in matmul\n",
      "  X.coefficients @ self._j_matrix\n"
     ]
    },
    {
     "name": "stdout",
     "output_type": "stream",
     "text": [
      "norms of the basis are: [1. 1. 1. 1. 1.]\n"
     ]
    },
    {
     "name": "stderr",
     "output_type": "stream",
     "text": [
      "/opt/anaconda3/envs/alex_env/lib/python3.10/site-packages/skfda/preprocessing/dim_reduction/_fpca.py:231: RuntimeWarning: divide by zero encountered in matmul\n",
      "  final_matrix = X.coefficients @ np.transpose(l_inv_j_t)\n",
      "/opt/anaconda3/envs/alex_env/lib/python3.10/site-packages/skfda/preprocessing/dim_reduction/_fpca.py:231: RuntimeWarning: overflow encountered in matmul\n",
      "  final_matrix = X.coefficients @ np.transpose(l_inv_j_t)\n",
      "/opt/anaconda3/envs/alex_env/lib/python3.10/site-packages/skfda/preprocessing/dim_reduction/_fpca.py:231: RuntimeWarning: invalid value encountered in matmul\n",
      "  final_matrix = X.coefficients @ np.transpose(l_inv_j_t)\n",
      "/opt/anaconda3/envs/alex_env/lib/python3.10/site-packages/skfda/preprocessing/dim_reduction/_fpca.py:281: RuntimeWarning: divide by zero encountered in matmul\n",
      "  X.coefficients @ self._j_matrix\n",
      "/opt/anaconda3/envs/alex_env/lib/python3.10/site-packages/skfda/preprocessing/dim_reduction/_fpca.py:281: RuntimeWarning: overflow encountered in matmul\n",
      "  X.coefficients @ self._j_matrix\n",
      "/opt/anaconda3/envs/alex_env/lib/python3.10/site-packages/skfda/preprocessing/dim_reduction/_fpca.py:281: RuntimeWarning: invalid value encountered in matmul\n",
      "  X.coefficients @ self._j_matrix\n"
     ]
    },
    {
     "name": "stdout",
     "output_type": "stream",
     "text": [
      "norms of the basis are: [1. 1. 1. 1. 1.]\n"
     ]
    },
    {
     "name": "stderr",
     "output_type": "stream",
     "text": [
      "/opt/anaconda3/envs/alex_env/lib/python3.10/site-packages/skfda/preprocessing/dim_reduction/_fpca.py:231: RuntimeWarning: divide by zero encountered in matmul\n",
      "  final_matrix = X.coefficients @ np.transpose(l_inv_j_t)\n",
      "/opt/anaconda3/envs/alex_env/lib/python3.10/site-packages/skfda/preprocessing/dim_reduction/_fpca.py:231: RuntimeWarning: overflow encountered in matmul\n",
      "  final_matrix = X.coefficients @ np.transpose(l_inv_j_t)\n",
      "/opt/anaconda3/envs/alex_env/lib/python3.10/site-packages/skfda/preprocessing/dim_reduction/_fpca.py:231: RuntimeWarning: invalid value encountered in matmul\n",
      "  final_matrix = X.coefficients @ np.transpose(l_inv_j_t)\n",
      "/opt/anaconda3/envs/alex_env/lib/python3.10/site-packages/skfda/preprocessing/dim_reduction/_fpca.py:281: RuntimeWarning: divide by zero encountered in matmul\n",
      "  X.coefficients @ self._j_matrix\n",
      "/opt/anaconda3/envs/alex_env/lib/python3.10/site-packages/skfda/preprocessing/dim_reduction/_fpca.py:281: RuntimeWarning: overflow encountered in matmul\n",
      "  X.coefficients @ self._j_matrix\n",
      "/opt/anaconda3/envs/alex_env/lib/python3.10/site-packages/skfda/preprocessing/dim_reduction/_fpca.py:281: RuntimeWarning: invalid value encountered in matmul\n",
      "  X.coefficients @ self._j_matrix\n"
     ]
    },
    {
     "name": "stdout",
     "output_type": "stream",
     "text": [
      "norms of the basis are: [1. 1. 1. 1. 1.]\n"
     ]
    },
    {
     "name": "stderr",
     "output_type": "stream",
     "text": [
      "/opt/anaconda3/envs/alex_env/lib/python3.10/site-packages/skfda/preprocessing/dim_reduction/_fpca.py:231: RuntimeWarning: divide by zero encountered in matmul\n",
      "  final_matrix = X.coefficients @ np.transpose(l_inv_j_t)\n",
      "/opt/anaconda3/envs/alex_env/lib/python3.10/site-packages/skfda/preprocessing/dim_reduction/_fpca.py:231: RuntimeWarning: overflow encountered in matmul\n",
      "  final_matrix = X.coefficients @ np.transpose(l_inv_j_t)\n",
      "/opt/anaconda3/envs/alex_env/lib/python3.10/site-packages/skfda/preprocessing/dim_reduction/_fpca.py:231: RuntimeWarning: invalid value encountered in matmul\n",
      "  final_matrix = X.coefficients @ np.transpose(l_inv_j_t)\n",
      "/opt/anaconda3/envs/alex_env/lib/python3.10/site-packages/skfda/preprocessing/dim_reduction/_fpca.py:281: RuntimeWarning: divide by zero encountered in matmul\n",
      "  X.coefficients @ self._j_matrix\n",
      "/opt/anaconda3/envs/alex_env/lib/python3.10/site-packages/skfda/preprocessing/dim_reduction/_fpca.py:281: RuntimeWarning: overflow encountered in matmul\n",
      "  X.coefficients @ self._j_matrix\n",
      "/opt/anaconda3/envs/alex_env/lib/python3.10/site-packages/skfda/preprocessing/dim_reduction/_fpca.py:281: RuntimeWarning: invalid value encountered in matmul\n",
      "  X.coefficients @ self._j_matrix\n"
     ]
    },
    {
     "name": "stdout",
     "output_type": "stream",
     "text": [
      "norms of the basis are: [1. 1. 1. 1. 1.]\n"
     ]
    },
    {
     "name": "stderr",
     "output_type": "stream",
     "text": [
      "/opt/anaconda3/envs/alex_env/lib/python3.10/site-packages/skfda/preprocessing/dim_reduction/_fpca.py:231: RuntimeWarning: divide by zero encountered in matmul\n",
      "  final_matrix = X.coefficients @ np.transpose(l_inv_j_t)\n",
      "/opt/anaconda3/envs/alex_env/lib/python3.10/site-packages/skfda/preprocessing/dim_reduction/_fpca.py:231: RuntimeWarning: overflow encountered in matmul\n",
      "  final_matrix = X.coefficients @ np.transpose(l_inv_j_t)\n",
      "/opt/anaconda3/envs/alex_env/lib/python3.10/site-packages/skfda/preprocessing/dim_reduction/_fpca.py:231: RuntimeWarning: invalid value encountered in matmul\n",
      "  final_matrix = X.coefficients @ np.transpose(l_inv_j_t)\n",
      "/opt/anaconda3/envs/alex_env/lib/python3.10/site-packages/skfda/preprocessing/dim_reduction/_fpca.py:281: RuntimeWarning: divide by zero encountered in matmul\n",
      "  X.coefficients @ self._j_matrix\n",
      "/opt/anaconda3/envs/alex_env/lib/python3.10/site-packages/skfda/preprocessing/dim_reduction/_fpca.py:281: RuntimeWarning: overflow encountered in matmul\n",
      "  X.coefficients @ self._j_matrix\n",
      "/opt/anaconda3/envs/alex_env/lib/python3.10/site-packages/skfda/preprocessing/dim_reduction/_fpca.py:281: RuntimeWarning: invalid value encountered in matmul\n",
      "  X.coefficients @ self._j_matrix\n"
     ]
    },
    {
     "name": "stdout",
     "output_type": "stream",
     "text": [
      "norms of the basis are: [1. 1. 1. 1. 1.]\n"
     ]
    },
    {
     "name": "stderr",
     "output_type": "stream",
     "text": [
      "/opt/anaconda3/envs/alex_env/lib/python3.10/site-packages/skfda/preprocessing/dim_reduction/_fpca.py:231: RuntimeWarning: divide by zero encountered in matmul\n",
      "  final_matrix = X.coefficients @ np.transpose(l_inv_j_t)\n",
      "/opt/anaconda3/envs/alex_env/lib/python3.10/site-packages/skfda/preprocessing/dim_reduction/_fpca.py:231: RuntimeWarning: overflow encountered in matmul\n",
      "  final_matrix = X.coefficients @ np.transpose(l_inv_j_t)\n",
      "/opt/anaconda3/envs/alex_env/lib/python3.10/site-packages/skfda/preprocessing/dim_reduction/_fpca.py:231: RuntimeWarning: invalid value encountered in matmul\n",
      "  final_matrix = X.coefficients @ np.transpose(l_inv_j_t)\n",
      "/opt/anaconda3/envs/alex_env/lib/python3.10/site-packages/skfda/preprocessing/dim_reduction/_fpca.py:281: RuntimeWarning: divide by zero encountered in matmul\n",
      "  X.coefficients @ self._j_matrix\n",
      "/opt/anaconda3/envs/alex_env/lib/python3.10/site-packages/skfda/preprocessing/dim_reduction/_fpca.py:281: RuntimeWarning: overflow encountered in matmul\n",
      "  X.coefficients @ self._j_matrix\n",
      "/opt/anaconda3/envs/alex_env/lib/python3.10/site-packages/skfda/preprocessing/dim_reduction/_fpca.py:281: RuntimeWarning: invalid value encountered in matmul\n",
      "  X.coefficients @ self._j_matrix\n"
     ]
    },
    {
     "name": "stdout",
     "output_type": "stream",
     "text": [
      "norms of the basis are: [1. 1. 1. 1. 1.]\n"
     ]
    },
    {
     "name": "stderr",
     "output_type": "stream",
     "text": [
      "/opt/anaconda3/envs/alex_env/lib/python3.10/site-packages/skfda/preprocessing/dim_reduction/_fpca.py:231: RuntimeWarning: divide by zero encountered in matmul\n",
      "  final_matrix = X.coefficients @ np.transpose(l_inv_j_t)\n",
      "/opt/anaconda3/envs/alex_env/lib/python3.10/site-packages/skfda/preprocessing/dim_reduction/_fpca.py:231: RuntimeWarning: overflow encountered in matmul\n",
      "  final_matrix = X.coefficients @ np.transpose(l_inv_j_t)\n",
      "/opt/anaconda3/envs/alex_env/lib/python3.10/site-packages/skfda/preprocessing/dim_reduction/_fpca.py:231: RuntimeWarning: invalid value encountered in matmul\n",
      "  final_matrix = X.coefficients @ np.transpose(l_inv_j_t)\n",
      "/opt/anaconda3/envs/alex_env/lib/python3.10/site-packages/skfda/preprocessing/dim_reduction/_fpca.py:281: RuntimeWarning: divide by zero encountered in matmul\n",
      "  X.coefficients @ self._j_matrix\n",
      "/opt/anaconda3/envs/alex_env/lib/python3.10/site-packages/skfda/preprocessing/dim_reduction/_fpca.py:281: RuntimeWarning: overflow encountered in matmul\n",
      "  X.coefficients @ self._j_matrix\n",
      "/opt/anaconda3/envs/alex_env/lib/python3.10/site-packages/skfda/preprocessing/dim_reduction/_fpca.py:281: RuntimeWarning: invalid value encountered in matmul\n",
      "  X.coefficients @ self._j_matrix\n"
     ]
    },
    {
     "name": "stdout",
     "output_type": "stream",
     "text": [
      "norms of the basis are: [1. 1. 1. 1. 1.]\n"
     ]
    },
    {
     "name": "stderr",
     "output_type": "stream",
     "text": [
      "/opt/anaconda3/envs/alex_env/lib/python3.10/site-packages/skfda/preprocessing/dim_reduction/_fpca.py:231: RuntimeWarning: divide by zero encountered in matmul\n",
      "  final_matrix = X.coefficients @ np.transpose(l_inv_j_t)\n",
      "/opt/anaconda3/envs/alex_env/lib/python3.10/site-packages/skfda/preprocessing/dim_reduction/_fpca.py:231: RuntimeWarning: overflow encountered in matmul\n",
      "  final_matrix = X.coefficients @ np.transpose(l_inv_j_t)\n",
      "/opt/anaconda3/envs/alex_env/lib/python3.10/site-packages/skfda/preprocessing/dim_reduction/_fpca.py:231: RuntimeWarning: invalid value encountered in matmul\n",
      "  final_matrix = X.coefficients @ np.transpose(l_inv_j_t)\n",
      "/opt/anaconda3/envs/alex_env/lib/python3.10/site-packages/skfda/preprocessing/dim_reduction/_fpca.py:281: RuntimeWarning: divide by zero encountered in matmul\n",
      "  X.coefficients @ self._j_matrix\n",
      "/opt/anaconda3/envs/alex_env/lib/python3.10/site-packages/skfda/preprocessing/dim_reduction/_fpca.py:281: RuntimeWarning: overflow encountered in matmul\n",
      "  X.coefficients @ self._j_matrix\n",
      "/opt/anaconda3/envs/alex_env/lib/python3.10/site-packages/skfda/preprocessing/dim_reduction/_fpca.py:281: RuntimeWarning: invalid value encountered in matmul\n",
      "  X.coefficients @ self._j_matrix\n"
     ]
    },
    {
     "name": "stdout",
     "output_type": "stream",
     "text": [
      "norms of the basis are: [1. 1. 1. 1. 1.]\n"
     ]
    },
    {
     "name": "stderr",
     "output_type": "stream",
     "text": [
      "/opt/anaconda3/envs/alex_env/lib/python3.10/site-packages/skfda/preprocessing/dim_reduction/_fpca.py:231: RuntimeWarning: divide by zero encountered in matmul\n",
      "  final_matrix = X.coefficients @ np.transpose(l_inv_j_t)\n",
      "/opt/anaconda3/envs/alex_env/lib/python3.10/site-packages/skfda/preprocessing/dim_reduction/_fpca.py:231: RuntimeWarning: overflow encountered in matmul\n",
      "  final_matrix = X.coefficients @ np.transpose(l_inv_j_t)\n",
      "/opt/anaconda3/envs/alex_env/lib/python3.10/site-packages/skfda/preprocessing/dim_reduction/_fpca.py:231: RuntimeWarning: invalid value encountered in matmul\n",
      "  final_matrix = X.coefficients @ np.transpose(l_inv_j_t)\n",
      "/opt/anaconda3/envs/alex_env/lib/python3.10/site-packages/skfda/preprocessing/dim_reduction/_fpca.py:281: RuntimeWarning: divide by zero encountered in matmul\n",
      "  X.coefficients @ self._j_matrix\n",
      "/opt/anaconda3/envs/alex_env/lib/python3.10/site-packages/skfda/preprocessing/dim_reduction/_fpca.py:281: RuntimeWarning: overflow encountered in matmul\n",
      "  X.coefficients @ self._j_matrix\n",
      "/opt/anaconda3/envs/alex_env/lib/python3.10/site-packages/skfda/preprocessing/dim_reduction/_fpca.py:281: RuntimeWarning: invalid value encountered in matmul\n",
      "  X.coefficients @ self._j_matrix\n"
     ]
    },
    {
     "name": "stdout",
     "output_type": "stream",
     "text": [
      "norms of the basis are: [1. 1. 1. 1. 1.]\n"
     ]
    },
    {
     "name": "stderr",
     "output_type": "stream",
     "text": [
      "/opt/anaconda3/envs/alex_env/lib/python3.10/site-packages/skfda/preprocessing/dim_reduction/_fpca.py:231: RuntimeWarning: divide by zero encountered in matmul\n",
      "  final_matrix = X.coefficients @ np.transpose(l_inv_j_t)\n",
      "/opt/anaconda3/envs/alex_env/lib/python3.10/site-packages/skfda/preprocessing/dim_reduction/_fpca.py:231: RuntimeWarning: overflow encountered in matmul\n",
      "  final_matrix = X.coefficients @ np.transpose(l_inv_j_t)\n",
      "/opt/anaconda3/envs/alex_env/lib/python3.10/site-packages/skfda/preprocessing/dim_reduction/_fpca.py:231: RuntimeWarning: invalid value encountered in matmul\n",
      "  final_matrix = X.coefficients @ np.transpose(l_inv_j_t)\n",
      "/opt/anaconda3/envs/alex_env/lib/python3.10/site-packages/skfda/preprocessing/dim_reduction/_fpca.py:281: RuntimeWarning: divide by zero encountered in matmul\n",
      "  X.coefficients @ self._j_matrix\n",
      "/opt/anaconda3/envs/alex_env/lib/python3.10/site-packages/skfda/preprocessing/dim_reduction/_fpca.py:281: RuntimeWarning: overflow encountered in matmul\n",
      "  X.coefficients @ self._j_matrix\n",
      "/opt/anaconda3/envs/alex_env/lib/python3.10/site-packages/skfda/preprocessing/dim_reduction/_fpca.py:281: RuntimeWarning: invalid value encountered in matmul\n",
      "  X.coefficients @ self._j_matrix\n"
     ]
    },
    {
     "name": "stdout",
     "output_type": "stream",
     "text": [
      "norms of the basis are: [1. 1. 1. 1. 1.]\n"
     ]
    },
    {
     "name": "stderr",
     "output_type": "stream",
     "text": [
      "/opt/anaconda3/envs/alex_env/lib/python3.10/site-packages/skfda/preprocessing/dim_reduction/_fpca.py:231: RuntimeWarning: divide by zero encountered in matmul\n",
      "  final_matrix = X.coefficients @ np.transpose(l_inv_j_t)\n",
      "/opt/anaconda3/envs/alex_env/lib/python3.10/site-packages/skfda/preprocessing/dim_reduction/_fpca.py:231: RuntimeWarning: overflow encountered in matmul\n",
      "  final_matrix = X.coefficients @ np.transpose(l_inv_j_t)\n",
      "/opt/anaconda3/envs/alex_env/lib/python3.10/site-packages/skfda/preprocessing/dim_reduction/_fpca.py:231: RuntimeWarning: invalid value encountered in matmul\n",
      "  final_matrix = X.coefficients @ np.transpose(l_inv_j_t)\n",
      "/opt/anaconda3/envs/alex_env/lib/python3.10/site-packages/skfda/preprocessing/dim_reduction/_fpca.py:281: RuntimeWarning: divide by zero encountered in matmul\n",
      "  X.coefficients @ self._j_matrix\n",
      "/opt/anaconda3/envs/alex_env/lib/python3.10/site-packages/skfda/preprocessing/dim_reduction/_fpca.py:281: RuntimeWarning: overflow encountered in matmul\n",
      "  X.coefficients @ self._j_matrix\n",
      "/opt/anaconda3/envs/alex_env/lib/python3.10/site-packages/skfda/preprocessing/dim_reduction/_fpca.py:281: RuntimeWarning: invalid value encountered in matmul\n",
      "  X.coefficients @ self._j_matrix\n"
     ]
    },
    {
     "name": "stdout",
     "output_type": "stream",
     "text": [
      "norms of the basis are: [1. 1. 1. 1. 1.]\n"
     ]
    },
    {
     "name": "stderr",
     "output_type": "stream",
     "text": [
      "/opt/anaconda3/envs/alex_env/lib/python3.10/site-packages/skfda/preprocessing/dim_reduction/_fpca.py:231: RuntimeWarning: divide by zero encountered in matmul\n",
      "  final_matrix = X.coefficients @ np.transpose(l_inv_j_t)\n",
      "/opt/anaconda3/envs/alex_env/lib/python3.10/site-packages/skfda/preprocessing/dim_reduction/_fpca.py:231: RuntimeWarning: overflow encountered in matmul\n",
      "  final_matrix = X.coefficients @ np.transpose(l_inv_j_t)\n",
      "/opt/anaconda3/envs/alex_env/lib/python3.10/site-packages/skfda/preprocessing/dim_reduction/_fpca.py:231: RuntimeWarning: invalid value encountered in matmul\n",
      "  final_matrix = X.coefficients @ np.transpose(l_inv_j_t)\n",
      "/opt/anaconda3/envs/alex_env/lib/python3.10/site-packages/skfda/preprocessing/dim_reduction/_fpca.py:281: RuntimeWarning: divide by zero encountered in matmul\n",
      "  X.coefficients @ self._j_matrix\n",
      "/opt/anaconda3/envs/alex_env/lib/python3.10/site-packages/skfda/preprocessing/dim_reduction/_fpca.py:281: RuntimeWarning: overflow encountered in matmul\n",
      "  X.coefficients @ self._j_matrix\n",
      "/opt/anaconda3/envs/alex_env/lib/python3.10/site-packages/skfda/preprocessing/dim_reduction/_fpca.py:281: RuntimeWarning: invalid value encountered in matmul\n",
      "  X.coefficients @ self._j_matrix\n"
     ]
    },
    {
     "name": "stdout",
     "output_type": "stream",
     "text": [
      "norms of the basis are: [1. 1. 1. 1. 1.]\n"
     ]
    },
    {
     "name": "stderr",
     "output_type": "stream",
     "text": [
      "/opt/anaconda3/envs/alex_env/lib/python3.10/site-packages/skfda/preprocessing/dim_reduction/_fpca.py:231: RuntimeWarning: divide by zero encountered in matmul\n",
      "  final_matrix = X.coefficients @ np.transpose(l_inv_j_t)\n",
      "/opt/anaconda3/envs/alex_env/lib/python3.10/site-packages/skfda/preprocessing/dim_reduction/_fpca.py:231: RuntimeWarning: overflow encountered in matmul\n",
      "  final_matrix = X.coefficients @ np.transpose(l_inv_j_t)\n",
      "/opt/anaconda3/envs/alex_env/lib/python3.10/site-packages/skfda/preprocessing/dim_reduction/_fpca.py:231: RuntimeWarning: invalid value encountered in matmul\n",
      "  final_matrix = X.coefficients @ np.transpose(l_inv_j_t)\n",
      "/opt/anaconda3/envs/alex_env/lib/python3.10/site-packages/skfda/preprocessing/dim_reduction/_fpca.py:281: RuntimeWarning: divide by zero encountered in matmul\n",
      "  X.coefficients @ self._j_matrix\n",
      "/opt/anaconda3/envs/alex_env/lib/python3.10/site-packages/skfda/preprocessing/dim_reduction/_fpca.py:281: RuntimeWarning: overflow encountered in matmul\n",
      "  X.coefficients @ self._j_matrix\n",
      "/opt/anaconda3/envs/alex_env/lib/python3.10/site-packages/skfda/preprocessing/dim_reduction/_fpca.py:281: RuntimeWarning: invalid value encountered in matmul\n",
      "  X.coefficients @ self._j_matrix\n"
     ]
    },
    {
     "name": "stdout",
     "output_type": "stream",
     "text": [
      "norms of the basis are: [1. 1. 1. 1. 1.]\n"
     ]
    },
    {
     "name": "stderr",
     "output_type": "stream",
     "text": [
      "/opt/anaconda3/envs/alex_env/lib/python3.10/site-packages/skfda/preprocessing/dim_reduction/_fpca.py:231: RuntimeWarning: divide by zero encountered in matmul\n",
      "  final_matrix = X.coefficients @ np.transpose(l_inv_j_t)\n",
      "/opt/anaconda3/envs/alex_env/lib/python3.10/site-packages/skfda/preprocessing/dim_reduction/_fpca.py:231: RuntimeWarning: overflow encountered in matmul\n",
      "  final_matrix = X.coefficients @ np.transpose(l_inv_j_t)\n",
      "/opt/anaconda3/envs/alex_env/lib/python3.10/site-packages/skfda/preprocessing/dim_reduction/_fpca.py:231: RuntimeWarning: invalid value encountered in matmul\n",
      "  final_matrix = X.coefficients @ np.transpose(l_inv_j_t)\n",
      "/opt/anaconda3/envs/alex_env/lib/python3.10/site-packages/skfda/preprocessing/dim_reduction/_fpca.py:281: RuntimeWarning: divide by zero encountered in matmul\n",
      "  X.coefficients @ self._j_matrix\n",
      "/opt/anaconda3/envs/alex_env/lib/python3.10/site-packages/skfda/preprocessing/dim_reduction/_fpca.py:281: RuntimeWarning: overflow encountered in matmul\n",
      "  X.coefficients @ self._j_matrix\n",
      "/opt/anaconda3/envs/alex_env/lib/python3.10/site-packages/skfda/preprocessing/dim_reduction/_fpca.py:281: RuntimeWarning: invalid value encountered in matmul\n",
      "  X.coefficients @ self._j_matrix\n"
     ]
    },
    {
     "name": "stdout",
     "output_type": "stream",
     "text": [
      "norms of the basis are: [1. 1. 1. 1. 1.]\n"
     ]
    },
    {
     "name": "stderr",
     "output_type": "stream",
     "text": [
      "/opt/anaconda3/envs/alex_env/lib/python3.10/site-packages/skfda/preprocessing/dim_reduction/_fpca.py:231: RuntimeWarning: divide by zero encountered in matmul\n",
      "  final_matrix = X.coefficients @ np.transpose(l_inv_j_t)\n",
      "/opt/anaconda3/envs/alex_env/lib/python3.10/site-packages/skfda/preprocessing/dim_reduction/_fpca.py:231: RuntimeWarning: overflow encountered in matmul\n",
      "  final_matrix = X.coefficients @ np.transpose(l_inv_j_t)\n",
      "/opt/anaconda3/envs/alex_env/lib/python3.10/site-packages/skfda/preprocessing/dim_reduction/_fpca.py:231: RuntimeWarning: invalid value encountered in matmul\n",
      "  final_matrix = X.coefficients @ np.transpose(l_inv_j_t)\n",
      "/opt/anaconda3/envs/alex_env/lib/python3.10/site-packages/skfda/preprocessing/dim_reduction/_fpca.py:281: RuntimeWarning: divide by zero encountered in matmul\n",
      "  X.coefficients @ self._j_matrix\n",
      "/opt/anaconda3/envs/alex_env/lib/python3.10/site-packages/skfda/preprocessing/dim_reduction/_fpca.py:281: RuntimeWarning: overflow encountered in matmul\n",
      "  X.coefficients @ self._j_matrix\n",
      "/opt/anaconda3/envs/alex_env/lib/python3.10/site-packages/skfda/preprocessing/dim_reduction/_fpca.py:281: RuntimeWarning: invalid value encountered in matmul\n",
      "  X.coefficients @ self._j_matrix\n"
     ]
    },
    {
     "name": "stdout",
     "output_type": "stream",
     "text": [
      "norms of the basis are: [1. 1. 1. 1. 1.]\n"
     ]
    },
    {
     "name": "stderr",
     "output_type": "stream",
     "text": [
      "/opt/anaconda3/envs/alex_env/lib/python3.10/site-packages/skfda/preprocessing/dim_reduction/_fpca.py:231: RuntimeWarning: divide by zero encountered in matmul\n",
      "  final_matrix = X.coefficients @ np.transpose(l_inv_j_t)\n",
      "/opt/anaconda3/envs/alex_env/lib/python3.10/site-packages/skfda/preprocessing/dim_reduction/_fpca.py:231: RuntimeWarning: overflow encountered in matmul\n",
      "  final_matrix = X.coefficients @ np.transpose(l_inv_j_t)\n",
      "/opt/anaconda3/envs/alex_env/lib/python3.10/site-packages/skfda/preprocessing/dim_reduction/_fpca.py:231: RuntimeWarning: invalid value encountered in matmul\n",
      "  final_matrix = X.coefficients @ np.transpose(l_inv_j_t)\n",
      "/opt/anaconda3/envs/alex_env/lib/python3.10/site-packages/skfda/preprocessing/dim_reduction/_fpca.py:281: RuntimeWarning: divide by zero encountered in matmul\n",
      "  X.coefficients @ self._j_matrix\n",
      "/opt/anaconda3/envs/alex_env/lib/python3.10/site-packages/skfda/preprocessing/dim_reduction/_fpca.py:281: RuntimeWarning: overflow encountered in matmul\n",
      "  X.coefficients @ self._j_matrix\n",
      "/opt/anaconda3/envs/alex_env/lib/python3.10/site-packages/skfda/preprocessing/dim_reduction/_fpca.py:281: RuntimeWarning: invalid value encountered in matmul\n",
      "  X.coefficients @ self._j_matrix\n"
     ]
    },
    {
     "name": "stdout",
     "output_type": "stream",
     "text": [
      "norms of the basis are: [1. 1. 1. 1. 1.]\n"
     ]
    },
    {
     "name": "stderr",
     "output_type": "stream",
     "text": [
      "/opt/anaconda3/envs/alex_env/lib/python3.10/site-packages/skfda/preprocessing/dim_reduction/_fpca.py:231: RuntimeWarning: divide by zero encountered in matmul\n",
      "  final_matrix = X.coefficients @ np.transpose(l_inv_j_t)\n",
      "/opt/anaconda3/envs/alex_env/lib/python3.10/site-packages/skfda/preprocessing/dim_reduction/_fpca.py:231: RuntimeWarning: overflow encountered in matmul\n",
      "  final_matrix = X.coefficients @ np.transpose(l_inv_j_t)\n",
      "/opt/anaconda3/envs/alex_env/lib/python3.10/site-packages/skfda/preprocessing/dim_reduction/_fpca.py:231: RuntimeWarning: invalid value encountered in matmul\n",
      "  final_matrix = X.coefficients @ np.transpose(l_inv_j_t)\n",
      "/opt/anaconda3/envs/alex_env/lib/python3.10/site-packages/skfda/preprocessing/dim_reduction/_fpca.py:281: RuntimeWarning: divide by zero encountered in matmul\n",
      "  X.coefficients @ self._j_matrix\n",
      "/opt/anaconda3/envs/alex_env/lib/python3.10/site-packages/skfda/preprocessing/dim_reduction/_fpca.py:281: RuntimeWarning: overflow encountered in matmul\n",
      "  X.coefficients @ self._j_matrix\n",
      "/opt/anaconda3/envs/alex_env/lib/python3.10/site-packages/skfda/preprocessing/dim_reduction/_fpca.py:281: RuntimeWarning: invalid value encountered in matmul\n",
      "  X.coefficients @ self._j_matrix\n"
     ]
    },
    {
     "name": "stdout",
     "output_type": "stream",
     "text": [
      "norms of the basis are: [1. 1. 1. 1. 1.]\n"
     ]
    },
    {
     "name": "stderr",
     "output_type": "stream",
     "text": [
      "/opt/anaconda3/envs/alex_env/lib/python3.10/site-packages/skfda/preprocessing/dim_reduction/_fpca.py:231: RuntimeWarning: divide by zero encountered in matmul\n",
      "  final_matrix = X.coefficients @ np.transpose(l_inv_j_t)\n",
      "/opt/anaconda3/envs/alex_env/lib/python3.10/site-packages/skfda/preprocessing/dim_reduction/_fpca.py:231: RuntimeWarning: overflow encountered in matmul\n",
      "  final_matrix = X.coefficients @ np.transpose(l_inv_j_t)\n",
      "/opt/anaconda3/envs/alex_env/lib/python3.10/site-packages/skfda/preprocessing/dim_reduction/_fpca.py:231: RuntimeWarning: invalid value encountered in matmul\n",
      "  final_matrix = X.coefficients @ np.transpose(l_inv_j_t)\n",
      "/opt/anaconda3/envs/alex_env/lib/python3.10/site-packages/skfda/preprocessing/dim_reduction/_fpca.py:281: RuntimeWarning: divide by zero encountered in matmul\n",
      "  X.coefficients @ self._j_matrix\n",
      "/opt/anaconda3/envs/alex_env/lib/python3.10/site-packages/skfda/preprocessing/dim_reduction/_fpca.py:281: RuntimeWarning: overflow encountered in matmul\n",
      "  X.coefficients @ self._j_matrix\n",
      "/opt/anaconda3/envs/alex_env/lib/python3.10/site-packages/skfda/preprocessing/dim_reduction/_fpca.py:281: RuntimeWarning: invalid value encountered in matmul\n",
      "  X.coefficients @ self._j_matrix\n"
     ]
    },
    {
     "name": "stdout",
     "output_type": "stream",
     "text": [
      "norms of the basis are: [1. 1. 1. 1. 1.]\n"
     ]
    },
    {
     "name": "stderr",
     "output_type": "stream",
     "text": [
      "/opt/anaconda3/envs/alex_env/lib/python3.10/site-packages/skfda/preprocessing/dim_reduction/_fpca.py:231: RuntimeWarning: divide by zero encountered in matmul\n",
      "  final_matrix = X.coefficients @ np.transpose(l_inv_j_t)\n",
      "/opt/anaconda3/envs/alex_env/lib/python3.10/site-packages/skfda/preprocessing/dim_reduction/_fpca.py:231: RuntimeWarning: overflow encountered in matmul\n",
      "  final_matrix = X.coefficients @ np.transpose(l_inv_j_t)\n",
      "/opt/anaconda3/envs/alex_env/lib/python3.10/site-packages/skfda/preprocessing/dim_reduction/_fpca.py:231: RuntimeWarning: invalid value encountered in matmul\n",
      "  final_matrix = X.coefficients @ np.transpose(l_inv_j_t)\n",
      "/opt/anaconda3/envs/alex_env/lib/python3.10/site-packages/skfda/preprocessing/dim_reduction/_fpca.py:281: RuntimeWarning: divide by zero encountered in matmul\n",
      "  X.coefficients @ self._j_matrix\n",
      "/opt/anaconda3/envs/alex_env/lib/python3.10/site-packages/skfda/preprocessing/dim_reduction/_fpca.py:281: RuntimeWarning: overflow encountered in matmul\n",
      "  X.coefficients @ self._j_matrix\n",
      "/opt/anaconda3/envs/alex_env/lib/python3.10/site-packages/skfda/preprocessing/dim_reduction/_fpca.py:281: RuntimeWarning: invalid value encountered in matmul\n",
      "  X.coefficients @ self._j_matrix\n"
     ]
    },
    {
     "name": "stdout",
     "output_type": "stream",
     "text": [
      "norms of the basis are: [1. 1. 1. 1. 1.]\n"
     ]
    },
    {
     "name": "stderr",
     "output_type": "stream",
     "text": [
      "/opt/anaconda3/envs/alex_env/lib/python3.10/site-packages/skfda/preprocessing/dim_reduction/_fpca.py:231: RuntimeWarning: divide by zero encountered in matmul\n",
      "  final_matrix = X.coefficients @ np.transpose(l_inv_j_t)\n",
      "/opt/anaconda3/envs/alex_env/lib/python3.10/site-packages/skfda/preprocessing/dim_reduction/_fpca.py:231: RuntimeWarning: overflow encountered in matmul\n",
      "  final_matrix = X.coefficients @ np.transpose(l_inv_j_t)\n",
      "/opt/anaconda3/envs/alex_env/lib/python3.10/site-packages/skfda/preprocessing/dim_reduction/_fpca.py:231: RuntimeWarning: invalid value encountered in matmul\n",
      "  final_matrix = X.coefficients @ np.transpose(l_inv_j_t)\n",
      "/opt/anaconda3/envs/alex_env/lib/python3.10/site-packages/skfda/preprocessing/dim_reduction/_fpca.py:281: RuntimeWarning: divide by zero encountered in matmul\n",
      "  X.coefficients @ self._j_matrix\n",
      "/opt/anaconda3/envs/alex_env/lib/python3.10/site-packages/skfda/preprocessing/dim_reduction/_fpca.py:281: RuntimeWarning: overflow encountered in matmul\n",
      "  X.coefficients @ self._j_matrix\n",
      "/opt/anaconda3/envs/alex_env/lib/python3.10/site-packages/skfda/preprocessing/dim_reduction/_fpca.py:281: RuntimeWarning: invalid value encountered in matmul\n",
      "  X.coefficients @ self._j_matrix\n"
     ]
    },
    {
     "name": "stdout",
     "output_type": "stream",
     "text": [
      "norms of the basis are: [1. 1. 1. 1. 1.]\n"
     ]
    },
    {
     "name": "stderr",
     "output_type": "stream",
     "text": [
      "/opt/anaconda3/envs/alex_env/lib/python3.10/site-packages/skfda/preprocessing/dim_reduction/_fpca.py:231: RuntimeWarning: divide by zero encountered in matmul\n",
      "  final_matrix = X.coefficients @ np.transpose(l_inv_j_t)\n",
      "/opt/anaconda3/envs/alex_env/lib/python3.10/site-packages/skfda/preprocessing/dim_reduction/_fpca.py:231: RuntimeWarning: overflow encountered in matmul\n",
      "  final_matrix = X.coefficients @ np.transpose(l_inv_j_t)\n",
      "/opt/anaconda3/envs/alex_env/lib/python3.10/site-packages/skfda/preprocessing/dim_reduction/_fpca.py:231: RuntimeWarning: invalid value encountered in matmul\n",
      "  final_matrix = X.coefficients @ np.transpose(l_inv_j_t)\n",
      "/opt/anaconda3/envs/alex_env/lib/python3.10/site-packages/skfda/preprocessing/dim_reduction/_fpca.py:281: RuntimeWarning: divide by zero encountered in matmul\n",
      "  X.coefficients @ self._j_matrix\n",
      "/opt/anaconda3/envs/alex_env/lib/python3.10/site-packages/skfda/preprocessing/dim_reduction/_fpca.py:281: RuntimeWarning: overflow encountered in matmul\n",
      "  X.coefficients @ self._j_matrix\n",
      "/opt/anaconda3/envs/alex_env/lib/python3.10/site-packages/skfda/preprocessing/dim_reduction/_fpca.py:281: RuntimeWarning: invalid value encountered in matmul\n",
      "  X.coefficients @ self._j_matrix\n"
     ]
    },
    {
     "name": "stdout",
     "output_type": "stream",
     "text": [
      "norms of the basis are: [1. 1. 1. 1. 1.]\n"
     ]
    },
    {
     "name": "stderr",
     "output_type": "stream",
     "text": [
      "/opt/anaconda3/envs/alex_env/lib/python3.10/site-packages/skfda/preprocessing/dim_reduction/_fpca.py:231: RuntimeWarning: divide by zero encountered in matmul\n",
      "  final_matrix = X.coefficients @ np.transpose(l_inv_j_t)\n",
      "/opt/anaconda3/envs/alex_env/lib/python3.10/site-packages/skfda/preprocessing/dim_reduction/_fpca.py:231: RuntimeWarning: overflow encountered in matmul\n",
      "  final_matrix = X.coefficients @ np.transpose(l_inv_j_t)\n",
      "/opt/anaconda3/envs/alex_env/lib/python3.10/site-packages/skfda/preprocessing/dim_reduction/_fpca.py:231: RuntimeWarning: invalid value encountered in matmul\n",
      "  final_matrix = X.coefficients @ np.transpose(l_inv_j_t)\n",
      "/opt/anaconda3/envs/alex_env/lib/python3.10/site-packages/skfda/preprocessing/dim_reduction/_fpca.py:281: RuntimeWarning: divide by zero encountered in matmul\n",
      "  X.coefficients @ self._j_matrix\n",
      "/opt/anaconda3/envs/alex_env/lib/python3.10/site-packages/skfda/preprocessing/dim_reduction/_fpca.py:281: RuntimeWarning: overflow encountered in matmul\n",
      "  X.coefficients @ self._j_matrix\n",
      "/opt/anaconda3/envs/alex_env/lib/python3.10/site-packages/skfda/preprocessing/dim_reduction/_fpca.py:281: RuntimeWarning: invalid value encountered in matmul\n",
      "  X.coefficients @ self._j_matrix\n"
     ]
    },
    {
     "name": "stdout",
     "output_type": "stream",
     "text": [
      "norms of the basis are: [1. 1. 1. 1. 1.]\n"
     ]
    },
    {
     "name": "stderr",
     "output_type": "stream",
     "text": [
      "/opt/anaconda3/envs/alex_env/lib/python3.10/site-packages/skfda/preprocessing/dim_reduction/_fpca.py:231: RuntimeWarning: divide by zero encountered in matmul\n",
      "  final_matrix = X.coefficients @ np.transpose(l_inv_j_t)\n",
      "/opt/anaconda3/envs/alex_env/lib/python3.10/site-packages/skfda/preprocessing/dim_reduction/_fpca.py:231: RuntimeWarning: overflow encountered in matmul\n",
      "  final_matrix = X.coefficients @ np.transpose(l_inv_j_t)\n",
      "/opt/anaconda3/envs/alex_env/lib/python3.10/site-packages/skfda/preprocessing/dim_reduction/_fpca.py:231: RuntimeWarning: invalid value encountered in matmul\n",
      "  final_matrix = X.coefficients @ np.transpose(l_inv_j_t)\n",
      "/opt/anaconda3/envs/alex_env/lib/python3.10/site-packages/skfda/preprocessing/dim_reduction/_fpca.py:281: RuntimeWarning: divide by zero encountered in matmul\n",
      "  X.coefficients @ self._j_matrix\n",
      "/opt/anaconda3/envs/alex_env/lib/python3.10/site-packages/skfda/preprocessing/dim_reduction/_fpca.py:281: RuntimeWarning: overflow encountered in matmul\n",
      "  X.coefficients @ self._j_matrix\n",
      "/opt/anaconda3/envs/alex_env/lib/python3.10/site-packages/skfda/preprocessing/dim_reduction/_fpca.py:281: RuntimeWarning: invalid value encountered in matmul\n",
      "  X.coefficients @ self._j_matrix\n"
     ]
    },
    {
     "name": "stdout",
     "output_type": "stream",
     "text": [
      "norms of the basis are: [1. 1. 1. 1. 1.]\n"
     ]
    },
    {
     "name": "stderr",
     "output_type": "stream",
     "text": [
      "/opt/anaconda3/envs/alex_env/lib/python3.10/site-packages/skfda/preprocessing/dim_reduction/_fpca.py:231: RuntimeWarning: divide by zero encountered in matmul\n",
      "  final_matrix = X.coefficients @ np.transpose(l_inv_j_t)\n",
      "/opt/anaconda3/envs/alex_env/lib/python3.10/site-packages/skfda/preprocessing/dim_reduction/_fpca.py:231: RuntimeWarning: overflow encountered in matmul\n",
      "  final_matrix = X.coefficients @ np.transpose(l_inv_j_t)\n",
      "/opt/anaconda3/envs/alex_env/lib/python3.10/site-packages/skfda/preprocessing/dim_reduction/_fpca.py:231: RuntimeWarning: invalid value encountered in matmul\n",
      "  final_matrix = X.coefficients @ np.transpose(l_inv_j_t)\n",
      "/opt/anaconda3/envs/alex_env/lib/python3.10/site-packages/skfda/preprocessing/dim_reduction/_fpca.py:281: RuntimeWarning: divide by zero encountered in matmul\n",
      "  X.coefficients @ self._j_matrix\n",
      "/opt/anaconda3/envs/alex_env/lib/python3.10/site-packages/skfda/preprocessing/dim_reduction/_fpca.py:281: RuntimeWarning: overflow encountered in matmul\n",
      "  X.coefficients @ self._j_matrix\n",
      "/opt/anaconda3/envs/alex_env/lib/python3.10/site-packages/skfda/preprocessing/dim_reduction/_fpca.py:281: RuntimeWarning: invalid value encountered in matmul\n",
      "  X.coefficients @ self._j_matrix\n"
     ]
    },
    {
     "name": "stdout",
     "output_type": "stream",
     "text": [
      "norms of the basis are: [1. 1. 1. 1. 1.]\n"
     ]
    },
    {
     "name": "stderr",
     "output_type": "stream",
     "text": [
      "/opt/anaconda3/envs/alex_env/lib/python3.10/site-packages/skfda/preprocessing/dim_reduction/_fpca.py:231: RuntimeWarning: divide by zero encountered in matmul\n",
      "  final_matrix = X.coefficients @ np.transpose(l_inv_j_t)\n",
      "/opt/anaconda3/envs/alex_env/lib/python3.10/site-packages/skfda/preprocessing/dim_reduction/_fpca.py:231: RuntimeWarning: overflow encountered in matmul\n",
      "  final_matrix = X.coefficients @ np.transpose(l_inv_j_t)\n",
      "/opt/anaconda3/envs/alex_env/lib/python3.10/site-packages/skfda/preprocessing/dim_reduction/_fpca.py:231: RuntimeWarning: invalid value encountered in matmul\n",
      "  final_matrix = X.coefficients @ np.transpose(l_inv_j_t)\n",
      "/opt/anaconda3/envs/alex_env/lib/python3.10/site-packages/skfda/preprocessing/dim_reduction/_fpca.py:281: RuntimeWarning: divide by zero encountered in matmul\n",
      "  X.coefficients @ self._j_matrix\n",
      "/opt/anaconda3/envs/alex_env/lib/python3.10/site-packages/skfda/preprocessing/dim_reduction/_fpca.py:281: RuntimeWarning: overflow encountered in matmul\n",
      "  X.coefficients @ self._j_matrix\n",
      "/opt/anaconda3/envs/alex_env/lib/python3.10/site-packages/skfda/preprocessing/dim_reduction/_fpca.py:281: RuntimeWarning: invalid value encountered in matmul\n",
      "  X.coefficients @ self._j_matrix\n"
     ]
    },
    {
     "name": "stdout",
     "output_type": "stream",
     "text": [
      "norms of the basis are: [1. 1. 1. 1. 1.]\n"
     ]
    },
    {
     "name": "stderr",
     "output_type": "stream",
     "text": [
      "/opt/anaconda3/envs/alex_env/lib/python3.10/site-packages/skfda/preprocessing/dim_reduction/_fpca.py:231: RuntimeWarning: divide by zero encountered in matmul\n",
      "  final_matrix = X.coefficients @ np.transpose(l_inv_j_t)\n",
      "/opt/anaconda3/envs/alex_env/lib/python3.10/site-packages/skfda/preprocessing/dim_reduction/_fpca.py:231: RuntimeWarning: overflow encountered in matmul\n",
      "  final_matrix = X.coefficients @ np.transpose(l_inv_j_t)\n",
      "/opt/anaconda3/envs/alex_env/lib/python3.10/site-packages/skfda/preprocessing/dim_reduction/_fpca.py:231: RuntimeWarning: invalid value encountered in matmul\n",
      "  final_matrix = X.coefficients @ np.transpose(l_inv_j_t)\n",
      "/opt/anaconda3/envs/alex_env/lib/python3.10/site-packages/skfda/preprocessing/dim_reduction/_fpca.py:281: RuntimeWarning: divide by zero encountered in matmul\n",
      "  X.coefficients @ self._j_matrix\n",
      "/opt/anaconda3/envs/alex_env/lib/python3.10/site-packages/skfda/preprocessing/dim_reduction/_fpca.py:281: RuntimeWarning: overflow encountered in matmul\n",
      "  X.coefficients @ self._j_matrix\n",
      "/opt/anaconda3/envs/alex_env/lib/python3.10/site-packages/skfda/preprocessing/dim_reduction/_fpca.py:281: RuntimeWarning: invalid value encountered in matmul\n",
      "  X.coefficients @ self._j_matrix\n"
     ]
    },
    {
     "name": "stdout",
     "output_type": "stream",
     "text": [
      "norms of the basis are: [1. 1. 1. 1. 1.]\n"
     ]
    },
    {
     "name": "stderr",
     "output_type": "stream",
     "text": [
      "/opt/anaconda3/envs/alex_env/lib/python3.10/site-packages/skfda/preprocessing/dim_reduction/_fpca.py:231: RuntimeWarning: divide by zero encountered in matmul\n",
      "  final_matrix = X.coefficients @ np.transpose(l_inv_j_t)\n",
      "/opt/anaconda3/envs/alex_env/lib/python3.10/site-packages/skfda/preprocessing/dim_reduction/_fpca.py:231: RuntimeWarning: overflow encountered in matmul\n",
      "  final_matrix = X.coefficients @ np.transpose(l_inv_j_t)\n",
      "/opt/anaconda3/envs/alex_env/lib/python3.10/site-packages/skfda/preprocessing/dim_reduction/_fpca.py:231: RuntimeWarning: invalid value encountered in matmul\n",
      "  final_matrix = X.coefficients @ np.transpose(l_inv_j_t)\n",
      "/opt/anaconda3/envs/alex_env/lib/python3.10/site-packages/skfda/preprocessing/dim_reduction/_fpca.py:281: RuntimeWarning: divide by zero encountered in matmul\n",
      "  X.coefficients @ self._j_matrix\n",
      "/opt/anaconda3/envs/alex_env/lib/python3.10/site-packages/skfda/preprocessing/dim_reduction/_fpca.py:281: RuntimeWarning: overflow encountered in matmul\n",
      "  X.coefficients @ self._j_matrix\n",
      "/opt/anaconda3/envs/alex_env/lib/python3.10/site-packages/skfda/preprocessing/dim_reduction/_fpca.py:281: RuntimeWarning: invalid value encountered in matmul\n",
      "  X.coefficients @ self._j_matrix\n"
     ]
    },
    {
     "name": "stdout",
     "output_type": "stream",
     "text": [
      "norms of the basis are: [1. 1. 1. 1. 1.]\n"
     ]
    },
    {
     "name": "stderr",
     "output_type": "stream",
     "text": [
      "/opt/anaconda3/envs/alex_env/lib/python3.10/site-packages/skfda/preprocessing/dim_reduction/_fpca.py:231: RuntimeWarning: divide by zero encountered in matmul\n",
      "  final_matrix = X.coefficients @ np.transpose(l_inv_j_t)\n",
      "/opt/anaconda3/envs/alex_env/lib/python3.10/site-packages/skfda/preprocessing/dim_reduction/_fpca.py:231: RuntimeWarning: overflow encountered in matmul\n",
      "  final_matrix = X.coefficients @ np.transpose(l_inv_j_t)\n",
      "/opt/anaconda3/envs/alex_env/lib/python3.10/site-packages/skfda/preprocessing/dim_reduction/_fpca.py:231: RuntimeWarning: invalid value encountered in matmul\n",
      "  final_matrix = X.coefficients @ np.transpose(l_inv_j_t)\n",
      "/opt/anaconda3/envs/alex_env/lib/python3.10/site-packages/skfda/preprocessing/dim_reduction/_fpca.py:281: RuntimeWarning: divide by zero encountered in matmul\n",
      "  X.coefficients @ self._j_matrix\n",
      "/opt/anaconda3/envs/alex_env/lib/python3.10/site-packages/skfda/preprocessing/dim_reduction/_fpca.py:281: RuntimeWarning: overflow encountered in matmul\n",
      "  X.coefficients @ self._j_matrix\n",
      "/opt/anaconda3/envs/alex_env/lib/python3.10/site-packages/skfda/preprocessing/dim_reduction/_fpca.py:281: RuntimeWarning: invalid value encountered in matmul\n",
      "  X.coefficients @ self._j_matrix\n"
     ]
    },
    {
     "name": "stdout",
     "output_type": "stream",
     "text": [
      "norms of the basis are: [1. 1. 1. 1. 1.]\n"
     ]
    },
    {
     "name": "stderr",
     "output_type": "stream",
     "text": [
      "/opt/anaconda3/envs/alex_env/lib/python3.10/site-packages/skfda/preprocessing/dim_reduction/_fpca.py:231: RuntimeWarning: divide by zero encountered in matmul\n",
      "  final_matrix = X.coefficients @ np.transpose(l_inv_j_t)\n",
      "/opt/anaconda3/envs/alex_env/lib/python3.10/site-packages/skfda/preprocessing/dim_reduction/_fpca.py:231: RuntimeWarning: overflow encountered in matmul\n",
      "  final_matrix = X.coefficients @ np.transpose(l_inv_j_t)\n",
      "/opt/anaconda3/envs/alex_env/lib/python3.10/site-packages/skfda/preprocessing/dim_reduction/_fpca.py:231: RuntimeWarning: invalid value encountered in matmul\n",
      "  final_matrix = X.coefficients @ np.transpose(l_inv_j_t)\n",
      "/opt/anaconda3/envs/alex_env/lib/python3.10/site-packages/skfda/preprocessing/dim_reduction/_fpca.py:281: RuntimeWarning: divide by zero encountered in matmul\n",
      "  X.coefficients @ self._j_matrix\n",
      "/opt/anaconda3/envs/alex_env/lib/python3.10/site-packages/skfda/preprocessing/dim_reduction/_fpca.py:281: RuntimeWarning: overflow encountered in matmul\n",
      "  X.coefficients @ self._j_matrix\n",
      "/opt/anaconda3/envs/alex_env/lib/python3.10/site-packages/skfda/preprocessing/dim_reduction/_fpca.py:281: RuntimeWarning: invalid value encountered in matmul\n",
      "  X.coefficients @ self._j_matrix\n"
     ]
    },
    {
     "name": "stdout",
     "output_type": "stream",
     "text": [
      "norms of the basis are: [1. 1. 1. 1. 1.]\n"
     ]
    },
    {
     "name": "stderr",
     "output_type": "stream",
     "text": [
      "/opt/anaconda3/envs/alex_env/lib/python3.10/site-packages/skfda/preprocessing/dim_reduction/_fpca.py:231: RuntimeWarning: divide by zero encountered in matmul\n",
      "  final_matrix = X.coefficients @ np.transpose(l_inv_j_t)\n",
      "/opt/anaconda3/envs/alex_env/lib/python3.10/site-packages/skfda/preprocessing/dim_reduction/_fpca.py:231: RuntimeWarning: overflow encountered in matmul\n",
      "  final_matrix = X.coefficients @ np.transpose(l_inv_j_t)\n",
      "/opt/anaconda3/envs/alex_env/lib/python3.10/site-packages/skfda/preprocessing/dim_reduction/_fpca.py:231: RuntimeWarning: invalid value encountered in matmul\n",
      "  final_matrix = X.coefficients @ np.transpose(l_inv_j_t)\n",
      "/opt/anaconda3/envs/alex_env/lib/python3.10/site-packages/skfda/preprocessing/dim_reduction/_fpca.py:281: RuntimeWarning: divide by zero encountered in matmul\n",
      "  X.coefficients @ self._j_matrix\n",
      "/opt/anaconda3/envs/alex_env/lib/python3.10/site-packages/skfda/preprocessing/dim_reduction/_fpca.py:281: RuntimeWarning: overflow encountered in matmul\n",
      "  X.coefficients @ self._j_matrix\n",
      "/opt/anaconda3/envs/alex_env/lib/python3.10/site-packages/skfda/preprocessing/dim_reduction/_fpca.py:281: RuntimeWarning: invalid value encountered in matmul\n",
      "  X.coefficients @ self._j_matrix\n"
     ]
    },
    {
     "name": "stdout",
     "output_type": "stream",
     "text": [
      "norms of the basis are: [1. 1. 1. 1. 1.]\n"
     ]
    },
    {
     "name": "stderr",
     "output_type": "stream",
     "text": [
      "/opt/anaconda3/envs/alex_env/lib/python3.10/site-packages/skfda/preprocessing/dim_reduction/_fpca.py:231: RuntimeWarning: divide by zero encountered in matmul\n",
      "  final_matrix = X.coefficients @ np.transpose(l_inv_j_t)\n",
      "/opt/anaconda3/envs/alex_env/lib/python3.10/site-packages/skfda/preprocessing/dim_reduction/_fpca.py:231: RuntimeWarning: overflow encountered in matmul\n",
      "  final_matrix = X.coefficients @ np.transpose(l_inv_j_t)\n",
      "/opt/anaconda3/envs/alex_env/lib/python3.10/site-packages/skfda/preprocessing/dim_reduction/_fpca.py:231: RuntimeWarning: invalid value encountered in matmul\n",
      "  final_matrix = X.coefficients @ np.transpose(l_inv_j_t)\n",
      "/opt/anaconda3/envs/alex_env/lib/python3.10/site-packages/skfda/preprocessing/dim_reduction/_fpca.py:281: RuntimeWarning: divide by zero encountered in matmul\n",
      "  X.coefficients @ self._j_matrix\n",
      "/opt/anaconda3/envs/alex_env/lib/python3.10/site-packages/skfda/preprocessing/dim_reduction/_fpca.py:281: RuntimeWarning: overflow encountered in matmul\n",
      "  X.coefficients @ self._j_matrix\n",
      "/opt/anaconda3/envs/alex_env/lib/python3.10/site-packages/skfda/preprocessing/dim_reduction/_fpca.py:281: RuntimeWarning: invalid value encountered in matmul\n",
      "  X.coefficients @ self._j_matrix\n"
     ]
    },
    {
     "name": "stdout",
     "output_type": "stream",
     "text": [
      "norms of the basis are: [1. 1. 1. 1. 1.]\n"
     ]
    },
    {
     "name": "stderr",
     "output_type": "stream",
     "text": [
      "/opt/anaconda3/envs/alex_env/lib/python3.10/site-packages/skfda/preprocessing/dim_reduction/_fpca.py:231: RuntimeWarning: divide by zero encountered in matmul\n",
      "  final_matrix = X.coefficients @ np.transpose(l_inv_j_t)\n",
      "/opt/anaconda3/envs/alex_env/lib/python3.10/site-packages/skfda/preprocessing/dim_reduction/_fpca.py:231: RuntimeWarning: overflow encountered in matmul\n",
      "  final_matrix = X.coefficients @ np.transpose(l_inv_j_t)\n",
      "/opt/anaconda3/envs/alex_env/lib/python3.10/site-packages/skfda/preprocessing/dim_reduction/_fpca.py:231: RuntimeWarning: invalid value encountered in matmul\n",
      "  final_matrix = X.coefficients @ np.transpose(l_inv_j_t)\n",
      "/opt/anaconda3/envs/alex_env/lib/python3.10/site-packages/skfda/preprocessing/dim_reduction/_fpca.py:281: RuntimeWarning: divide by zero encountered in matmul\n",
      "  X.coefficients @ self._j_matrix\n",
      "/opt/anaconda3/envs/alex_env/lib/python3.10/site-packages/skfda/preprocessing/dim_reduction/_fpca.py:281: RuntimeWarning: overflow encountered in matmul\n",
      "  X.coefficients @ self._j_matrix\n",
      "/opt/anaconda3/envs/alex_env/lib/python3.10/site-packages/skfda/preprocessing/dim_reduction/_fpca.py:281: RuntimeWarning: invalid value encountered in matmul\n",
      "  X.coefficients @ self._j_matrix\n"
     ]
    },
    {
     "name": "stdout",
     "output_type": "stream",
     "text": [
      "norms of the basis are: [1. 1. 1. 1. 1.]\n"
     ]
    },
    {
     "name": "stderr",
     "output_type": "stream",
     "text": [
      "/opt/anaconda3/envs/alex_env/lib/python3.10/site-packages/skfda/preprocessing/dim_reduction/_fpca.py:231: RuntimeWarning: divide by zero encountered in matmul\n",
      "  final_matrix = X.coefficients @ np.transpose(l_inv_j_t)\n",
      "/opt/anaconda3/envs/alex_env/lib/python3.10/site-packages/skfda/preprocessing/dim_reduction/_fpca.py:231: RuntimeWarning: overflow encountered in matmul\n",
      "  final_matrix = X.coefficients @ np.transpose(l_inv_j_t)\n",
      "/opt/anaconda3/envs/alex_env/lib/python3.10/site-packages/skfda/preprocessing/dim_reduction/_fpca.py:231: RuntimeWarning: invalid value encountered in matmul\n",
      "  final_matrix = X.coefficients @ np.transpose(l_inv_j_t)\n",
      "/opt/anaconda3/envs/alex_env/lib/python3.10/site-packages/skfda/preprocessing/dim_reduction/_fpca.py:281: RuntimeWarning: divide by zero encountered in matmul\n",
      "  X.coefficients @ self._j_matrix\n",
      "/opt/anaconda3/envs/alex_env/lib/python3.10/site-packages/skfda/preprocessing/dim_reduction/_fpca.py:281: RuntimeWarning: overflow encountered in matmul\n",
      "  X.coefficients @ self._j_matrix\n",
      "/opt/anaconda3/envs/alex_env/lib/python3.10/site-packages/skfda/preprocessing/dim_reduction/_fpca.py:281: RuntimeWarning: invalid value encountered in matmul\n",
      "  X.coefficients @ self._j_matrix\n"
     ]
    },
    {
     "name": "stdout",
     "output_type": "stream",
     "text": [
      "norms of the basis are: [1. 1. 1. 1. 1.]\n"
     ]
    },
    {
     "name": "stderr",
     "output_type": "stream",
     "text": [
      "/opt/anaconda3/envs/alex_env/lib/python3.10/site-packages/skfda/preprocessing/dim_reduction/_fpca.py:231: RuntimeWarning: divide by zero encountered in matmul\n",
      "  final_matrix = X.coefficients @ np.transpose(l_inv_j_t)\n",
      "/opt/anaconda3/envs/alex_env/lib/python3.10/site-packages/skfda/preprocessing/dim_reduction/_fpca.py:231: RuntimeWarning: overflow encountered in matmul\n",
      "  final_matrix = X.coefficients @ np.transpose(l_inv_j_t)\n",
      "/opt/anaconda3/envs/alex_env/lib/python3.10/site-packages/skfda/preprocessing/dim_reduction/_fpca.py:231: RuntimeWarning: invalid value encountered in matmul\n",
      "  final_matrix = X.coefficients @ np.transpose(l_inv_j_t)\n",
      "/opt/anaconda3/envs/alex_env/lib/python3.10/site-packages/skfda/preprocessing/dim_reduction/_fpca.py:281: RuntimeWarning: divide by zero encountered in matmul\n",
      "  X.coefficients @ self._j_matrix\n",
      "/opt/anaconda3/envs/alex_env/lib/python3.10/site-packages/skfda/preprocessing/dim_reduction/_fpca.py:281: RuntimeWarning: overflow encountered in matmul\n",
      "  X.coefficients @ self._j_matrix\n",
      "/opt/anaconda3/envs/alex_env/lib/python3.10/site-packages/skfda/preprocessing/dim_reduction/_fpca.py:281: RuntimeWarning: invalid value encountered in matmul\n",
      "  X.coefficients @ self._j_matrix\n"
     ]
    },
    {
     "name": "stdout",
     "output_type": "stream",
     "text": [
      "norms of the basis are: [1. 1. 1. 1. 1.]\n"
     ]
    },
    {
     "name": "stderr",
     "output_type": "stream",
     "text": [
      "/opt/anaconda3/envs/alex_env/lib/python3.10/site-packages/skfda/preprocessing/dim_reduction/_fpca.py:231: RuntimeWarning: divide by zero encountered in matmul\n",
      "  final_matrix = X.coefficients @ np.transpose(l_inv_j_t)\n",
      "/opt/anaconda3/envs/alex_env/lib/python3.10/site-packages/skfda/preprocessing/dim_reduction/_fpca.py:231: RuntimeWarning: overflow encountered in matmul\n",
      "  final_matrix = X.coefficients @ np.transpose(l_inv_j_t)\n",
      "/opt/anaconda3/envs/alex_env/lib/python3.10/site-packages/skfda/preprocessing/dim_reduction/_fpca.py:231: RuntimeWarning: invalid value encountered in matmul\n",
      "  final_matrix = X.coefficients @ np.transpose(l_inv_j_t)\n",
      "/opt/anaconda3/envs/alex_env/lib/python3.10/site-packages/skfda/preprocessing/dim_reduction/_fpca.py:281: RuntimeWarning: divide by zero encountered in matmul\n",
      "  X.coefficients @ self._j_matrix\n",
      "/opt/anaconda3/envs/alex_env/lib/python3.10/site-packages/skfda/preprocessing/dim_reduction/_fpca.py:281: RuntimeWarning: overflow encountered in matmul\n",
      "  X.coefficients @ self._j_matrix\n",
      "/opt/anaconda3/envs/alex_env/lib/python3.10/site-packages/skfda/preprocessing/dim_reduction/_fpca.py:281: RuntimeWarning: invalid value encountered in matmul\n",
      "  X.coefficients @ self._j_matrix\n"
     ]
    },
    {
     "name": "stdout",
     "output_type": "stream",
     "text": [
      "norms of the basis are: [1. 1. 1. 1. 1.]\n"
     ]
    },
    {
     "name": "stderr",
     "output_type": "stream",
     "text": [
      "/opt/anaconda3/envs/alex_env/lib/python3.10/site-packages/skfda/preprocessing/dim_reduction/_fpca.py:231: RuntimeWarning: divide by zero encountered in matmul\n",
      "  final_matrix = X.coefficients @ np.transpose(l_inv_j_t)\n",
      "/opt/anaconda3/envs/alex_env/lib/python3.10/site-packages/skfda/preprocessing/dim_reduction/_fpca.py:231: RuntimeWarning: overflow encountered in matmul\n",
      "  final_matrix = X.coefficients @ np.transpose(l_inv_j_t)\n",
      "/opt/anaconda3/envs/alex_env/lib/python3.10/site-packages/skfda/preprocessing/dim_reduction/_fpca.py:231: RuntimeWarning: invalid value encountered in matmul\n",
      "  final_matrix = X.coefficients @ np.transpose(l_inv_j_t)\n",
      "/opt/anaconda3/envs/alex_env/lib/python3.10/site-packages/skfda/preprocessing/dim_reduction/_fpca.py:281: RuntimeWarning: divide by zero encountered in matmul\n",
      "  X.coefficients @ self._j_matrix\n",
      "/opt/anaconda3/envs/alex_env/lib/python3.10/site-packages/skfda/preprocessing/dim_reduction/_fpca.py:281: RuntimeWarning: overflow encountered in matmul\n",
      "  X.coefficients @ self._j_matrix\n",
      "/opt/anaconda3/envs/alex_env/lib/python3.10/site-packages/skfda/preprocessing/dim_reduction/_fpca.py:281: RuntimeWarning: invalid value encountered in matmul\n",
      "  X.coefficients @ self._j_matrix\n"
     ]
    },
    {
     "name": "stdout",
     "output_type": "stream",
     "text": [
      "norms of the basis are: [1. 1. 1. 1. 1.]\n"
     ]
    },
    {
     "name": "stderr",
     "output_type": "stream",
     "text": [
      "/opt/anaconda3/envs/alex_env/lib/python3.10/site-packages/skfda/preprocessing/dim_reduction/_fpca.py:231: RuntimeWarning: divide by zero encountered in matmul\n",
      "  final_matrix = X.coefficients @ np.transpose(l_inv_j_t)\n",
      "/opt/anaconda3/envs/alex_env/lib/python3.10/site-packages/skfda/preprocessing/dim_reduction/_fpca.py:231: RuntimeWarning: overflow encountered in matmul\n",
      "  final_matrix = X.coefficients @ np.transpose(l_inv_j_t)\n",
      "/opt/anaconda3/envs/alex_env/lib/python3.10/site-packages/skfda/preprocessing/dim_reduction/_fpca.py:231: RuntimeWarning: invalid value encountered in matmul\n",
      "  final_matrix = X.coefficients @ np.transpose(l_inv_j_t)\n",
      "/opt/anaconda3/envs/alex_env/lib/python3.10/site-packages/skfda/preprocessing/dim_reduction/_fpca.py:281: RuntimeWarning: divide by zero encountered in matmul\n",
      "  X.coefficients @ self._j_matrix\n",
      "/opt/anaconda3/envs/alex_env/lib/python3.10/site-packages/skfda/preprocessing/dim_reduction/_fpca.py:281: RuntimeWarning: overflow encountered in matmul\n",
      "  X.coefficients @ self._j_matrix\n",
      "/opt/anaconda3/envs/alex_env/lib/python3.10/site-packages/skfda/preprocessing/dim_reduction/_fpca.py:281: RuntimeWarning: invalid value encountered in matmul\n",
      "  X.coefficients @ self._j_matrix\n"
     ]
    },
    {
     "name": "stdout",
     "output_type": "stream",
     "text": [
      "norms of the basis are: [1. 1. 1. 1. 1.]\n"
     ]
    },
    {
     "name": "stderr",
     "output_type": "stream",
     "text": [
      "/opt/anaconda3/envs/alex_env/lib/python3.10/site-packages/skfda/preprocessing/dim_reduction/_fpca.py:231: RuntimeWarning: divide by zero encountered in matmul\n",
      "  final_matrix = X.coefficients @ np.transpose(l_inv_j_t)\n",
      "/opt/anaconda3/envs/alex_env/lib/python3.10/site-packages/skfda/preprocessing/dim_reduction/_fpca.py:231: RuntimeWarning: overflow encountered in matmul\n",
      "  final_matrix = X.coefficients @ np.transpose(l_inv_j_t)\n",
      "/opt/anaconda3/envs/alex_env/lib/python3.10/site-packages/skfda/preprocessing/dim_reduction/_fpca.py:231: RuntimeWarning: invalid value encountered in matmul\n",
      "  final_matrix = X.coefficients @ np.transpose(l_inv_j_t)\n",
      "/opt/anaconda3/envs/alex_env/lib/python3.10/site-packages/skfda/preprocessing/dim_reduction/_fpca.py:281: RuntimeWarning: divide by zero encountered in matmul\n",
      "  X.coefficients @ self._j_matrix\n",
      "/opt/anaconda3/envs/alex_env/lib/python3.10/site-packages/skfda/preprocessing/dim_reduction/_fpca.py:281: RuntimeWarning: overflow encountered in matmul\n",
      "  X.coefficients @ self._j_matrix\n",
      "/opt/anaconda3/envs/alex_env/lib/python3.10/site-packages/skfda/preprocessing/dim_reduction/_fpca.py:281: RuntimeWarning: invalid value encountered in matmul\n",
      "  X.coefficients @ self._j_matrix\n"
     ]
    },
    {
     "name": "stdout",
     "output_type": "stream",
     "text": [
      "norms of the basis are: [1. 1. 1. 1. 1.]\n"
     ]
    },
    {
     "name": "stderr",
     "output_type": "stream",
     "text": [
      "/opt/anaconda3/envs/alex_env/lib/python3.10/site-packages/skfda/preprocessing/dim_reduction/_fpca.py:231: RuntimeWarning: divide by zero encountered in matmul\n",
      "  final_matrix = X.coefficients @ np.transpose(l_inv_j_t)\n",
      "/opt/anaconda3/envs/alex_env/lib/python3.10/site-packages/skfda/preprocessing/dim_reduction/_fpca.py:231: RuntimeWarning: overflow encountered in matmul\n",
      "  final_matrix = X.coefficients @ np.transpose(l_inv_j_t)\n",
      "/opt/anaconda3/envs/alex_env/lib/python3.10/site-packages/skfda/preprocessing/dim_reduction/_fpca.py:231: RuntimeWarning: invalid value encountered in matmul\n",
      "  final_matrix = X.coefficients @ np.transpose(l_inv_j_t)\n",
      "/opt/anaconda3/envs/alex_env/lib/python3.10/site-packages/skfda/preprocessing/dim_reduction/_fpca.py:281: RuntimeWarning: divide by zero encountered in matmul\n",
      "  X.coefficients @ self._j_matrix\n",
      "/opt/anaconda3/envs/alex_env/lib/python3.10/site-packages/skfda/preprocessing/dim_reduction/_fpca.py:281: RuntimeWarning: overflow encountered in matmul\n",
      "  X.coefficients @ self._j_matrix\n",
      "/opt/anaconda3/envs/alex_env/lib/python3.10/site-packages/skfda/preprocessing/dim_reduction/_fpca.py:281: RuntimeWarning: invalid value encountered in matmul\n",
      "  X.coefficients @ self._j_matrix\n"
     ]
    },
    {
     "name": "stdout",
     "output_type": "stream",
     "text": [
      "norms of the basis are: [1. 1. 1. 1. 1.]\n"
     ]
    },
    {
     "name": "stderr",
     "output_type": "stream",
     "text": [
      "/opt/anaconda3/envs/alex_env/lib/python3.10/site-packages/skfda/preprocessing/dim_reduction/_fpca.py:231: RuntimeWarning: divide by zero encountered in matmul\n",
      "  final_matrix = X.coefficients @ np.transpose(l_inv_j_t)\n",
      "/opt/anaconda3/envs/alex_env/lib/python3.10/site-packages/skfda/preprocessing/dim_reduction/_fpca.py:231: RuntimeWarning: overflow encountered in matmul\n",
      "  final_matrix = X.coefficients @ np.transpose(l_inv_j_t)\n",
      "/opt/anaconda3/envs/alex_env/lib/python3.10/site-packages/skfda/preprocessing/dim_reduction/_fpca.py:231: RuntimeWarning: invalid value encountered in matmul\n",
      "  final_matrix = X.coefficients @ np.transpose(l_inv_j_t)\n",
      "/opt/anaconda3/envs/alex_env/lib/python3.10/site-packages/skfda/preprocessing/dim_reduction/_fpca.py:281: RuntimeWarning: divide by zero encountered in matmul\n",
      "  X.coefficients @ self._j_matrix\n",
      "/opt/anaconda3/envs/alex_env/lib/python3.10/site-packages/skfda/preprocessing/dim_reduction/_fpca.py:281: RuntimeWarning: overflow encountered in matmul\n",
      "  X.coefficients @ self._j_matrix\n",
      "/opt/anaconda3/envs/alex_env/lib/python3.10/site-packages/skfda/preprocessing/dim_reduction/_fpca.py:281: RuntimeWarning: invalid value encountered in matmul\n",
      "  X.coefficients @ self._j_matrix\n"
     ]
    },
    {
     "name": "stdout",
     "output_type": "stream",
     "text": [
      "norms of the basis are: [1. 1. 1. 1. 1.]\n"
     ]
    },
    {
     "name": "stderr",
     "output_type": "stream",
     "text": [
      "/opt/anaconda3/envs/alex_env/lib/python3.10/site-packages/skfda/preprocessing/dim_reduction/_fpca.py:231: RuntimeWarning: divide by zero encountered in matmul\n",
      "  final_matrix = X.coefficients @ np.transpose(l_inv_j_t)\n",
      "/opt/anaconda3/envs/alex_env/lib/python3.10/site-packages/skfda/preprocessing/dim_reduction/_fpca.py:231: RuntimeWarning: overflow encountered in matmul\n",
      "  final_matrix = X.coefficients @ np.transpose(l_inv_j_t)\n",
      "/opt/anaconda3/envs/alex_env/lib/python3.10/site-packages/skfda/preprocessing/dim_reduction/_fpca.py:231: RuntimeWarning: invalid value encountered in matmul\n",
      "  final_matrix = X.coefficients @ np.transpose(l_inv_j_t)\n",
      "/opt/anaconda3/envs/alex_env/lib/python3.10/site-packages/skfda/preprocessing/dim_reduction/_fpca.py:281: RuntimeWarning: divide by zero encountered in matmul\n",
      "  X.coefficients @ self._j_matrix\n",
      "/opt/anaconda3/envs/alex_env/lib/python3.10/site-packages/skfda/preprocessing/dim_reduction/_fpca.py:281: RuntimeWarning: overflow encountered in matmul\n",
      "  X.coefficients @ self._j_matrix\n",
      "/opt/anaconda3/envs/alex_env/lib/python3.10/site-packages/skfda/preprocessing/dim_reduction/_fpca.py:281: RuntimeWarning: invalid value encountered in matmul\n",
      "  X.coefficients @ self._j_matrix\n"
     ]
    },
    {
     "name": "stdout",
     "output_type": "stream",
     "text": [
      "norms of the basis are: [1. 1. 1. 1. 1.]\n"
     ]
    },
    {
     "name": "stderr",
     "output_type": "stream",
     "text": [
      "/opt/anaconda3/envs/alex_env/lib/python3.10/site-packages/skfda/preprocessing/dim_reduction/_fpca.py:231: RuntimeWarning: divide by zero encountered in matmul\n",
      "  final_matrix = X.coefficients @ np.transpose(l_inv_j_t)\n",
      "/opt/anaconda3/envs/alex_env/lib/python3.10/site-packages/skfda/preprocessing/dim_reduction/_fpca.py:231: RuntimeWarning: overflow encountered in matmul\n",
      "  final_matrix = X.coefficients @ np.transpose(l_inv_j_t)\n",
      "/opt/anaconda3/envs/alex_env/lib/python3.10/site-packages/skfda/preprocessing/dim_reduction/_fpca.py:231: RuntimeWarning: invalid value encountered in matmul\n",
      "  final_matrix = X.coefficients @ np.transpose(l_inv_j_t)\n",
      "/opt/anaconda3/envs/alex_env/lib/python3.10/site-packages/skfda/preprocessing/dim_reduction/_fpca.py:281: RuntimeWarning: divide by zero encountered in matmul\n",
      "  X.coefficients @ self._j_matrix\n",
      "/opt/anaconda3/envs/alex_env/lib/python3.10/site-packages/skfda/preprocessing/dim_reduction/_fpca.py:281: RuntimeWarning: overflow encountered in matmul\n",
      "  X.coefficients @ self._j_matrix\n",
      "/opt/anaconda3/envs/alex_env/lib/python3.10/site-packages/skfda/preprocessing/dim_reduction/_fpca.py:281: RuntimeWarning: invalid value encountered in matmul\n",
      "  X.coefficients @ self._j_matrix\n"
     ]
    },
    {
     "ename": "KeyboardInterrupt",
     "evalue": "",
     "output_type": "error",
     "traceback": [
      "\u001b[0;31m---------------------------------------------------------------------------\u001b[0m",
      "\u001b[0;31mKeyboardInterrupt\u001b[0m                         Traceback (most recent call last)",
      "Cell \u001b[0;32mIn[10], line 18\u001b[0m\n\u001b[1;32m     16\u001b[0m \u001b[38;5;28mprint\u001b[39m(band)\n\u001b[1;32m     17\u001b[0m \u001b[38;5;66;03m# Estimate long-run covariance\u001b[39;00m\n\u001b[0;32m---> 18\u001b[0m empirical_cov_far2 \u001b[38;5;241m=\u001b[39m \u001b[43mestimate_empirical_truth_farma\u001b[49m\u001b[43m(\u001b[49m\n\u001b[1;32m     19\u001b[0m \u001b[43m    \u001b[49m\u001b[43mN\u001b[49m\u001b[38;5;241;43m=\u001b[39;49m\u001b[43mN\u001b[49m\u001b[43m,\u001b[49m\u001b[43m \u001b[49m\u001b[43md_large\u001b[49m\u001b[38;5;241;43m=\u001b[39;49m\u001b[43md_large\u001b[49m\u001b[43m,\u001b[49m\u001b[43m \u001b[49m\u001b[43mJ\u001b[49m\u001b[38;5;241;43m=\u001b[39;49m\u001b[43mJ\u001b[49m\u001b[43m,\u001b[49m\u001b[43m \u001b[49m\u001b[43mn_components\u001b[49m\u001b[38;5;241;43m=\u001b[39;49m\u001b[43mJ\u001b[49m\u001b[43m,\u001b[49m\n\u001b[1;32m     20\u001b[0m \u001b[43m    \u001b[49m\u001b[43mPhi1\u001b[49m\u001b[38;5;241;43m=\u001b[39;49m\u001b[43mpsi1\u001b[49m\u001b[43m,\u001b[49m\n\u001b[1;32m     21\u001b[0m \u001b[43m    \u001b[49m\u001b[43mPhi2\u001b[49m\u001b[38;5;241;43m=\u001b[39;49m\u001b[43mpsi2\u001b[49m\u001b[43m,\u001b[49m\n\u001b[1;32m     22\u001b[0m \u001b[43m    \u001b[49m\u001b[43mSigma\u001b[49m\u001b[38;5;241;43m=\u001b[39;49m\u001b[43mSigma\u001b[49m\u001b[43m,\u001b[49m\n\u001b[1;32m     23\u001b[0m \u001b[43m    \u001b[49m\u001b[43mband\u001b[49m\u001b[43m \u001b[49m\u001b[38;5;241;43m=\u001b[39;49m\u001b[43m \u001b[49m\u001b[43mband\u001b[49m\u001b[43m,\u001b[49m\n\u001b[1;32m     24\u001b[0m \u001b[43m    \u001b[49m\u001b[43mkern_type\u001b[49m\u001b[38;5;241;43m=\u001b[39;49m\u001b[43mkernel\u001b[49m\u001b[43m,\u001b[49m\n\u001b[1;32m     25\u001b[0m \u001b[43m    \u001b[49m\u001b[43mseed_offset\u001b[49m\u001b[38;5;241;43m=\u001b[39;49m\u001b[38;5;241;43m0\u001b[39;49m\n\u001b[1;32m     26\u001b[0m \u001b[43m\u001b[49m\u001b[43m)\u001b[49m\n",
      "Cell \u001b[0;32mIn[9], line 65\u001b[0m, in \u001b[0;36mestimate_empirical_truth_farma\u001b[0;34m(N, d_large, J, n_components, Phi1, Phi2, Theta1, Theta2, Sigma, band, kern_type, seed_offset)\u001b[0m\n\u001b[1;32m     62\u001b[0m     X \u001b[38;5;241m=\u001b[39m torch\u001b[38;5;241m.\u001b[39mtensor(scores_centered, dtype\u001b[38;5;241m=\u001b[39mtorch\u001b[38;5;241m.\u001b[39mfloat32)\n\u001b[1;32m     64\u001b[0m     \u001b[38;5;66;03m# Long-run covariance\u001b[39;00m\n\u001b[0;32m---> 65\u001b[0m     cov_weighted, _, _ \u001b[38;5;241m=\u001b[39m \u001b[43mcov_l\u001b[49m\u001b[43m(\u001b[49m\u001b[43mX\u001b[49m\u001b[43m,\u001b[49m\u001b[43m \u001b[49m\u001b[43mporder\u001b[49m\u001b[38;5;241;43m=\u001b[39;49m\u001b[38;5;241;43m0\u001b[39;49m\u001b[43m,\u001b[49m\u001b[43m \u001b[49m\u001b[43mband\u001b[49m\u001b[38;5;241;43m=\u001b[39;49m\u001b[43mband\u001b[49m\u001b[43m,\u001b[49m\u001b[43m \u001b[49m\u001b[43mkern_type\u001b[49m\u001b[38;5;241;43m=\u001b[39;49m\u001b[43mkern_type\u001b[49m\u001b[43m)\u001b[49m\n\u001b[1;32m     66\u001b[0m     cov_matrices\u001b[38;5;241m.\u001b[39mappend(cov_weighted\u001b[38;5;241m.\u001b[39mnumpy())\n\u001b[1;32m     68\u001b[0m empirical_truth \u001b[38;5;241m=\u001b[39m np\u001b[38;5;241m.\u001b[39mmean(np\u001b[38;5;241m.\u001b[39mstack(cov_matrices, axis\u001b[38;5;241m=\u001b[39m\u001b[38;5;241m0\u001b[39m), axis\u001b[38;5;241m=\u001b[39m\u001b[38;5;241m0\u001b[39m)\n",
      "File \u001b[0;32m~/Desktop/Desktop - XINYI的MacBook Pro/UCDavis/research_alex/long-run-covariance/codes/models_HLS.py:103\u001b[0m, in \u001b[0;36mcov_l\u001b[0;34m(center_dat, porder, band, kern_type)\u001b[0m\n\u001b[1;32m    101\u001b[0m     \u001b[38;5;28;01mbreak\u001b[39;00m\n\u001b[1;32m    102\u001b[0m weight \u001b[38;5;241m=\u001b[39m kweights(torch\u001b[38;5;241m.\u001b[39mtensor([u]), kernel\u001b[38;5;241m=\u001b[39mkern_type)\n\u001b[0;32m--> 103\u001b[0m gamma_k \u001b[38;5;241m=\u001b[39m \u001b[43mgamma_l\u001b[49m\u001b[43m(\u001b[49m\u001b[43mcenter_dat\u001b[49m\u001b[43m,\u001b[49m\u001b[43m \u001b[49m\u001b[43mik\u001b[49m\u001b[43m)\u001b[49m\n\u001b[1;32m    104\u001b[0m term \u001b[38;5;241m=\u001b[39m (\u001b[38;5;28mabs\u001b[39m(ik) \u001b[38;5;241m*\u001b[39m\u001b[38;5;241m*\u001b[39m porder) \u001b[38;5;241m*\u001b[39m (gamma_k \u001b[38;5;241m+\u001b[39m gamma_k\u001b[38;5;241m.\u001b[39mT)\n\u001b[1;32m    105\u001b[0m cov_weighted \u001b[38;5;241m+\u001b[39m\u001b[38;5;241m=\u001b[39m weight \u001b[38;5;241m*\u001b[39m term\n",
      "File \u001b[0;32m~/Desktop/Desktop - XINYI的MacBook Pro/UCDavis/research_alex/long-run-covariance/codes/models_HLS.py:17\u001b[0m, in \u001b[0;36mgamma_l\u001b[0;34m(center_dat, lag)\u001b[0m\n\u001b[1;32m     15\u001b[0m         x \u001b[38;5;241m=\u001b[39m center_dat[ij]\u001b[38;5;241m.\u001b[39munsqueeze(\u001b[38;5;241m1\u001b[39m)         \u001b[38;5;66;03m# shape (J, 1)\u001b[39;00m\n\u001b[1;32m     16\u001b[0m         y \u001b[38;5;241m=\u001b[39m center_dat[ij \u001b[38;5;241m+\u001b[39m lag]\u001b[38;5;241m.\u001b[39munsqueeze(\u001b[38;5;241m1\u001b[39m)   \u001b[38;5;66;03m# shape (J, 1)\u001b[39;00m\n\u001b[0;32m---> 17\u001b[0m         gamma_lag_sum \u001b[38;5;241m+\u001b[39m\u001b[38;5;241m=\u001b[39m x \u001b[38;5;241m@\u001b[39m y\u001b[38;5;241m.\u001b[39mT                \u001b[38;5;66;03m# outer product\u001b[39;00m\n\u001b[1;32m     18\u001b[0m \u001b[38;5;28;01melse\u001b[39;00m:\n\u001b[1;32m     19\u001b[0m     \u001b[38;5;28;01mfor\u001b[39;00m ij \u001b[38;5;129;01min\u001b[39;00m \u001b[38;5;28mrange\u001b[39m(d \u001b[38;5;241m+\u001b[39m lag):\n",
      "\u001b[0;31mKeyboardInterrupt\u001b[0m: "
     ]
    }
   ],
   "source": [
    "# Parameters\n",
    "J = 5\n",
    "N = 500\n",
    "d_large = 100000\n",
    "kernel = \"Bartlett\"            # choose from \"Bartlett\",\"Parzen\",\"TH\", \"QS\"\n",
    "\n",
    "Sigma = 1.0 / np.arange(1, J + 1)\n",
    "psi1 = 0.5 * np.eye(J)\n",
    "psi2 = -0.2 * np.eye(J)\n",
    "#band_list = [2,3,4,5]\n",
    "band_list = [2,4,5]\n",
    "\n",
    "for bandtype in band_list:\n",
    "    # Compute bandwidth\n",
    "    band = round(d_large ** (1 / bandtype))\n",
    "    print(band)\n",
    "    # Estimate long-run covariance\n",
    "    empirical_cov_far2 = estimate_empirical_truth_farma(\n",
    "        N=N, d_large=d_large, J=J, n_components=J,\n",
    "        Phi1=psi1,\n",
    "        Phi2=psi2,\n",
    "        Sigma=Sigma,\n",
    "        band = band,\n",
    "        kern_type=kernel,\n",
    "        seed_offset=0\n",
    "    )\n"
   ]
  },
  {
   "cell_type": "code",
   "execution_count": null,
   "metadata": {},
   "outputs": [],
   "source": [
    "import os\n",
    "\n",
    "# Ensure folder exists\n",
    "os.makedirs(\"true_LRcov\", exist_ok=True)\n",
    "\n",
    "# Save path\n",
    "filename = f\"true_LRcov/empirical_cov_far2_N{N}_d{d_large}_band{band}_kernel{kernel}.csv\"\n",
    "\n",
    "# Save the matrix\n",
    "np.savetxt(filename, empirical_cov_far2, delimiter=\",\")\n",
    "print(f\"Saved to: {filename}\")"
   ]
  },
  {
   "cell_type": "code",
   "execution_count": null,
   "metadata": {},
   "outputs": [],
   "source": [
    "# Parameters\n",
    "J = 5\n",
    "N = 500\n",
    "d_large = 100000\n",
    "band = round(d_large ** (1 / 3))\n",
    "kernel = \"Bartlett\"\n",
    "\n",
    "# Operators for FARMA(2,2)\n",
    "phi1 = 0.5 * np.eye(J)\n",
    "phi2 = np.zeros((J, J))\n",
    "theta1 = 0.5 * np.eye(J)\n",
    "theta2 = 0.5 * np.eye(J)\n",
    "sigma = 1.0 / np.arange(1, J + 1)\n",
    "\n",
    "# Estimate empirical truth\n",
    "empirical_cov_farma22 = estimate_empirical_truth_farma(\n",
    "    N=N,\n",
    "    d_large=d_large,\n",
    "    J=J,\n",
    "    n_components=J,\n",
    "    Phi1=phi1,\n",
    "    Phi2=phi2,\n",
    "    Theta1=theta1,\n",
    "    Theta2=theta2,\n",
    "    Sigma=sigma,\n",
    "    band=band,\n",
    "    kern_type=kernel,\n",
    "    seed_offset=0\n",
    ")\n"
   ]
  },
  {
   "cell_type": "code",
   "execution_count": null,
   "metadata": {},
   "outputs": [],
   "source": [
    "# Save\n",
    "import os\n",
    "os.makedirs(\"true_LRcov\", exist_ok=True)\n",
    "filename = f\"true_LRcov/empirical_cov_farma22_N{N}_d{d_large}_band{band}_kernel{kernel}.csv\"\n",
    "np.savetxt(filename, empirical_cov_farma22, delimiter=\",\")\n",
    "\n",
    "print(f\"Saved FARMA(2,2) empirical truth to: {filename}\")\n"
   ]
  }
 ],
 "metadata": {
  "kernelspec": {
   "display_name": "alex_env",
   "language": "python",
   "name": "python3"
  },
  "language_info": {
   "codemirror_mode": {
    "name": "ipython",
    "version": 3
   },
   "file_extension": ".py",
   "mimetype": "text/x-python",
   "name": "python",
   "nbconvert_exporter": "python",
   "pygments_lexer": "ipython3",
   "version": "3.10.16"
  }
 },
 "nbformat": 4,
 "nbformat_minor": 2
}
